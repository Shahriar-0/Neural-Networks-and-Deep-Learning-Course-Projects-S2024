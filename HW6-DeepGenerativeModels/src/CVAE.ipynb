{
 "cells": [
  {
   "cell_type": "code",
   "execution_count": 46,
   "metadata": {},
   "outputs": [],
   "source": [
    "import os\n",
    "import time\n",
    "import cv2\n",
    "import tensorflow as tf\n",
    "from keras import layers, Model\n",
    "import matplotlib.pyplot as plt\n",
    "import numpy as np\n",
    "from keras import backend as K\n",
    "from keras.layers import (\n",
    "    Input,\n",
    "    Dense,\n",
    "    Conv2D,\n",
    "    MaxPooling2D,\n",
    "    UpSampling2D,\n",
    "    Flatten,\n",
    "    Reshape,\n",
    "    Conv2DTranspose,\n",
    "    LeakyReLU,\n",
    "    BatchNormalization,\n",
    "    Activation,\n",
    "    Dropout,\n",
    "    Rescaling,\n",
    "    Concatenate,\n",
    ")\n",
    "import matplotlib.pyplot as plt\n",
    "from keras.optimizers import Adam\n",
    "from keras.utils import to_categorical\n",
    "from keras.losses import MeanSquaredError"
   ]
  },
  {
   "cell_type": "code",
   "execution_count": 32,
   "metadata": {},
   "outputs": [
    {
     "name": "stdout",
     "output_type": "stream",
     "text": [
      "[PhysicalDevice(name='/physical_device:GPU:0', device_type='GPU')]\n"
     ]
    }
   ],
   "source": [
    "print(tf.config.list_physical_devices(\"GPU\"))\n",
    "K.clear_session()"
   ]
  },
  {
   "cell_type": "code",
   "execution_count": 33,
   "metadata": {},
   "outputs": [],
   "source": [
    "os.environ[\"CUDA_VISIBLE_DEVICES\"] = \"0\""
   ]
  },
  {
   "cell_type": "code",
   "execution_count": 34,
   "metadata": {},
   "outputs": [],
   "source": [
    "img_height, img_width = 256, 256\n",
    "batch_size = 32"
   ]
  },
  {
   "cell_type": "code",
   "execution_count": 35,
   "metadata": {},
   "outputs": [
    {
     "name": "stdout",
     "output_type": "stream",
     "text": [
      "Found 63565 files belonging to 1 classes.\n"
     ]
    }
   ],
   "source": [
    "anime_train_ds = tf.keras.preprocessing.image_dataset_from_directory(\n",
    "    \"../data/anime_face/images\",\n",
    "    image_size=(img_height, img_width),\n",
    "    batch_size=batch_size,\n",
    "    label_mode=None,\n",
    ")"
   ]
  },
  {
   "cell_type": "code",
   "execution_count": 36,
   "metadata": {},
   "outputs": [
    {
     "name": "stdout",
     "output_type": "stream",
     "text": [
      "Found 10000 files belonging to 1 classes.\n",
      "Found 10000 files belonging to 1 classes.\n",
      "Found 10000 files belonging to 1 classes.\n",
      "Found 10000 files belonging to 1 classes.\n",
      "Found 10000 files belonging to 1 classes.\n"
     ]
    }
   ],
   "source": [
    "cartoon_train_ds = None\n",
    "\n",
    "for i in range(5):\n",
    "    cartoon_ds = tf.keras.preprocessing.image_dataset_from_directory(\n",
    "        f\"../data/cartoonset100k_jpg/{i}\",\n",
    "        image_size=(img_height, img_width),\n",
    "        batch_size=batch_size,\n",
    "        label_mode=None,\n",
    "    )\n",
    "    if cartoon_train_ds is None:\n",
    "        cartoon_train_ds = cartoon_ds\n",
    "    else:\n",
    "        cartoon_train_ds = cartoon_train_ds.concatenate(cartoon_ds)"
   ]
  },
  {
   "cell_type": "code",
   "execution_count": 37,
   "metadata": {},
   "outputs": [],
   "source": [
    "anime_label = to_categorical([0] * batch_size, num_classes=2)\n",
    "cartoon_label = to_categorical([1] * batch_size, num_classes=2)"
   ]
  },
  {
   "cell_type": "code",
   "execution_count": 38,
   "metadata": {},
   "outputs": [],
   "source": [
    "anime_train_ds = anime_train_ds.map(lambda x: (x, anime_label))\n",
    "cartoon_train_ds = cartoon_train_ds.map(lambda x: (x, cartoon_label))"
   ]
  },
  {
   "cell_type": "code",
   "execution_count": 39,
   "metadata": {},
   "outputs": [],
   "source": [
    "combined_ds = tf.data.Dataset.sample_from_datasets([anime_train_ds, cartoon_train_ds], [0.5, 0.5])"
   ]
  },
  {
   "cell_type": "code",
   "execution_count": 40,
   "metadata": {},
   "outputs": [],
   "source": [
    "label_dim = 2\n",
    "latent_dim = 128\n",
    "filters = 32"
   ]
  },
  {
   "cell_type": "code",
   "execution_count": 41,
   "metadata": {},
   "outputs": [],
   "source": [
    "def encoder(input_shape, label_dim, filters, latent_dim):\n",
    "    x = Input(shape=input_shape)\n",
    "    y = Input(shape=(label_dim,))\n",
    "    \n",
    "    y_reshaped = Dense(input_shape[0] * input_shape[1] * input_shape[2])(y)\n",
    "    y_reshaped = Reshape((input_shape[0], input_shape[1], input_shape[2]))(y_reshaped)\n",
    "    \n",
    "    inputs = Concatenate(axis=-1)([x, y_reshaped])\n",
    "\n",
    "    conv1 = Conv2D(filters, kernel_size=3, strides=2, activation=\"relu\", padding=\"same\")(inputs)\n",
    "    conv2 = Conv2D(filters * 2, kernel_size=3, strides=2, activation=\"relu\", padding=\"same\")(conv1)\n",
    "    conv3 = Conv2D(filters * 4, kernel_size=3, strides=2, activation=\"relu\", padding=\"same\")(conv2)\n",
    "    conv4 = Conv2D(filters * 8, kernel_size=3, strides=2, activation=\"relu\", padding=\"same\")(conv3)\n",
    "\n",
    "    flattened = Flatten()(conv4)\n",
    "    z_mean = Dense(latent_dim)(flattened)\n",
    "    z_log_var = Dense(latent_dim)(flattened)\n",
    "\n",
    "    return Model([x, y], [z_mean, z_log_var], name=\"encoder\")"
   ]
  },
  {
   "cell_type": "code",
   "execution_count": 42,
   "metadata": {},
   "outputs": [],
   "source": [
    "def decoder(input_shape, label_dim, filters, latent_dim):\n",
    "    z = Input(shape=(latent_dim,))\n",
    "    y = Input(shape=(label_dim,))\n",
    "    \n",
    "    inputs = Concatenate()([z, y])\n",
    "\n",
    "    hidden = Dense(16 * 16 * filters * 8, activation=\"relu\")(inputs)\n",
    "    reshaped = Reshape((16, 16, filters * 8))(hidden)\n",
    "\n",
    "    deconv1 = Conv2DTranspose(filters * 8, kernel_size=3, strides=2, activation=\"relu\", padding=\"same\")(reshaped)\n",
    "    deconv2 = Conv2DTranspose(filters * 4, kernel_size=3, strides=2, activation=\"relu\", padding=\"same\")(deconv1)\n",
    "    deconv3 = Conv2DTranspose(filters * 2, kernel_size=3, strides=2, activation=\"relu\", padding=\"same\")(deconv2)\n",
    "    deconv4 = Conv2DTranspose(filters, kernel_size=3, strides=2, activation=\"relu\", padding=\"same\")(deconv3)\n",
    "    x_decoded = Conv2DTranspose(3, kernel_size=3, activation=\"sigmoid\", padding=\"same\")(deconv4)\n",
    "\n",
    "    return Model([z, y], x_decoded, name=\"decoder\")"
   ]
  },
  {
   "cell_type": "code",
   "execution_count": 43,
   "metadata": {},
   "outputs": [],
   "source": [
    "def sampling(args):\n",
    "    z_mean, z_log_var = args\n",
    "    epsilon = tf.random.normal(shape=(tf.shape(z_mean)[0], latent_dim))\n",
    "    return z_mean + tf.exp(0.5 * z_log_var) * epsilon"
   ]
  },
  {
   "cell_type": "code",
   "execution_count": 44,
   "metadata": {},
   "outputs": [],
   "source": [
    "enc = encoder((img_height, img_width, 3), label_dim, filters, latent_dim)\n",
    "dec = decoder((img_height, img_width, 3), label_dim, filters, latent_dim)\n",
    "\n",
    "x = Input(shape=(img_height, img_width, 3))\n",
    "y = Input(shape=(label_dim,))\n",
    "z_mean, z_log_var = enc([x, y])\n",
    "z = layers.Lambda(sampling)([z_mean, z_log_var])\n",
    "x_decoded = dec([z, y])\n",
    "\n",
    "cvae = Model([x, y], x_decoded, name=\"vae\")"
   ]
  },
  {
   "cell_type": "code",
   "execution_count": 47,
   "metadata": {},
   "outputs": [],
   "source": [
    "reconstruction_loss = MeanSquaredError()(x, x_decoded)\n",
    "kl_loss = -0.5 * tf.reduce_mean(1 + z_log_var - tf.square(z_mean) - tf.exp(z_log_var))\n",
    "cvae_loss = tf.reduce_mean(reconstruction_loss + kl_loss)\n",
    "\n",
    "cvae.add_loss(cvae_loss)\n",
    "cvae.compile(optimizer=Adam(learning_rate=0.001))"
   ]
  },
  {
   "cell_type": "code",
   "execution_count": null,
   "metadata": {},
   "outputs": [],
   "source": [
    "cvae.fit(combined_ds, epochs=10)"
   ]
  },
  {
   "cell_type": "code",
   "execution_count": null,
   "metadata": {},
   "outputs": [],
   "source": [
    "anime_sample = np.random.rand(1, latent_dim)\n",
    "anime_label = to_categorical([0], num_classes=2)\n",
    "anime_sample = dec.predict([anime_sample, anime_label])\n",
    "\n",
    "plt.imshow(anime_sample[0])\n",
    "plt.show()"
   ]
  },
  {
   "cell_type": "code",
   "execution_count": null,
   "metadata": {},
   "outputs": [],
   "source": [
    "cartoon_sample = np.random.rand(1, latent_dim)\n",
    "cartoon_label = to_categorical([1], num_classes=2)\n",
    "cartoon_sample = dec.predict([cartoon_sample, cartoon_label])\n",
    "\n",
    "plt.imshow(cartoon_sample[0])\n",
    "plt.show()"
   ]
  }
 ],
 "metadata": {
  "kernelspec": {
   "display_name": "tf",
   "language": "python",
   "name": "python3"
  },
  "language_info": {
   "codemirror_mode": {
    "name": "ipython",
    "version": 3
   },
   "file_extension": ".py",
   "mimetype": "text/x-python",
   "name": "python",
   "nbconvert_exporter": "python",
   "pygments_lexer": "ipython3",
   "version": "3.9.19"
  }
 },
 "nbformat": 4,
 "nbformat_minor": 2
}
