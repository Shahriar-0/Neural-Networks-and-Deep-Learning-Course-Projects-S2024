{
 "cells": [
  {
   "cell_type": "code",
   "execution_count": 87,
   "metadata": {},
   "outputs": [],
   "source": [
    "import gc\n",
    "from tqdm import tqdm\n",
    "\n",
    "import pandas as pd\n",
    "import numpy as np\n",
    "import matplotlib.pyplot as plt\n",
    "import seaborn as sea\n",
    "from tabulate import tabulate\n",
    "import re\n",
    "from hazm import Normalizer, word_tokenize, stopwords_list, Stemmer\n",
    "import emoji\n",
    "\n",
    "from googletrans import Translator\n",
    "\n",
    "from sklearn.preprocessing import OneHotEncoder\n",
    "from sklearn.model_selection import train_test_split\n",
    "\n",
    "from transformers import AutoTokenizer, BertConfig, TFAutoModel\n",
    "\n",
    "import tensorflow as tf\n",
    "from tensorflow.keras.models import Sequential, Model\n",
    "import tensorflow.keras.layers as Layers\n",
    "import keras.backend as K\n",
    "from tensorflow.keras.callbacks import EarlyStopping\n",
    "from tensorflow.keras.utils import plot_model\n",
    "\n",
    "from sklearn.metrics import accuracy_score, precision_score, recall_score, f1_score, confusion_matrix\n"
   ]
  },
  {
   "cell_type": "markdown",
   "metadata": {},
   "source": [
    "# CUDA"
   ]
  },
  {
   "cell_type": "code",
   "execution_count": 88,
   "metadata": {},
   "outputs": [],
   "source": [
    "physical_devices = tf.config.experimental.list_physical_devices('GPU')\n",
    "if len(physical_devices) > 0:\n",
    "    tf.config.experimental.set_memory_growth(physical_devices[0], True)"
   ]
  },
  {
   "cell_type": "markdown",
   "metadata": {},
   "source": [
    "# Read Datasets and Shuffle"
   ]
  },
  {
   "cell_type": "code",
   "execution_count": 89,
   "metadata": {},
   "outputs": [],
   "source": [
    "train = pd.read_csv('../data/digikala-reviews/original.csv')\n",
    "test = pd.read_csv('../data/digikala-reviews/test.csv')\n"
   ]
  },
  {
   "cell_type": "code",
   "execution_count": 90,
   "metadata": {},
   "outputs": [],
   "source": [
    "train.loc[len(train)] = [train.columns[0], int(train.columns[1])] \n",
    "train = train.set_axis(['text', 'label'], axis=1)\n",
    "\n",
    "\n",
    "test.loc[len(test)] = [test.columns[0], int(test.columns[1])] \n",
    "test = test.set_axis(['text', 'label'], axis=1)"
   ]
  },
  {
   "cell_type": "code",
   "execution_count": 91,
   "metadata": {},
   "outputs": [],
   "source": [
    "train['label']= train['label'].apply(lambda x: -1 if(x < 0) else 1 if (x > 0) else 0)\n",
    "test['label']= test['label'].apply(lambda x: -1 if(x < 0) else 1 if (x > 0) else 0)"
   ]
  },
  {
   "cell_type": "code",
   "execution_count": 104,
   "metadata": {},
   "outputs": [],
   "source": [
    "NUMCLASS = 3"
   ]
  },
  {
   "cell_type": "code",
   "execution_count": 92,
   "metadata": {},
   "outputs": [
    {
     "data": {
      "image/png": "[encoded data removed]",
      "text/plain": [
       "<Figure size 640x480 with 1 Axes>"
      ]
     },
     "metadata": {},
     "output_type": "display_data"
    }
   ],
   "source": [
    "sea.countplot(train, x = 'label', edgecolor ='black')\n",
    "plt.show()"
   ]
  },
  {
   "cell_type": "markdown",
   "metadata": {},
   "source": [
    "# Preparing Data"
   ]
  },
  {
   "cell_type": "markdown",
   "metadata": {},
   "source": [
    "## Preprocess"
   ]
  },
  {
   "cell_type": "code",
   "execution_count": 94,
   "metadata": {},
   "outputs": [],
   "source": [
    "def preprocess(x, html = False, url = False, username = False, hashtag = False, rep = False, \n",
    "\t\t\t   stopword = False, punctuation = False, demojize = True, stemming = False):\n",
    "\n",
    "\tif(html):\n",
    "\t\tx = re.sub(re.compile('<.*?>') , '', x)\n",
    "\tif(url):\n",
    "\t\tx = re.sub(r'http\\S+|www\\S+', '', x)\n",
    "\tif(username):\n",
    "\t\tx = re.sub(r'@[^ ]+', '', x)\n",
    "\tif(hashtag):\n",
    "\t\tx = re.sub(r'#', '', x)\n",
    "\tif(rep):\n",
    "\t\tx = re.sub(r'(.)\\1+', r'\\1', x)\n",
    "\tif(demojize):\n",
    "\t\tx = emoji.demojize(x, language='fa')\n",
    "\tif(punctuation):\n",
    "\t\tpuncs = [\n",
    "\t\t\t'[', '!', '\"', '#', '%', '\\\\', '\\\"', '(', ')', '*',\n",
    "\t\t\t'+', ',', '-', '.', '/', ':', ';', '<', '=', '>', '?', \n",
    "\t\t\t'/', '^', '_', '`', '{', '|', '}', '~',\n",
    "\t\t\t'’', '”', '“', '′', '‘', ']','؟','؛','«','»','،','٪'\n",
    "\t\t]\n",
    "\t\tpattern = r'[' + re.escape(''.join(puncs)) + r']'\n",
    "\t\tx = re.sub(pattern, ' ', x)\n",
    "\n",
    "\ttokens = word_tokenize(x)\n",
    "\t\n",
    "\tif(stopword):\n",
    "\t\tstopwords = stopwords_list()\n",
    "\t\ttokens = [token for token in tokens if token not in stopwords]\n",
    "\tif(stemming):\n",
    "\t\tstemmer = Stemmer()\n",
    "\t\ttokens = [stemmer.stem(token) for token in tokens]\n",
    "\n",
    "\tx = ' '.join(tokens)\n",
    "\tx = x.replace(\"\\u200c\", \" \")\n",
    "\n",
    "\treturn x"
   ]
  },
  {
   "cell_type": "code",
   "execution_count": 96,
   "metadata": {},
   "outputs": [],
   "source": [
    "train['clean'] = train['text'].apply(lambda x: preprocess(x))\n",
    "test['clean'] = test['text'].apply(lambda x: preprocess(x))"
   ]
  },
  {
   "cell_type": "markdown",
   "metadata": {},
   "source": [
    "## Create Validation Data"
   ]
  },
  {
   "cell_type": "code",
   "execution_count": 97,
   "metadata": {},
   "outputs": [],
   "source": [
    "train, valid = train_test_split(train, test_size=0.1, random_state=999)"
   ]
  },
  {
   "cell_type": "markdown",
   "metadata": {},
   "source": [
    "## Back Translation"
   ]
  },
  {
   "cell_type": "code",
   "execution_count": 31,
   "metadata": {},
   "outputs": [],
   "source": [
    "translate = Translator().translate\n",
    "def back_translate(text: str, lang: str, midlang: str, show_translate = False):\n",
    "\tt = translate(text, src=lang, dest=midlang).text\n",
    "\tif(show_translate):\n",
    "\t\tprint(t)\n",
    "\tb = translate(t, src=midlang, dest=lang).text\n",
    "\n",
    "\treturn b"
   ]
  },
  {
   "cell_type": "code",
   "execution_count": 37,
   "metadata": {},
   "outputs": [
    {
     "name": "stdout",
     "output_type": "stream",
     "text": [
      "نهایتا،  یک دوربین VGA نیز برای انجام مکالمات تصویری در قسمت جلویی گوشی تعبیه گردیده است.\n",
      "Enfin, une caméra VGA est également installée en façade du téléphone pour les appels vidéo.\n",
      "در نهایت یک دوربین VGA نیز در جلوی گوشی برای مکالمات تصویری تعبیه شده است.\n"
     ]
    }
   ],
   "source": [
    "i = 2\n",
    "print(train['text'][i])\n",
    "print(back_translate(train['text'][i], lang='fa', midlang='fr', show_tranqslate=True))"
   ]
  },
  {
   "cell_type": "markdown",
   "metadata": {},
   "source": [
    "## Data Augmentation"
   ]
  },
  {
   "cell_type": "code",
   "execution_count": 42,
   "metadata": {},
   "outputs": [],
   "source": [
    "backtranslated = []"
   ]
  },
  {
   "cell_type": "code",
   "execution_count": 65,
   "metadata": {},
   "outputs": [
    {
     "data": {
      "text/plain": [
       "1420"
      ]
     },
     "execution_count": 65,
     "metadata": {},
     "output_type": "execute_result"
    }
   ],
   "source": [
    "len(backtranslated)"
   ]
  },
  {
   "cell_type": "code",
   "execution_count": null,
   "metadata": {},
   "outputs": [],
   "source": [
    "for i in tqdm(range(1274, 2000)):\n",
    "\tt = back_translate(train['text'][i], lang='fa', midlang='fr')\n",
    "\tbacktranslated.append(t)"
   ]
  },
  {
   "cell_type": "code",
   "execution_count": 66,
   "metadata": {},
   "outputs": [],
   "source": [
    "b = pd.DataFrame(columns=['back'])\n",
    "b['back'] = backtranslated\n"
   ]
  },
  {
   "cell_type": "code",
   "execution_count": 67,
   "metadata": {},
   "outputs": [],
   "source": [
    "b.to_csv('backtrans.csv')"
   ]
  },
  {
   "cell_type": "markdown",
   "metadata": {},
   "source": [
    "## Load FaBert"
   ]
  },
  {
   "cell_type": "code",
   "execution_count": null,
   "metadata": {},
   "outputs": [],
   "source": [
    "bert_tokenizer = AutoTokenizer.from_pretrained('../Model/fabert')\n",
    "bert_model = TFAutoModel.from_pretrained('../Model/fabert')"
   ]
  },
  {
   "cell_type": "markdown",
   "metadata": {},
   "source": [
    "## Tokenize"
   ]
  },
  {
   "cell_type": "code",
   "execution_count": 102,
   "metadata": {},
   "outputs": [],
   "source": [
    "MAXLEN = 128"
   ]
  },
  {
   "cell_type": "code",
   "execution_count": 103,
   "metadata": {},
   "outputs": [],
   "source": [
    "def tokenize(texts, tokenizer, maxlen = MAXLEN):\n",
    "\tids = []\n",
    "\tmasks = []\n",
    "\ttypes = []\n",
    "\tfor text in texts:\n",
    "\t\to = tokenizer.encode_plus(\n",
    "\t\t\ttext,\n",
    "\t\t\tadd_special_tokens=True,\n",
    "\t\t\tmax_length=maxlen,\n",
    "\t\t\tpad_to_max_length=True,\n",
    "\t\t\ttruncation=True,\n",
    "\t\t\treturn_tensors='tf',\n",
    "\t\t\tverbose=0\n",
    "\t\t)\n",
    "\t\tids.append(o['input_ids'])\n",
    "\t\tmasks.append(o['attention_mask'])\n",
    "\t\ttypes.append(o['token_type_ids'])\n",
    "\n",
    "\treturn (\n",
    "\t\tnp.array(ids).reshape(len(texts), maxlen),\n",
    "\t\tnp.array(masks).reshape(len(texts), maxlen),\n",
    "\t\tnp.array(types).reshape(len(texts), maxlen)\n",
    "\t)"
   ]
  },
  {
   "cell_type": "code",
   "execution_count": 105,
   "metadata": {},
   "outputs": [],
   "source": [
    "def create_datasets(\n",
    "\t\ttokenizer, train, valid, test, batch_size, maxlen = MAXLEN\n",
    "):\n",
    "\n",
    "\ttrain_tokens = tokenize(train['clean'], tokenizer, maxlen)\n",
    "\tvalid_tokens = tokenize(valid['clean'], tokenizer, maxlen)\n",
    "\ttest_tokens = tokenize(test['clean'], tokenizer, maxlen)\n",
    "\n",
    "\tencoder = OneHotEncoder(sparse_output=False)\n",
    "\tytrain = encoder.fit_transform(train['label'].values.reshape(-1, 1))\n",
    "\tyvalid = encoder.transform(valid['label'].values.reshape(-1, 1))\n",
    "\n",
    "\ttrain_dataset = tf.data.Dataset.from_tensor_slices((\n",
    "\t\t{'input_ids': train_tokens[0], 'attention_mask': train_tokens[1]},\n",
    "\t\tytrain\n",
    "\t))\n",
    "\ttrain_dataset = train_dataset.shuffle(len(train['label'])).batch(batch_size)\n",
    "\n",
    "\tvalid_dataset = tf.data.Dataset.from_tensor_slices((\n",
    "\t\t{'input_ids': valid_tokens[0], 'attention_mask': valid_tokens[1]},\n",
    "\t\tyvalid\n",
    "\t))\n",
    "\tvalid_dataset = valid_dataset.shuffle(len(valid['label'])).batch(batch_size)\n",
    "\n",
    "\ttest_dataset = tf.data.Dataset.from_tensor_slices((\n",
    "\t\t{'input_ids': test_tokens[0], 'attention_mask': test_tokens[1]}\n",
    "\t)).batch(batch_size)\n",
    "\n",
    "\treturn train_dataset, valid_dataset, test_dataset"
   ]
  },
  {
   "cell_type": "markdown",
   "metadata": {},
   "source": [
    "# Networks"
   ]
  },
  {
   "cell_type": "markdown",
   "metadata": {},
   "source": [
    "## Utils"
   ]
  },
  {
   "cell_type": "code",
   "execution_count": null,
   "metadata": {},
   "outputs": [],
   "source": [
    "def show_model(model):\n",
    "\tmodel.summary()\n",
    "\tplot_model(\n",
    "\t\tmodel,\n",
    "\t\tshow_shapes = True,\n",
    "\t\tshow_dtype=False,\n",
    "\t\tshow_layer_names = True,\n",
    "\t\trankdir = 'TB',\n",
    "\t\texpand_nested = False,\n",
    "\t\tdpi = 256\n",
    "\t)"
   ]
  },
  {
   "cell_type": "code",
   "execution_count": null,
   "metadata": {},
   "outputs": [],
   "source": [
    "def training_metrics(history):\n",
    "\n",
    "\tepochs = range(1, len(history.history['loss']) + 1)\n",
    "\n",
    "\tplt.figure(figsize=(12, 6))\n",
    "\tplt.subplot(1, 2, 1)\n",
    "\tplt.plot(epochs, history.history['loss'], 'r-', label='Training Loss')\n",
    "\tplt.plot(epochs, history.history['val_loss'], 'b-', label='Validation Loss')\n",
    "\tplt.xlabel('Epochs')\n",
    "\tplt.ylabel('Loss')\n",
    "\tplt.legend()\n",
    "\n",
    "\tplt.subplot(1, 2, 2)\n",
    "\tplt.plot(epochs, history.history['accuracy'], 'r-', label='Training Accuracy')\n",
    "\tplt.plot(epochs, history.history['val_accuracy'], 'b-', label='Validation Accuracy')\n",
    "\tplt.xlabel('Epochs')\n",
    "\tplt.ylabel('Accuracy')\n",
    "\tplt.legend()\n",
    "\n",
    "\n",
    "\tplt.tight_layout()\n",
    "\tplt.show()\n",
    "\n",
    "def test_metrics(y_true, y_pred, num_classes):\n",
    "\taccuracy = accuracy_score(y_true, y_pred)\n",
    "\tprecision = precision_score(y_true, y_pred, average=None, labels=range(num_classes))\n",
    "\trecall = recall_score(y_true, y_pred, average=None, labels=range(num_classes))\n",
    "\tf1 = f1_score(y_true, y_pred, average=None, labels=range(num_classes))\n",
    "\n",
    "\tprecision_macro = precision_score(y_true, y_pred, average='macro')\n",
    "\trecall_macro = recall_score(y_true, y_pred, average='macro')\n",
    "\tf1_macro = f1_score(y_true, y_pred, average='macro')\n",
    "\n",
    "\tprecision_micro = precision_score(y_true, y_pred, average='micro')\n",
    "\trecall_micro = recall_score(y_true, y_pred, average='micro')\n",
    "\tf1_micro = f1_score(y_true, y_pred, average='micro')\n",
    "\n",
    "\tprecision_weighted = precision_score(y_true, y_pred, average='weighted')\n",
    "\trecall_weighted = recall_score(y_true, y_pred, average='weighted')\n",
    "\tf1_weighted = f1_score(y_true, y_pred, average='weighted')\n",
    "\n",
    "\taccuracy_table = [[\"Accuracy\", f\"{accuracy:.4f}\"]]\n",
    "\n",
    "\tclass_metrics = []\n",
    "\tfor i in range(num_classes):\n",
    "\t\tclass_metrics.append([f\"Class {i}\", f\"{precision[i]:.4f}\", f\"{recall[i]:.4f}\", f\"{f1[i]:.4f}\"])\n",
    "\n",
    "\taverage_metrics = [\n",
    "\t\t[\"Macro average\", f\"{precision_macro:.4f}\", f\"{recall_macro:.4f}\", f\"{f1_macro:.4f}\"],\n",
    "\t\t[\"Micro average\", f\"{precision_micro:.4f}\", f\"{recall_micro:.4f}\", f\"{f1_micro:.4f}\"],\n",
    "\t\t[\"Weighted average\", f\"{precision_weighted:.4f}\", f\"{recall_weighted:.4f}\", f\"{f1_weighted:.4f}\"]\n",
    "\t]\n",
    "\n",
    "\tprint(tabulate(accuracy_table, headers=[\"Metric\", \"Value\"], tablefmt=\"grid\"))\n",
    "\tprint(tabulate(class_metrics, headers=[\"Class\", \"Precision\", \"Recall\", \"F1-score\"], tablefmt=\"grid\"))\n",
    "\tprint(tabulate(average_metrics, headers=[\"Average Type\", \"Precision\", \"Recall\", \"F1-score\"], tablefmt=\"grid\"))\n",
    "\n",
    "\tcm = confusion_matrix(y_true, y_pred)\n",
    "\tplt.figure(figsize=(8, 6))\n",
    "\tsea.heatmap(cm, annot=True, cmap='Blues', fmt='g')\n",
    "\tplt.title('Confusion Matrix')\n",
    "\tplt.xlabel('Predicted')\n",
    "\tplt.ylabel('True')\n",
    "\tplt.show()"
   ]
  },
  {
   "cell_type": "code",
   "execution_count": null,
   "metadata": {},
   "outputs": [],
   "source": [
    "def create_model(base_model):\n",
    "\tinput_ids = Layers.Input(shape=(MAXLEN,), dtype=tf.int32, name=\"input_ids\")\n",
    "\tattention_mask = Layers.Input(shape=(MAXLEN,), dtype=tf.int32, name=\"attention_mask\")\n",
    "\tbert_output = base_model(input_ids, attention_mask=attention_mask)[1]\n",
    "\tdense_output = Layers.Dense(NUMCLASS, activation='softmax')(bert_output)\n",
    "\tmodel = Model(inputs=[input_ids, attention_mask], outputs=dense_output)\n",
    "\n",
    "\t\n",
    "\tmodel.layers[2].trainable = False\n",
    "\treturn model"
   ]
  },
  {
   "cell_type": "markdown",
   "metadata": {},
   "source": [
    "### 1. Train Data"
   ]
  },
  {
   "cell_type": "code",
   "execution_count": null,
   "metadata": {},
   "outputs": [],
   "source": [
    "model = create_model(bert_model)\n",
    "show_model(model)"
   ]
  },
  {
   "cell_type": "code",
   "execution_count": null,
   "metadata": {},
   "outputs": [],
   "source": [
    "model.compile(\n",
    "    optimizer=tf.keras.optimizers.Adam(learning_rate=1e-5),\n",
    "\tloss=tf.keras.losses.BinaryCrossentropy(from_logits=False),\n",
    "    metrics=['accuracy']\n",
    ")"
   ]
  },
  {
   "cell_type": "code",
   "execution_count": null,
   "metadata": {},
   "outputs": [],
   "source": [
    "train_dataset, valid_dataset, Xtest = create_datasets(\n",
    "    bert_tokenizer, \n",
    "    batch_size = 4,\n",
    "    train = train,\n",
    "    valid = valid,\n",
    "    test = test\n",
    "\t)"
   ]
  },
  {
   "cell_type": "code",
   "execution_count": null,
   "metadata": {},
   "outputs": [],
   "source": [
    "history = model.fit(train_dataset, epochs=5, validation_data=valid_dataset)\n",
    "\n",
    "training_metrics(history)\n",
    "\n",
    "y_pred = model.predict(Xtest)\n",
    "y_pred = np.argmax(y_pred, axis=1)\n",
    "test_metrics(test['label'], y_pred, num_classes=NUMCLASS)"
   ]
  },
  {
   "cell_type": "markdown",
   "metadata": {},
   "source": [
    "### 2. Augmented Data"
   ]
  }
 ],
 "metadata": {
  "kernelspec": {
   "display_name": "Python 3",
   "language": "python",
   "name": "python3"
  },
  "language_info": {
   "codemirror_mode": {
    "name": "ipython",
    "version": 3
   },
   "file_extension": ".py",
   "mimetype": "text/x-python",
   "name": "python",
   "nbconvert_exporter": "python",
   "pygments_lexer": "ipython3",
   "version": "3.10.5"
  }
 },
 "nbformat": 4,
 "nbformat_minor": 2
}
