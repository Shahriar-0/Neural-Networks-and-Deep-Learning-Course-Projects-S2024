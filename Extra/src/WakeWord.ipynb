{
 "cells": [
  {
   "cell_type": "code",
   "execution_count": 1,
   "metadata": {},
   "outputs": [],
   "source": [
    "import sounddevice as sd\n",
    "from scipy.io.wavfile import write\n",
    "import os"
   ]
  },
  {
   "cell_type": "code",
   "execution_count": 2,
   "metadata": {},
   "outputs": [],
   "source": [
    "def record_2_sec_voice(folder_path):\n",
    "    fs = 44100  # Sample rate\n",
    "    seconds = 2  # Duration of recording\n",
    "\n",
    "    myrecording = sd.rec(int(seconds * fs), samplerate=fs, channels=2, dtype=\"int16\")\n",
    "    print(\"Recording Audio\")\n",
    "    sd.wait()  \n",
    "    print(\"Audio recording complete , Play Audio\")\n",
    "    sd.play(myrecording, fs)\n",
    "    sd.wait()\n",
    "    print(\"Play Audio Complete\")\n",
    "    \n",
    "    # get number of files in the folder\n",
    "    num_files = len([f for f in os.listdir(folder_path)if os.path.isfile(os.path.join(folder_path, f))])\n",
    "    write(folder_path + \"/output\" + str(num_files) + \".wav\", fs, myrecording) "
   ]
  },
  {
   "cell_type": "code",
   "execution_count": 3,
   "metadata": {},
   "outputs": [],
   "source": [
    "def record_wake_word(num_files):\n",
    "    path = \"../data/wake_word\"\n",
    "    \n",
    "    for i in range(num_files):\n",
    "        record_2_sec_voice(path)\n",
    "        print(\"Recorded Wake Word\")"
   ]
  },
  {
   "cell_type": "code",
   "execution_count": 4,
   "metadata": {},
   "outputs": [],
   "source": [
    "def record_not_wake_word(num_files):\n",
    "    path = \"../data/not_wake_word\"\n",
    "    \n",
    "    for i in range(num_files):\n",
    "        record_2_sec_voice(path)\n",
    "        print(\"Recorded Not Wake Word\")"
   ]
  },
  {
   "cell_type": "code",
   "execution_count": 5,
   "metadata": {},
   "outputs": [
    {
     "name": "stdout",
     "output_type": "stream",
     "text": [
      "Recording Audio\n",
      "Audio recording complete , Play Audio\n",
      "Play Audio Complete\n",
      "Recorded Wake Word\n",
      "Recording Audio\n",
      "Audio recording complete , Play Audio\n",
      "Play Audio Complete\n",
      "Recorded Wake Word\n",
      "Recording Audio\n",
      "Audio recording complete , Play Audio\n",
      "Play Audio Complete\n",
      "Recorded Wake Word\n",
      "Recording Audio\n",
      "Audio recording complete , Play Audio\n",
      "Play Audio Complete\n",
      "Recorded Wake Word\n",
      "Recording Audio\n",
      "Audio recording complete , Play Audio\n",
      "Play Audio Complete\n",
      "Recorded Wake Word\n",
      "Recording Audio\n",
      "Audio recording complete , Play Audio\n",
      "Play Audio Complete\n",
      "Recorded Wake Word\n",
      "Recording Audio\n",
      "Audio recording complete , Play Audio\n",
      "Play Audio Complete\n",
      "Recorded Wake Word\n",
      "Recording Audio\n",
      "Audio recording complete , Play Audio\n",
      "Play Audio Complete\n",
      "Recorded Wake Word\n",
      "Recording Audio\n",
      "Audio recording complete , Play Audio\n",
      "Play Audio Complete\n",
      "Recorded Wake Word\n",
      "Recording Audio\n",
      "Audio recording complete , Play Audio\n",
      "Play Audio Complete\n",
      "Recorded Wake Word\n"
     ]
    }
   ],
   "source": [
    "record_wake_word(10)"
   ]
  },
  {
   "cell_type": "code",
   "execution_count": 7,
   "metadata": {},
   "outputs": [
    {
     "name": "stdout",
     "output_type": "stream",
     "text": [
      "Recording Audio\n",
      "Audio recording complete , Play Audio\n",
      "Play Audio Complete\n",
      "Recorded Not Wake Word\n",
      "Recording Audio\n",
      "Audio recording complete , Play Audio\n",
      "Play Audio Complete\n",
      "Recorded Not Wake Word\n",
      "Recording Audio\n",
      "Audio recording complete , Play Audio\n",
      "Play Audio Complete\n",
      "Recorded Not Wake Word\n",
      "Recording Audio\n",
      "Audio recording complete , Play Audio\n",
      "Play Audio Complete\n",
      "Recorded Not Wake Word\n",
      "Recording Audio\n",
      "Audio recording complete , Play Audio\n",
      "Play Audio Complete\n",
      "Recorded Not Wake Word\n",
      "Recording Audio\n",
      "Audio recording complete , Play Audio\n",
      "Play Audio Complete\n",
      "Recorded Not Wake Word\n",
      "Recording Audio\n",
      "Audio recording complete , Play Audio\n",
      "Play Audio Complete\n",
      "Recorded Not Wake Word\n",
      "Recording Audio\n",
      "Audio recording complete , Play Audio\n",
      "Play Audio Complete\n",
      "Recorded Not Wake Word\n",
      "Recording Audio\n",
      "Audio recording complete , Play Audio\n",
      "Play Audio Complete\n",
      "Recorded Not Wake Word\n",
      "Recording Audio\n",
      "Audio recording complete , Play Audio\n",
      "Play Audio Complete\n",
      "Recorded Not Wake Word\n"
     ]
    }
   ],
   "source": [
    "record_not_wake_word(10)"
   ]
  }
 ],
 "metadata": {
  "kernelspec": {
   "display_name": "tf",
   "language": "python",
   "name": "python3"
  },
  "language_info": {
   "codemirror_mode": {
    "name": "ipython",
    "version": 3
   },
   "file_extension": ".py",
   "mimetype": "text/x-python",
   "name": "python",
   "nbconvert_exporter": "python",
   "pygments_lexer": "ipython3",
   "version": "3.9.19"
  }
 },
 "nbformat": 4,
 "nbformat_minor": 2
}
