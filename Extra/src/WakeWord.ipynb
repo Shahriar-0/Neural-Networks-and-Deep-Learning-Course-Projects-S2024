{
 "cells": [
  {
   "cell_type": "code",
   "execution_count": 141,
   "metadata": {},
   "outputs": [],
   "source": [
    "import sounddevice as sd\n",
    "from scipy.io.wavfile import write\n",
    "import os\n",
    "import IPython.display as ipd\n",
    "import librosa\n",
    "import librosa.display\n",
    "import pandas as pd\n",
    "import time\n",
    "import warnings\n",
    "import seaborn as sns\n",
    "import numpy as np\n",
    "from tqdm import tqdm\n",
    "import matplotlib.pyplot as plt\n",
    "from sklearn.model_selection import train_test_split\n",
    "from sklearn.preprocessing import LabelEncoder\n",
    "from keras.utils import to_categorical\n",
    "from keras.models import Sequential\n",
    "from keras.layers import Dense, Conv1D, MaxPooling1D, BatchNormalization, Dropout, Flatten, Conv2D, MaxPool2D\n",
    "from sklearn.preprocessing import LabelEncoder\n",
    "from keras.callbacks import EarlyStopping\n",
    "from sklearn.metrics import confusion_matrix\n",
    "import seaborn as sns"
   ]
  },
  {
   "cell_type": "code",
   "execution_count": 23,
   "metadata": {},
   "outputs": [],
   "source": [
    "def record_2_sec_voice(folder_path):\n",
    "    fs = 44100\n",
    "    seconds = 2 \n",
    "\n",
    "    myrecording = sd.rec(int(seconds * fs), samplerate=fs, channels=2, dtype=\"int16\")\n",
    "    print(\"Recording Audio\")\n",
    "    sd.wait()  \n",
    "    print(\"Audio recording complete\")\n",
    "    # sd.play(myrecording, fs)\n",
    "    # sd.wait()\n",
    "    # print(\"Play Audio Complete\")\n",
    "    \n",
    "    num_files = len([f for f in os.listdir(folder_path)if os.path.isfile(os.path.join(folder_path, f))])\n",
    "    write(folder_path + \"/output\" + str(num_files) + \".wav\", fs, myrecording) "
   ]
  },
  {
   "cell_type": "code",
   "execution_count": 24,
   "metadata": {},
   "outputs": [],
   "source": [
    "def record_wake_word(num_files):\n",
    "    path = \"../data/wake_word\"\n",
    "\n",
    "    ipd.clear_output(wait=True)\n",
    "    for i in tqdm(range(num_files)):\n",
    "        record_2_sec_voice(path)\n",
    "        print(\"Recorded Wake Word\")\n",
    "        ipd.clear_output(wait=True)\n",
    "        time.sleep(1)"
   ]
  },
  {
   "cell_type": "code",
   "execution_count": 25,
   "metadata": {},
   "outputs": [],
   "source": [
    "def record_not_wake_word(num_files):\n",
    "    path = \"../data/not_wake_word\"\n",
    "    \n",
    "    ipd.clear_output(wait=True)\n",
    "    for i in tqdm(range(num_files)):\n",
    "        record_2_sec_voice(path)\n",
    "        print(\"Recorded Not Wake Word\")\n",
    "        ipd.clear_output(wait=True)\n",
    "        time.sleep(1)"
   ]
  },
  {
   "cell_type": "code",
   "execution_count": 26,
   "metadata": {},
   "outputs": [
    {
     "name": "stderr",
     "output_type": "stream",
     "text": [
      "100%|██████████| 100/100 [05:09<00:00,  3.10s/it]\n"
     ]
    }
   ],
   "source": [
    "record_wake_word(100)"
   ]
  },
  {
   "cell_type": "code",
   "execution_count": 27,
   "metadata": {},
   "outputs": [
    {
     "name": "stderr",
     "output_type": "stream",
     "text": [
      "100%|██████████| 100/100 [05:09<00:00,  3.10s/it]\n"
     ]
    }
   ],
   "source": [
    "record_not_wake_word(100)"
   ]
  },
  {
   "cell_type": "code",
   "execution_count": 2,
   "metadata": {},
   "outputs": [],
   "source": [
    "wake_words = []\n",
    "not_wake_words = []\n",
    "\n",
    "for file in os.listdir(\"../data/wake_word\"):\n",
    "    if file.endswith(\".wav\"):\n",
    "        wake_words.append(\"../data/wake_word/\" + file)\n",
    "        \n",
    "for file in os.listdir(\"../data/not_wake_word\"):\n",
    "    if file.endswith(\".wav\"):\n",
    "        not_wake_words.append(\"../data/not_wake_word/\" + file)"
   ]
  },
  {
   "cell_type": "code",
   "execution_count": 3,
   "metadata": {},
   "outputs": [],
   "source": [
    "wake_words = pd.DataFrame(wake_words, columns=[\"file\"])\n",
    "wake_words[\"label\"] = \"wake_word\"\n",
    "\n",
    "not_wake_words = pd.DataFrame(not_wake_words, columns=[\"file\"])\n",
    "not_wake_words[\"label\"] = \"not_wake_word\""
   ]
  },
  {
   "cell_type": "code",
   "execution_count": 86,
   "metadata": {},
   "outputs": [],
   "source": [
    "def extract_features(file_name):\n",
    "    try:\n",
    "        audio, sample_rate = librosa.load(file_name, res_type=\"kaiser_fast\")\n",
    "        mfccs = librosa.feature.mfcc(y=audio, sr=sample_rate, n_mfcc=40)\n",
    "        mfccsscaled = np.mean(mfccs.T, axis=0)\n",
    "    except Exception as e:\n",
    "        print(\"Error encountered while parsing file: \", file_name)\n",
    "        print(e)\n",
    "        return None\n",
    "\n",
    "    return mfccsscaled, mfccs"
   ]
  },
  {
   "cell_type": "code",
   "execution_count": 87,
   "metadata": {},
   "outputs": [],
   "source": [
    "def get_features(data):\n",
    "    extracted_features = []\n",
    "    for idx in tqdm(range(data.shape[0])):\n",
    "        file_name = data[\"file\"].iloc[idx]\n",
    "        final_class_labels = data[\"label\"].iloc[idx]\n",
    "        features, mfccs = extract_features(file_name)\n",
    "        extracted_features.append([features, final_class_labels])\n",
    "\n",
    "    return extracted_features, mfccs"
   ]
  },
  {
   "cell_type": "code",
   "execution_count": 88,
   "metadata": {},
   "outputs": [
    {
     "name": "stderr",
     "output_type": "stream",
     "text": [
      "100%|██████████| 100/100 [00:01<00:00, 52.04it/s]\n",
      "100%|██████████| 100/100 [00:01<00:00, 52.77it/s]\n"
     ]
    }
   ],
   "source": [
    "wake_word_features, wake_word_mfccs = get_features(wake_words)\n",
    "not_wake_word_features, not_wake_word_mfccs = get_features(not_wake_words)"
   ]
  },
  {
   "cell_type": "code",
   "execution_count": 89,
   "metadata": {},
   "outputs": [],
   "source": [
    "wake_word_features_df = pd.DataFrame(wake_word_features, columns=[\"feature\", \"label\"])\n",
    "not_wake_word_features_df = pd.DataFrame(not_wake_word_features, columns=[\"feature\", \"label\"])"
   ]
  },
  {
   "cell_type": "code",
   "execution_count": 90,
   "metadata": {},
   "outputs": [],
   "source": [
    "def show_mfcc(data):\n",
    "    plt.figure(figsize=(10, 4))\n",
    "    librosa.display.specshow(data, x_axis=\"time\")\n",
    "    plt.colorbar()\n",
    "    plt.title(\"MFCC\")\n",
    "    plt.tight_layout()\n",
    "    plt.show()"
   ]
  },
  {
   "cell_type": "code",
   "execution_count": 97,
   "metadata": {},
   "outputs": [
    {
     "data": {
      "image/png": "[encoded data removed]",
      "text/plain": [
       "<Figure size 1000x400 with 2 Axes>"
      ]
     },
     "metadata": {},
     "output_type": "display_data"
    }
   ],
   "source": [
    "show_mfcc(wake_word_mfccs)"
   ]
  },
  {
   "cell_type": "code",
   "execution_count": 98,
   "metadata": {},
   "outputs": [
    {
     "data": {
      "image/png": "[encoded data removed]",
      "text/plain": [
       "<Figure size 1000x400 with 2 Axes>"
      ]
     },
     "metadata": {},
     "output_type": "display_data"
    }
   ],
   "source": [
    "show_mfcc(not_wake_word_mfccs)"
   ]
  },
  {
   "cell_type": "code",
   "execution_count": 99,
   "metadata": {},
   "outputs": [],
   "source": [
    "wake_word_features_df[\"feature\"] = wake_word_features_df[\"feature\"].apply(lambda x: x / np.max(np.abs(x)))\n",
    "not_wake_word_features_df[\"feature\"] = not_wake_word_features_df[\"feature\"].apply(lambda x: x / np.max(np.abs(x)))"
   ]
  },
  {
   "cell_type": "code",
   "execution_count": 157,
   "metadata": {},
   "outputs": [],
   "source": [
    "X = np.array(wake_word_features_df[\"feature\"].tolist())\n",
    "y = np.array(wake_word_features_df[\"label\"].tolist())\n",
    "\n",
    "X_train, X_test, y_train, y_test = train_test_split(X, y, test_size=0.2, random_state=42)"
   ]
  },
  {
   "cell_type": "code",
   "execution_count": 113,
   "metadata": {},
   "outputs": [],
   "source": [
    "def add_noise(data):\n",
    "    noise = 0.001 * np.random.uniform(size=len(data))\n",
    "    return data + noise\n",
    "\n",
    "def shift(data):\n",
    "    return np.roll(data, 1600)\n",
    "\n",
    "def stretch(data, rate=1):\n",
    "    input_length = 1024\n",
    "    data = librosa.effects.time_stretch(data, rate=rate)\n",
    "    if len(data) > input_length:\n",
    "        data = data[:input_length]\n",
    "    else:\n",
    "        data = np.pad(data, (0, max(0, input_length - len(data))), \"constant\")\n",
    "        \n",
    "    return data\n",
    "\n",
    "def pitch(data, sampling_rate, pitch_factor):\n",
    "    return librosa.effects.pitch_shift(data, sr=sampling_rate, n_steps=pitch_factor)"
   ]
  },
  {
   "cell_type": "code",
   "execution_count": 115,
   "metadata": {},
   "outputs": [],
   "source": [
    "def augment_data(data):\n",
    "    augmented_data = []\n",
    "    for idx in range(data.shape[0]):\n",
    "        feature = data[\"feature\"].iloc[idx]\n",
    "        label = data[\"label\"].iloc[idx]\n",
    "        augmented_data.append([feature, label])\n",
    "        augmented_data.append([add_noise(feature), label])\n",
    "        augmented_data.append([shift(feature), label])\n",
    "        augmented_data.append([stretch(feature), label])\n",
    "        augmented_data.append([pitch(feature, 22050, 4), label])\n",
    "    return augmented_data"
   ]
  },
  {
   "cell_type": "code",
   "execution_count": 116,
   "metadata": {},
   "outputs": [],
   "source": [
    "augmented_wake_word_features_df = pd.DataFrame(augment_data(wake_word_features_df), columns=[\"feature\", \"label\"])\n",
    "augmented_not_wake_word_features_df = pd.DataFrame(augment_data(not_wake_word_features_df), columns=[\"feature\", \"label\"])"
   ]
  },
  {
   "cell_type": "code",
   "execution_count": 123,
   "metadata": {},
   "outputs": [],
   "source": [
    "augmented_wake_word_features_df[\"label\"] = [0 for i in range(augmented_wake_word_features_df.shape[0])]\n",
    "augmented_not_wake_word_features_df[\"label\"] = [1 for i in range(augmented_not_wake_word_features_df.shape[0])]"
   ]
  },
  {
   "cell_type": "code",
   "execution_count": 136,
   "metadata": {},
   "outputs": [
    {
     "data": {
      "text/html": [
       "<div>\n",
       "<style scoped>\n",
       "    .dataframe tbody tr th:only-of-type {\n",
       "        vertical-align: middle;\n",
       "    }\n",
       "\n",
       "    .dataframe tbody tr th {\n",
       "        vertical-align: top;\n",
       "    }\n",
       "\n",
       "    .dataframe thead th {\n",
       "        text-align: right;\n",
       "    }\n",
       "</style>\n",
       "<table border=\"1\" class=\"dataframe\">\n",
       "  <thead>\n",
       "    <tr style=\"text-align: right;\">\n",
       "      <th></th>\n",
       "      <th>feature</th>\n",
       "      <th>label</th>\n",
       "    </tr>\n",
       "  </thead>\n",
       "  <tbody>\n",
       "    <tr>\n",
       "      <th>0</th>\n",
       "      <td>[-1.0, 0.716109, -0.16520076, 0.1400003, 0.069...</td>\n",
       "      <td>0</td>\n",
       "    </tr>\n",
       "    <tr>\n",
       "      <th>1</th>\n",
       "      <td>[-0.9995290755950477, 0.7162409479719508, -0.1...</td>\n",
       "      <td>0</td>\n",
       "    </tr>\n",
       "    <tr>\n",
       "      <th>2</th>\n",
       "      <td>[-1.0, 0.716109, -0.16520076, 0.1400003, 0.069...</td>\n",
       "      <td>0</td>\n",
       "    </tr>\n",
       "    <tr>\n",
       "      <th>3</th>\n",
       "      <td>[-1.0, 0.71610904, -0.16520076, 0.1400003, 0.0...</td>\n",
       "      <td>0</td>\n",
       "    </tr>\n",
       "    <tr>\n",
       "      <th>4</th>\n",
       "      <td>[-0.42779946, 0.31167507, -0.051235676, 0.1141...</td>\n",
       "      <td>0</td>\n",
       "    </tr>\n",
       "    <tr>\n",
       "      <th>...</th>\n",
       "      <td>...</td>\n",
       "      <td>...</td>\n",
       "    </tr>\n",
       "    <tr>\n",
       "      <th>2495</th>\n",
       "      <td>[-0.42004567, 0.3270358, -0.048005626, 0.11674...</td>\n",
       "      <td>0</td>\n",
       "    </tr>\n",
       "    <tr>\n",
       "      <th>2496</th>\n",
       "      <td>[-0.4199158782044438, 0.3272472092924529, -0.0...</td>\n",
       "      <td>0</td>\n",
       "    </tr>\n",
       "    <tr>\n",
       "      <th>2497</th>\n",
       "      <td>[-0.42004567, 0.3270358, -0.048005626, 0.11674...</td>\n",
       "      <td>0</td>\n",
       "    </tr>\n",
       "    <tr>\n",
       "      <th>2498</th>\n",
       "      <td>[-0.42004567, 0.3270358, -0.04800563, 0.116740...</td>\n",
       "      <td>0</td>\n",
       "    </tr>\n",
       "    <tr>\n",
       "      <th>2499</th>\n",
       "      <td>[-0.17129153, 0.14057846, 0.023816902, 0.01943...</td>\n",
       "      <td>0</td>\n",
       "    </tr>\n",
       "  </tbody>\n",
       "</table>\n",
       "<p>2500 rows × 2 columns</p>\n",
       "</div>"
      ],
      "text/plain": [
       "                                                feature  label\n",
       "0     [-1.0, 0.716109, -0.16520076, 0.1400003, 0.069...      0\n",
       "1     [-0.9995290755950477, 0.7162409479719508, -0.1...      0\n",
       "2     [-1.0, 0.716109, -0.16520076, 0.1400003, 0.069...      0\n",
       "3     [-1.0, 0.71610904, -0.16520076, 0.1400003, 0.0...      0\n",
       "4     [-0.42779946, 0.31167507, -0.051235676, 0.1141...      0\n",
       "...                                                 ...    ...\n",
       "2495  [-0.42004567, 0.3270358, -0.048005626, 0.11674...      0\n",
       "2496  [-0.4199158782044438, 0.3272472092924529, -0.0...      0\n",
       "2497  [-0.42004567, 0.3270358, -0.048005626, 0.11674...      0\n",
       "2498  [-0.42004567, 0.3270358, -0.04800563, 0.116740...      0\n",
       "2499  [-0.17129153, 0.14057846, 0.023816902, 0.01943...      0\n",
       "\n",
       "[2500 rows x 2 columns]"
      ]
     },
     "execution_count": 136,
     "metadata": {},
     "output_type": "execute_result"
    }
   ],
   "source": [
    "augmented_wake_word_features_df"
   ]
  },
  {
   "cell_type": "code",
   "execution_count": 125,
   "metadata": {},
   "outputs": [
    {
     "data": {
      "text/html": [
       "<div>\n",
       "<style scoped>\n",
       "    .dataframe tbody tr th:only-of-type {\n",
       "        vertical-align: middle;\n",
       "    }\n",
       "\n",
       "    .dataframe tbody tr th {\n",
       "        vertical-align: top;\n",
       "    }\n",
       "\n",
       "    .dataframe thead th {\n",
       "        text-align: right;\n",
       "    }\n",
       "</style>\n",
       "<table border=\"1\" class=\"dataframe\">\n",
       "  <thead>\n",
       "    <tr style=\"text-align: right;\">\n",
       "      <th></th>\n",
       "      <th>feature</th>\n",
       "      <th>label</th>\n",
       "    </tr>\n",
       "  </thead>\n",
       "  <tbody>\n",
       "    <tr>\n",
       "      <th>0</th>\n",
       "      <td>[-1.0, 0.60646397, -0.07891267, 0.11466855, 0....</td>\n",
       "      <td>1</td>\n",
       "    </tr>\n",
       "    <tr>\n",
       "      <th>1</th>\n",
       "      <td>[-0.999144424734561, 0.6070089109167388, -0.07...</td>\n",
       "      <td>1</td>\n",
       "    </tr>\n",
       "    <tr>\n",
       "      <th>2</th>\n",
       "      <td>[-1.0, 0.60646397, -0.07891267, 0.11466855, 0....</td>\n",
       "      <td>1</td>\n",
       "    </tr>\n",
       "    <tr>\n",
       "      <th>3</th>\n",
       "      <td>[-1.0, 0.60646397, -0.07891267, 0.11466855, 0....</td>\n",
       "      <td>1</td>\n",
       "    </tr>\n",
       "    <tr>\n",
       "      <th>4</th>\n",
       "      <td>[-0.4596668, 0.28230307, -0.016361533, 0.10313...</td>\n",
       "      <td>1</td>\n",
       "    </tr>\n",
       "    <tr>\n",
       "      <th>...</th>\n",
       "      <td>...</td>\n",
       "      <td>...</td>\n",
       "    </tr>\n",
       "    <tr>\n",
       "      <th>2495</th>\n",
       "      <td>[0.36065993, 0.05872141, -0.5063251, 0.0748426...</td>\n",
       "      <td>1</td>\n",
       "    </tr>\n",
       "    <tr>\n",
       "      <th>2496</th>\n",
       "      <td>[0.3615950619519105, 0.05880526820685671, -0.5...</td>\n",
       "      <td>1</td>\n",
       "    </tr>\n",
       "    <tr>\n",
       "      <th>2497</th>\n",
       "      <td>[0.36065993, 0.05872141, -0.5063251, 0.0748426...</td>\n",
       "      <td>1</td>\n",
       "    </tr>\n",
       "    <tr>\n",
       "      <th>2498</th>\n",
       "      <td>[0.36065993, 0.058721405, -0.5063251, 0.074842...</td>\n",
       "      <td>1</td>\n",
       "    </tr>\n",
       "    <tr>\n",
       "      <th>2499</th>\n",
       "      <td>[0.27767965, -0.124451324, -0.22991402, 0.1767...</td>\n",
       "      <td>1</td>\n",
       "    </tr>\n",
       "  </tbody>\n",
       "</table>\n",
       "<p>2500 rows × 2 columns</p>\n",
       "</div>"
      ],
      "text/plain": [
       "                                                feature  label\n",
       "0     [-1.0, 0.60646397, -0.07891267, 0.11466855, 0....      1\n",
       "1     [-0.999144424734561, 0.6070089109167388, -0.07...      1\n",
       "2     [-1.0, 0.60646397, -0.07891267, 0.11466855, 0....      1\n",
       "3     [-1.0, 0.60646397, -0.07891267, 0.11466855, 0....      1\n",
       "4     [-0.4596668, 0.28230307, -0.016361533, 0.10313...      1\n",
       "...                                                 ...    ...\n",
       "2495  [0.36065993, 0.05872141, -0.5063251, 0.0748426...      1\n",
       "2496  [0.3615950619519105, 0.05880526820685671, -0.5...      1\n",
       "2497  [0.36065993, 0.05872141, -0.5063251, 0.0748426...      1\n",
       "2498  [0.36065993, 0.058721405, -0.5063251, 0.074842...      1\n",
       "2499  [0.27767965, -0.124451324, -0.22991402, 0.1767...      1\n",
       "\n",
       "[2500 rows x 2 columns]"
      ]
     },
     "execution_count": 125,
     "metadata": {},
     "output_type": "execute_result"
    }
   ],
   "source": [
    "augmented_not_wake_word_features_df"
   ]
  },
  {
   "cell_type": "code",
   "execution_count": 126,
   "metadata": {},
   "outputs": [],
   "source": [
    "def create_model():\n",
    "    model = Sequential()\n",
    "    model.add(Conv1D(32, 5, activation=\"relu\", input_shape=(40, 1)))\n",
    "    model.add(BatchNormalization())\n",
    "    model.add(MaxPooling1D(2))\n",
    "    model.add(Dropout(0.2))\n",
    "    model.add(Conv1D(64, 5, activation=\"relu\"))\n",
    "    model.add(BatchNormalization())\n",
    "    model.add(MaxPooling1D(2))\n",
    "    model.add(Dropout(0.2))\n",
    "    model.add(Flatten())\n",
    "    model.add(Dense(128, activation=\"relu\"))\n",
    "    model.add(Dropout(0.2))\n",
    "    model.add(Dense(2, activation=\"softmax\"))\n",
    "    model.compile(loss=\"categorical_crossentropy\", optimizer=\"adam\", metrics=[\"accuracy\"])\n",
    "    return model"
   ]
  },
  {
   "cell_type": "code",
   "execution_count": 142,
   "metadata": {},
   "outputs": [
    {
     "name": "stdout",
     "output_type": "stream",
     "text": [
      "Model: \"sequential_1\"\n",
      "_________________________________________________________________\n",
      " Layer (type)                Output Shape              Param #   \n",
      "=================================================================\n",
      " conv1d_2 (Conv1D)           (None, 36, 32)            192       \n",
      "                                                                 \n",
      " batch_normalization_2 (Batc  (None, 36, 32)           128       \n",
      " hNormalization)                                                 \n",
      "                                                                 \n",
      " max_pooling1d_2 (MaxPooling  (None, 18, 32)           0         \n",
      " 1D)                                                             \n",
      "                                                                 \n",
      " dropout_3 (Dropout)         (None, 18, 32)            0         \n",
      "                                                                 \n",
      " conv1d_3 (Conv1D)           (None, 14, 64)            10304     \n",
      "                                                                 \n",
      " batch_normalization_3 (Batc  (None, 14, 64)           256       \n",
      " hNormalization)                                                 \n",
      "                                                                 \n",
      " max_pooling1d_3 (MaxPooling  (None, 7, 64)            0         \n",
      " 1D)                                                             \n",
      "                                                                 \n",
      " dropout_4 (Dropout)         (None, 7, 64)             0         \n",
      "                                                                 \n",
      " flatten_1 (Flatten)         (None, 448)               0         \n",
      "                                                                 \n",
      " dense_2 (Dense)             (None, 128)               57472     \n",
      "                                                                 \n",
      " dropout_5 (Dropout)         (None, 128)               0         \n",
      "                                                                 \n",
      " dense_3 (Dense)             (None, 2)                 258       \n",
      "                                                                 \n",
      "=================================================================\n",
      "Total params: 68,610\n",
      "Trainable params: 68,418\n",
      "Non-trainable params: 192\n",
      "_________________________________________________________________\n"
     ]
    }
   ],
   "source": [
    "model = create_model()\n",
    "model.summary()"
   ]
  },
  {
   "cell_type": "code",
   "execution_count": 137,
   "metadata": {},
   "outputs": [],
   "source": [
    "def prepare_data(data):\n",
    "    X = np.array(data[\"feature\"].tolist())\n",
    "    X = X.reshape(X.shape[0], X.shape[1], 1)\n",
    "    y = np.array(data[\"label\"].tolist())\n",
    "    return X, y"
   ]
  },
  {
   "cell_type": "code",
   "execution_count": 138,
   "metadata": {},
   "outputs": [],
   "source": [
    "X_wake_word, y_wake_word = prepare_data(augmented_wake_word_features_df)\n",
    "X_not_wake_word, y_not_wake_word = prepare_data(augmented_not_wake_word_features_df)"
   ]
  },
  {
   "cell_type": "code",
   "execution_count": 177,
   "metadata": {},
   "outputs": [],
   "source": [
    "X = np.vstack((X_wake_word, X_not_wake_word))\n",
    "y = np.hstack((y_wake_word, y_not_wake_word))\n",
    "\n",
    "X_train, X_val, y_train, y_val = train_test_split(X, y, test_size=0.2, random_state=42)"
   ]
  },
  {
   "cell_type": "code",
   "execution_count": 143,
   "metadata": {},
   "outputs": [
    {
     "name": "stdout",
     "output_type": "stream",
     "text": [
      "Epoch 1/100\n",
      "125/125 [==============================] - 1s 6ms/step - loss: 0.2744 - accuracy: 0.8863 - val_loss: 0.6988 - val_accuracy: 0.5000\n",
      "Epoch 2/100\n",
      "125/125 [==============================] - 1s 5ms/step - loss: 0.1672 - accuracy: 0.9235 - val_loss: 0.6405 - val_accuracy: 0.7640\n",
      "Epoch 3/100\n",
      "125/125 [==============================] - 1s 5ms/step - loss: 0.1316 - accuracy: 0.9435 - val_loss: 0.4334 - val_accuracy: 0.9420\n",
      "Epoch 4/100\n",
      "125/125 [==============================] - 1s 5ms/step - loss: 0.1175 - accuracy: 0.9455 - val_loss: 0.3830 - val_accuracy: 0.7420\n",
      "Epoch 5/100\n",
      "125/125 [==============================] - 1s 5ms/step - loss: 0.0992 - accuracy: 0.9532 - val_loss: 0.1616 - val_accuracy: 0.9430\n",
      "Epoch 6/100\n",
      "125/125 [==============================] - 1s 5ms/step - loss: 0.0804 - accuracy: 0.9638 - val_loss: 0.0777 - val_accuracy: 0.9640\n",
      "Epoch 7/100\n",
      "125/125 [==============================] - 1s 5ms/step - loss: 0.0729 - accuracy: 0.9630 - val_loss: 0.0533 - val_accuracy: 0.9730\n",
      "Epoch 8/100\n",
      "125/125 [==============================] - 1s 5ms/step - loss: 0.0665 - accuracy: 0.9660 - val_loss: 0.0940 - val_accuracy: 0.9650\n",
      "Epoch 9/100\n",
      "125/125 [==============================] - 1s 5ms/step - loss: 0.0740 - accuracy: 0.9645 - val_loss: 0.0786 - val_accuracy: 0.9470\n",
      "Epoch 10/100\n",
      "125/125 [==============================] - 1s 5ms/step - loss: 0.0610 - accuracy: 0.9707 - val_loss: 0.0827 - val_accuracy: 0.9530\n",
      "Epoch 11/100\n",
      "125/125 [==============================] - 1s 5ms/step - loss: 0.0683 - accuracy: 0.9655 - val_loss: 0.0853 - val_accuracy: 0.9460\n",
      "Epoch 12/100\n",
      "125/125 [==============================] - 1s 5ms/step - loss: 0.0613 - accuracy: 0.9693 - val_loss: 0.0701 - val_accuracy: 0.9610\n",
      "Epoch 13/100\n",
      "125/125 [==============================] - 1s 5ms/step - loss: 0.0568 - accuracy: 0.9678 - val_loss: 0.0460 - val_accuracy: 0.9760\n",
      "Epoch 14/100\n",
      "125/125 [==============================] - 1s 5ms/step - loss: 0.0448 - accuracy: 0.9783 - val_loss: 0.0399 - val_accuracy: 0.9740\n",
      "Epoch 15/100\n",
      "125/125 [==============================] - 1s 5ms/step - loss: 0.0530 - accuracy: 0.9718 - val_loss: 0.0466 - val_accuracy: 0.9740\n",
      "Epoch 16/100\n",
      "125/125 [==============================] - 1s 5ms/step - loss: 0.0411 - accuracy: 0.9760 - val_loss: 0.0370 - val_accuracy: 0.9780\n",
      "Epoch 17/100\n",
      "125/125 [==============================] - 1s 5ms/step - loss: 0.0429 - accuracy: 0.9768 - val_loss: 0.1000 - val_accuracy: 0.9500\n",
      "Epoch 18/100\n",
      "125/125 [==============================] - 1s 5ms/step - loss: 0.0480 - accuracy: 0.9725 - val_loss: 0.0789 - val_accuracy: 0.9580\n",
      "Epoch 19/100\n",
      "125/125 [==============================] - 1s 5ms/step - loss: 0.0527 - accuracy: 0.9688 - val_loss: 0.0475 - val_accuracy: 0.9710\n",
      "Epoch 20/100\n",
      "125/125 [==============================] - 1s 5ms/step - loss: 0.0459 - accuracy: 0.9700 - val_loss: 0.0414 - val_accuracy: 0.9750\n",
      "Epoch 21/100\n",
      "125/125 [==============================] - 1s 5ms/step - loss: 0.0418 - accuracy: 0.9743 - val_loss: 0.0357 - val_accuracy: 0.9790\n",
      "Epoch 22/100\n",
      "125/125 [==============================] - 1s 6ms/step - loss: 0.0399 - accuracy: 0.9728 - val_loss: 0.0357 - val_accuracy: 0.9750\n",
      "Epoch 23/100\n",
      "125/125 [==============================] - 1s 6ms/step - loss: 0.0375 - accuracy: 0.9772 - val_loss: 0.0375 - val_accuracy: 0.9780\n",
      "Epoch 24/100\n",
      "125/125 [==============================] - 1s 5ms/step - loss: 0.0388 - accuracy: 0.9760 - val_loss: 0.0343 - val_accuracy: 0.9740\n",
      "Epoch 25/100\n",
      "125/125 [==============================] - 1s 5ms/step - loss: 0.0454 - accuracy: 0.9753 - val_loss: 0.0643 - val_accuracy: 0.9710\n",
      "Epoch 26/100\n",
      "125/125 [==============================] - 1s 5ms/step - loss: 0.0392 - accuracy: 0.9753 - val_loss: 0.0420 - val_accuracy: 0.9690\n",
      "Epoch 27/100\n",
      "125/125 [==============================] - 1s 5ms/step - loss: 0.0397 - accuracy: 0.9765 - val_loss: 0.0367 - val_accuracy: 0.9790\n",
      "Epoch 28/100\n",
      "125/125 [==============================] - 1s 5ms/step - loss: 0.0358 - accuracy: 0.9755 - val_loss: 0.0359 - val_accuracy: 0.9730\n",
      "Epoch 29/100\n",
      "125/125 [==============================] - 1s 5ms/step - loss: 0.0382 - accuracy: 0.9765 - val_loss: 0.0392 - val_accuracy: 0.9740\n",
      "Epoch 30/100\n",
      "125/125 [==============================] - 1s 5ms/step - loss: 0.0341 - accuracy: 0.9790 - val_loss: 0.0480 - val_accuracy: 0.9650\n",
      "Epoch 31/100\n",
      "125/125 [==============================] - 1s 5ms/step - loss: 0.0381 - accuracy: 0.9772 - val_loss: 0.1052 - val_accuracy: 0.9560\n",
      "Epoch 32/100\n",
      "125/125 [==============================] - 1s 6ms/step - loss: 0.0329 - accuracy: 0.9787 - val_loss: 0.0362 - val_accuracy: 0.9740\n",
      "Epoch 33/100\n",
      "125/125 [==============================] - 1s 6ms/step - loss: 0.0331 - accuracy: 0.9775 - val_loss: 0.0425 - val_accuracy: 0.9690\n",
      "Epoch 34/100\n",
      "125/125 [==============================] - 1s 5ms/step - loss: 0.0376 - accuracy: 0.9753 - val_loss: 0.0396 - val_accuracy: 0.9740\n"
     ]
    }
   ],
   "source": [
    "history = model.fit(\n",
    "    X_train,\n",
    "    to_categorical(y_train),\n",
    "    epochs=100,\n",
    "    batch_size=32,\n",
    "    validation_data=(X_val, to_categorical(y_val)),\n",
    "    callbacks=[EarlyStopping(patience=10)],\n",
    ")"
   ]
  },
  {
   "cell_type": "code",
   "execution_count": 144,
   "metadata": {},
   "outputs": [],
   "source": [
    "model.save(\"../models/wake_word_model.h5\")"
   ]
  },
  {
   "cell_type": "code",
   "execution_count": 146,
   "metadata": {},
   "outputs": [
    {
     "data": {
      "image/png": "[encoded data removed]",
      "text/plain": [
       "<Figure size 640x480 with 1 Axes>"
      ]
     },
     "metadata": {},
     "output_type": "display_data"
    }
   ],
   "source": [
    "plt.plot(history.history[\"accuracy\"], label=\"accuracy\")\n",
    "plt.plot(history.history[\"val_accuracy\"], label=\"val_accuracy\")\n",
    "plt.xlabel(\"Epoch\")\n",
    "plt.ylabel(\"Accuracy\")\n",
    "plt.ylim([0, 1])\n",
    "plt.legend(loc=\"lower right\")\n",
    "plt.show()"
   ]
  },
  {
   "cell_type": "code",
   "execution_count": 147,
   "metadata": {},
   "outputs": [
    {
     "data": {
      "image/png": "[encoded data removed]",
      "text/plain": [
       "<Figure size 640x480 with 1 Axes>"
      ]
     },
     "metadata": {},
     "output_type": "display_data"
    }
   ],
   "source": [
    "plt.plot(history.history[\"loss\"], label=\"loss\")\n",
    "plt.plot(history.history[\"val_loss\"], label=\"val_loss\")\n",
    "plt.xlabel(\"Epoch\")\n",
    "plt.ylabel(\"Loss\")\n",
    "plt.legend(loc=\"upper right\")\n",
    "plt.show()"
   ]
  },
  {
   "cell_type": "code",
   "execution_count": 152,
   "metadata": {},
   "outputs": [
    {
     "name": "stdout",
     "output_type": "stream",
     "text": [
      "32/32 [==============================] - 0s 3ms/step - loss: 0.0396 - accuracy: 0.9740\n",
      "Test Loss:  0.03955698758363724\n",
      "Test Accuracy:  0.9739999771118164\n"
     ]
    }
   ],
   "source": [
    "loss, accuracy = model.evaluate(X_test, to_categorical(y_test))\n",
    "print(\"Test Loss: \", loss)\n",
    "print(\"Test Accuracy: \", accuracy)"
   ]
  },
  {
   "cell_type": "code",
   "execution_count": 178,
   "metadata": {},
   "outputs": [
    {
     "name": "stdout",
     "output_type": "stream",
     "text": [
      "1/1 [==============================] - 0s 18ms/step\n"
     ]
    },
    {
     "data": {
      "image/png": "[encoded data removed]",
      "text/plain": [
       "<Figure size 640x480 with 2 Axes>"
      ]
     },
     "metadata": {},
     "output_type": "display_data"
    }
   ],
   "source": [
    "y_pred = model.predict(X_test)\n",
    "y_pred = np.argmax(y_pred, axis=1)\n",
    "y_test = np.argmax(to_categorical(y_test), axis=1)\n",
    "cm = confusion_matrix(y_test, y_pred)\n",
    "sns.heatmap(cm, annot=True)\n",
    "\n",
    "plt.show()"
   ]
  }
 ],
 "metadata": {
  "kernelspec": {
   "display_name": "tf",
   "language": "python",
   "name": "python3"
  },
  "language_info": {
   "codemirror_mode": {
    "name": "ipython",
    "version": 3
   },
   "file_extension": ".py",
   "mimetype": "text/x-python",
   "name": "python",
   "nbconvert_exporter": "python",
   "pygments_lexer": "ipython3",
   "version": "3.9.19"
  }
 },
 "nbformat": 4,
 "nbformat_minor": 2
}
