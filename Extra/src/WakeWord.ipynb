{
 "cells": [
  {
   "cell_type": "code",
   "execution_count": 2,
   "metadata": {},
   "outputs": [],
   "source": [
    "import sounddevice as sd\n",
    "from scipy.io.wavfile import write\n",
    "import os\n",
    "import IPython.display as ipd\n",
    "import librosa\n",
    "import librosa.display\n",
    "import pandas as pd\n",
    "import time\n",
    "import warnings\n",
    "import seaborn as sns\n",
    "import numpy as np\n",
    "from tqdm import tqdm\n",
    "import matplotlib.pyplot as plt\n",
    "from sklearn.model_selection import train_test_split\n",
    "from sklearn.preprocessing import LabelEncoder\n",
    "from keras.utils import to_categorical\n",
    "from keras.models import Sequential\n",
    "from keras.layers import (\n",
    "    Dense,\n",
    "    Conv1D,\n",
    "    MaxPooling1D,\n",
    "    BatchNormalization,\n",
    "    Dropout,\n",
    "    Flatten,\n",
    "    Conv2D,\n",
    "    MaxPool2D,\n",
    ")"
   ]
  },
  {
   "cell_type": "code",
   "execution_count": 23,
   "metadata": {},
   "outputs": [],
   "source": [
    "def record_2_sec_voice(folder_path):\n",
    "    fs = 44100\n",
    "    seconds = 2 \n",
    "\n",
    "    myrecording = sd.rec(int(seconds * fs), samplerate=fs, channels=2, dtype=\"int16\")\n",
    "    print(\"Recording Audio\")\n",
    "    sd.wait()  \n",
    "    print(\"Audio recording complete\")\n",
    "    # sd.play(myrecording, fs)\n",
    "    # sd.wait()\n",
    "    # print(\"Play Audio Complete\")\n",
    "    \n",
    "    num_files = len([f for f in os.listdir(folder_path)if os.path.isfile(os.path.join(folder_path, f))])\n",
    "    write(folder_path + \"/output\" + str(num_files) + \".wav\", fs, myrecording) "
   ]
  },
  {
   "cell_type": "code",
   "execution_count": 24,
   "metadata": {},
   "outputs": [],
   "source": [
    "def record_wake_word(num_files):\n",
    "    path = \"../data/wake_word\"\n",
    "\n",
    "    ipd.clear_output(wait=True)\n",
    "    for i in tqdm(range(num_files)):\n",
    "        record_2_sec_voice(path)\n",
    "        print(\"Recorded Wake Word\")\n",
    "        ipd.clear_output(wait=True)\n",
    "        time.sleep(1)"
   ]
  },
  {
   "cell_type": "code",
   "execution_count": 25,
   "metadata": {},
   "outputs": [],
   "source": [
    "def record_not_wake_word(num_files):\n",
    "    path = \"../data/not_wake_word\"\n",
    "    \n",
    "    ipd.clear_output(wait=True)\n",
    "    for i in tqdm(range(num_files)):\n",
    "        record_2_sec_voice(path)\n",
    "        print(\"Recorded Not Wake Word\")\n",
    "        ipd.clear_output(wait=True)\n",
    "        time.sleep(1)"
   ]
  },
  {
   "cell_type": "code",
   "execution_count": 26,
   "metadata": {},
   "outputs": [
    {
     "name": "stderr",
     "output_type": "stream",
     "text": [
      "100%|██████████| 100/100 [05:09<00:00,  3.10s/it]\n"
     ]
    }
   ],
   "source": [
    "record_wake_word(100)"
   ]
  },
  {
   "cell_type": "code",
   "execution_count": 27,
   "metadata": {},
   "outputs": [
    {
     "name": "stderr",
     "output_type": "stream",
     "text": [
      "100%|██████████| 100/100 [05:09<00:00,  3.10s/it]\n"
     ]
    }
   ],
   "source": [
    "record_not_wake_word(100)"
   ]
  }
 ],
 "metadata": {
  "kernelspec": {
   "display_name": "tf",
   "language": "python",
   "name": "python3"
  },
  "language_info": {
   "codemirror_mode": {
    "name": "ipython",
    "version": 3
   },
   "file_extension": ".py",
   "mimetype": "text/x-python",
   "name": "python",
   "nbconvert_exporter": "python",
   "pygments_lexer": "ipython3",
   "version": "3.9.19"
  }
 },
 "nbformat": 4,
 "nbformat_minor": 2
}
