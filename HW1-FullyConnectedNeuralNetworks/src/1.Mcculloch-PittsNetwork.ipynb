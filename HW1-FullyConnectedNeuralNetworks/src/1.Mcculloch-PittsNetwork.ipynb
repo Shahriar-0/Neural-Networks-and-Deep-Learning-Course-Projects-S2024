{
 "cells": [
  {
   "cell_type": "markdown",
   "metadata": {},
   "source": [
    "# Mcculloch-Pitts Neuron"
   ]
  },
  {
   "attachments": {
    "Modified-twos-complement-circuit-for-32-bit-input.png": {
     "image/png": "[encoded data removed]"
    }
   },
   "cell_type": "markdown",
   "metadata": {},
   "source": [
    "## Introduction\n",
    "Mcculloch-Pitts Neuron is a simple model of a neuron. It takes a set of binary inputs and produces a binary output. The output is 1 if the weighted sum of the inputs is greater than a threshold value, and 0 otherwise. The model is named after Warren McCulloch and Walter Pitts, who introduced it in 1943. The model is also known as a threshold logic unit.  \n",
    "\n",
    "In this network all inputs and outputs are binary. The inputs are either 0 or 1, and the output is either 0 or 1. \n",
    "\n",
    "We try to model a 4-bit, 2's complement circuit using Mcculloch-Pitts Neuron, the circuit is as follows:  \n",
    "\n",
    "![Modified-twos-complement-circuit-for-32-bit-input.png](attachment:Modified-twos-complement-circuit-for-32-bit-input.png)"
   ]
  },
  {
   "cell_type": "code",
   "execution_count": 1,
   "metadata": {},
   "outputs": [],
   "source": [
    "import numpy as np\n",
    "import pandas as pd\n",
    "\n",
    "from typing import Callable\n",
    "\n",
    "import matplotlib.pyplot as plt\n",
    "import seaborn as sns\n",
    "\n",
    "from sklearn.metrics import confusion_matrix\n",
    "from torch import nn, optim, tensor\n",
    "from torch.nn import functional as F\n",
    "from torch.utils.data import DataLoader, TensorDataset"
   ]
  },
  {
   "cell_type": "markdown",
   "metadata": {},
   "source": [
    "## Creating the dataset\n",
    "\n",
    "We will create a dataset of 4-bit numbers and their 2's complement. The 2's complement of a number is obtained by inverting all the bits of the number and adding 1 to the least significant bit."
   ]
  },
  {
   "cell_type": "code",
   "execution_count": 54,
   "metadata": {},
   "outputs": [],
   "source": [
    "class TwosComplementDataset:\n",
    "    def __init__(\n",
    "        self, \n",
    "        n_samples: int = 1000, \n",
    "        n_bits: int = 4, \n",
    "        transform: Callable = None\n",
    "    ):\n",
    "        self._n_samples = n_samples\n",
    "        self._n_bits = n_bits\n",
    "        self._transform = transform\n",
    "        self._generate_data()\n",
    "\n",
    "    def _generate_data(self):\n",
    "        self._x = np.random.randint(0, 2, (self._n_samples, self._n_bits))\n",
    "        self._y = self._twos_complement(self._x)\n",
    "\n",
    "        self._x = tensor(self._x, requires_grad=False)\n",
    "        self._y = tensor(self._y, requires_grad=False)\n",
    "\n",
    "    def _twos_complement(self, x: np.ndarray[np.ndarray[int]]) -> np.ndarray[int]:\n",
    "        return np.array([self._twos_complement_single(x_i) for x_i in x])\n",
    "\n",
    "    def _twos_complement_single(self, x: np.ndarray[int]) -> np.ndarray[int]:\n",
    "        # if x[0] == 0: # real twos complement \n",
    "        #     return x\n",
    "        if np.all(x == 0):\n",
    "            return x\n",
    "        last_one_idx = np.where(x == 1)[0][-1]\n",
    "        x = np.copy(x)\n",
    "        x[:last_one_idx] = 1 - x[:last_one_idx]\n",
    "        return x\n",
    "\n",
    "    def __len__(self):\n",
    "        return self._n_samples\n",
    "\n",
    "    def __getitem__(self, idx):\n",
    "        x = self._x[idx]\n",
    "        y = self._y[idx]\n",
    "\n",
    "        if self._transform:\n",
    "            x, y = self._transform(x, y)\n",
    "\n",
    "        return x, y\n",
    "\n",
    "    def get_data(self):\n",
    "        return self._x, self._y\n",
    "\n",
    "    def get_dataloader(self, batch_size: int = 32):\n",
    "        return DataLoader(\n",
    "            TensorDataset(self._x, self._y), batch_size=batch_size, shuffle=True\n",
    "        )\n",
    "        \n",
    "    def show_samples(self, n_samples: int = 5):\n",
    "        x, y = self.get_data()\n",
    "        for i in range(n_samples):\n",
    "            print(f\"x: {x[i].numpy()}, y: {y[i].numpy()}\")"
   ]
  },
  {
   "cell_type": "code",
   "execution_count": 55,
   "metadata": {},
   "outputs": [],
   "source": [
    "dataset = TwosComplementDataset(n_samples=1000, n_bits=4)"
   ]
  },
  {
   "cell_type": "code",
   "execution_count": 56,
   "metadata": {},
   "outputs": [
    {
     "name": "stdout",
     "output_type": "stream",
     "text": [
      "x: [0 1 0 1], y: [1 0 1 1]\n",
      "x: [1 1 0 0], y: [0 1 0 0]\n",
      "x: [1 1 1 1], y: [0 0 0 1]\n",
      "x: [0 0 0 1], y: [1 1 1 1]\n",
      "x: [0 0 1 0], y: [1 1 1 0]\n"
     ]
    }
   ],
   "source": [
    "dataset.show_samples()"
   ]
  }
 ],
 "metadata": {
  "kernelspec": {
   "display_name": "Python 3",
   "language": "python",
   "name": "python3"
  },
  "language_info": {
   "codemirror_mode": {
    "name": "ipython",
    "version": 3
   },
   "file_extension": ".py",
   "mimetype": "text/x-python",
   "name": "python",
   "nbconvert_exporter": "python",
   "pygments_lexer": "ipython3",
   "version": "3.11.3"
  }
 },
 "nbformat": 4,
 "nbformat_minor": 2
}
