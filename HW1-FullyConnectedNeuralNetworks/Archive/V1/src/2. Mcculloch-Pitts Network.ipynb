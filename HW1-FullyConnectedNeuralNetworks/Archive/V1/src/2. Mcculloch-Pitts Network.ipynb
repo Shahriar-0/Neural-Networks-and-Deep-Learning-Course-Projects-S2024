{
 "cells": [
  {
   "cell_type": "markdown",
   "id": "ef7bfda5",
   "metadata": {
    "papermill": {
     "duration": 0.007831,
     "end_time": "2023-11-08T16:15:26.577160",
     "exception": false,
     "start_time": "2023-11-08T16:15:26.569329",
     "status": "completed"
    },
    "tags": []
   },
   "source": [
    "# Mcculloch-Pitts Network"
   ]
  },
  {
   "cell_type": "markdown",
   "id": "1f111566",
   "metadata": {
    "papermill": {
     "duration": 0.007559,
     "end_time": "2023-11-08T16:15:26.592258",
     "exception": false,
     "start_time": "2023-11-08T16:15:26.584699",
     "status": "completed"
    },
    "tags": []
   },
   "source": [
    "We are going to implement a simple 2 layer network with 7 input neurons and 4 output neurons. This network is designed to recognize the digits 6, 7, 8 and 9. The input neurons are binary neurons, which means that they can only take values 0 or 1. The output neurons are also binary neurons and only the corresponding output neuron for the digit should be 1 and the rest should be 0. For example, if the input is 6, then the output should be [1, 0, 0, 0]. for other combinations (other digits and invalid combinations) the output should be [0, 0, 0, 0]."
   ]
  },
  {
   "cell_type": "markdown",
   "id": "14d11e88",
   "metadata": {
    "papermill": {
     "duration": 0.007079,
     "end_time": "2023-11-08T16:15:26.606884",
     "exception": false,
     "start_time": "2023-11-08T16:15:26.599805",
     "status": "completed"
    },
    "tags": []
   },
   "source": [
    "## Importing Libraries"
   ]
  },
  {
   "cell_type": "code",
   "execution_count": 1,
   "id": "a1d6d95f",
   "metadata": {
    "execution": {
     "iopub.execute_input": "2023-11-08T16:15:26.624053Z",
     "iopub.status.busy": "2023-11-08T16:15:26.623206Z",
     "iopub.status.idle": "2023-11-08T16:15:33.255968Z",
     "shell.execute_reply": "2023-11-08T16:15:33.254759Z"
    },
    "papermill": {
     "duration": 6.644768,
     "end_time": "2023-11-08T16:15:33.258942",
     "exception": false,
     "start_time": "2023-11-08T16:15:26.614174",
     "status": "completed"
    },
    "tags": []
   },
   "outputs": [],
   "source": [
    "import itertools\n",
    "import numpy as np\n",
    "import pandas as pd\n",
    "import matplotlib.pyplot as plt \n",
    "import seaborn as sns\n",
    "import torch\n",
    "import torch.nn as nn\n",
    "import torch.nn.functional as F\n",
    "import torch.optim as optim\n",
    "import torch.utils.data as data\n",
    "import tqdm"
   ]
  },
  {
   "cell_type": "markdown",
   "id": "3b52f64f",
   "metadata": {
    "papermill": {
     "duration": 0.007066,
     "end_time": "2023-11-08T16:15:33.273518",
     "exception": false,
     "start_time": "2023-11-08T16:15:33.266452",
     "status": "completed"
    },
    "tags": []
   },
   "source": [
    "## Creating dataset"
   ]
  },
  {
   "cell_type": "markdown",
   "id": "db1020f5",
   "metadata": {
    "papermill": {
     "duration": 0.007645,
     "end_time": "2023-11-08T16:15:33.289097",
     "exception": false,
     "start_time": "2023-11-08T16:15:33.281452",
     "status": "completed"
    },
    "tags": []
   },
   "source": [
    " We are going to create a dataset of 128 samples for each combination of input and output. The input is a 7 bit binary number and the output is a 4 bit binary number. "
   ]
  },
  {
   "cell_type": "code",
   "execution_count": 2,
   "id": "78a333ab",
   "metadata": {
    "execution": {
     "iopub.execute_input": "2023-11-08T16:15:33.306548Z",
     "iopub.status.busy": "2023-11-08T16:15:33.305863Z",
     "iopub.status.idle": "2023-11-08T16:15:33.318153Z",
     "shell.execute_reply": "2023-11-08T16:15:33.316909Z"
    },
    "papermill": {
     "duration": 0.024238,
     "end_time": "2023-11-08T16:15:33.320780",
     "exception": false,
     "start_time": "2023-11-08T16:15:33.296542",
     "status": "completed"
    },
    "tags": []
   },
   "outputs": [],
   "source": [
    "class SevenSegmentDataset(data.Dataset):\n",
    "    def __init__(self, transform=None):\n",
    "        self.transform = transform\n",
    "        # self.data should contain [[0,0,0,0,0,0,0],[0,0,0,0,0,0,1],...,[1,1,1,1,1,1,1]]\n",
    "        self.data = list(itertools.product([0, 1], repeat=7))\n",
    "        self.data = [list(i) for i in self.data]\n",
    "        self.labels = [[0, 0, 0, 0] for _ in range(128)]\n",
    "        # correcting the labels for 6, 7, 8, and 9\n",
    "        self.labels[95] = [1, 0, 0, 0]\n",
    "        self.labels[112] = [0, 1, 0, 0]\n",
    "        self.labels[127] = [0, 0, 1, 0]\n",
    "        self.labels[123] = [0, 0, 0, 1]\n",
    "        self.data = torch.tensor(self.data, dtype=torch.float32, requires_grad=True)\n",
    "        self.labels = torch.tensor(self.labels, dtype=torch.float32, requires_grad=True)\n",
    "        self.len = len(self.data)\n",
    "    def __len__(self):\n",
    "        return self.len\n",
    "    def __getitem__(self, idx):\n",
    "        sample = self.data[idx]\n",
    "        label = self.labels[idx]\n",
    "        if self.transform:\n",
    "            sample = self.transform(sample)\n",
    "        return sample, label    "
   ]
  },
  {
   "cell_type": "code",
   "execution_count": 3,
   "id": "54da31a7",
   "metadata": {
    "execution": {
     "iopub.execute_input": "2023-11-08T16:15:33.338581Z",
     "iopub.status.busy": "2023-11-08T16:15:33.337845Z",
     "iopub.status.idle": "2023-11-08T16:15:33.368370Z",
     "shell.execute_reply": "2023-11-08T16:15:33.367220Z"
    },
    "papermill": {
     "duration": 0.043141,
     "end_time": "2023-11-08T16:15:33.371374",
     "exception": false,
     "start_time": "2023-11-08T16:15:33.328233",
     "status": "completed"
    },
    "tags": []
   },
   "outputs": [],
   "source": [
    "dataset = SevenSegmentDataset()\n",
    "data_loader = data.DataLoader(dataset, batch_size=32, shuffle=True)"
   ]
  },
  {
   "cell_type": "markdown",
   "id": "ff201b0f",
   "metadata": {
    "papermill": {
     "duration": 0.007147,
     "end_time": "2023-11-08T16:15:33.387172",
     "exception": false,
     "start_time": "2023-11-08T16:15:33.380025",
     "status": "completed"
    },
    "tags": []
   },
   "source": [
    "## One Layer Network"
   ]
  },
  {
   "cell_type": "markdown",
   "id": "0cdc13ef",
   "metadata": {
    "papermill": {
     "duration": 0.007283,
     "end_time": "2023-11-08T16:15:33.402432",
     "exception": false,
     "start_time": "2023-11-08T16:15:33.395149",
     "status": "completed"
    },
    "tags": []
   },
   "source": [
    "### Defining the network"
   ]
  },
  {
   "cell_type": "code",
   "execution_count": 4,
   "id": "95f747f1",
   "metadata": {
    "execution": {
     "iopub.execute_input": "2023-11-08T16:15:33.419339Z",
     "iopub.status.busy": "2023-11-08T16:15:33.418907Z",
     "iopub.status.idle": "2023-11-08T16:15:33.425761Z",
     "shell.execute_reply": "2023-11-08T16:15:33.424502Z"
    },
    "papermill": {
     "duration": 0.018444,
     "end_time": "2023-11-08T16:15:33.428336",
     "exception": false,
     "start_time": "2023-11-08T16:15:33.409892",
     "status": "completed"
    },
    "tags": []
   },
   "outputs": [],
   "source": [
    "class OneLayerNet(nn.Module):\n",
    "    def __init__(self):\n",
    "        super().__init__()\n",
    "        self.linear1 = nn.Linear(7, 4)\n",
    "\n",
    "    def forward(self, x):\n",
    "        x = self.linear1(x)\n",
    "        x = torch.where(x >= 0, torch.tensor([1]), torch.tensor([0]))\n",
    "        return x"
   ]
  },
  {
   "cell_type": "code",
   "execution_count": 5,
   "id": "5d693a34",
   "metadata": {
    "execution": {
     "iopub.execute_input": "2023-11-08T16:15:33.446414Z",
     "iopub.status.busy": "2023-11-08T16:15:33.445040Z",
     "iopub.status.idle": "2023-11-08T16:15:33.471824Z",
     "shell.execute_reply": "2023-11-08T16:15:33.470873Z"
    },
    "papermill": {
     "duration": 0.038171,
     "end_time": "2023-11-08T16:15:33.474466",
     "exception": false,
     "start_time": "2023-11-08T16:15:33.436295",
     "status": "completed"
    },
    "tags": []
   },
   "outputs": [],
   "source": [
    "oneLayerNet = OneLayerNet()"
   ]
  },
  {
   "cell_type": "markdown",
   "id": "54addbda",
   "metadata": {
    "papermill": {
     "duration": 0.00771,
     "end_time": "2023-11-08T16:15:33.489867",
     "exception": false,
     "start_time": "2023-11-08T16:15:33.482157",
     "status": "completed"
    },
    "tags": []
   },
   "source": [
    "### Training the network"
   ]
  },
  {
   "cell_type": "code",
   "execution_count": 6,
   "id": "2c3c9862",
   "metadata": {
    "execution": {
     "iopub.execute_input": "2023-11-08T16:15:33.507969Z",
     "iopub.status.busy": "2023-11-08T16:15:33.506615Z",
     "iopub.status.idle": "2023-11-08T16:15:33.515317Z",
     "shell.execute_reply": "2023-11-08T16:15:33.513932Z"
    },
    "papermill": {
     "duration": 0.020699,
     "end_time": "2023-11-08T16:15:33.518246",
     "exception": false,
     "start_time": "2023-11-08T16:15:33.497547",
     "status": "completed"
    },
    "tags": []
   },
   "outputs": [],
   "source": [
    "oneLayerNet.linear1.weight = nn.Parameter(torch.tensor([[1., -1., 1., 1., 1., 1., 1.],\n",
    "                                                        [1., 1., 1., -1., -1., -1., -1.],\n",
    "                                                        [1., 1., 1., 1., 1., 1., 1.],\n",
    "                                                        [1., 1., 1., 1., -1., 1., 1.]]))\n",
    "\n",
    "oneLayerNet.linear1.bias = nn.Parameter(torch.tensor([-6., -3., -7., -6.]))\n"
   ]
  },
  {
   "cell_type": "markdown",
   "id": "78cdb016",
   "metadata": {
    "papermill": {
     "duration": 0.00763,
     "end_time": "2023-11-08T16:15:33.533536",
     "exception": false,
     "start_time": "2023-11-08T16:15:33.525906",
     "status": "completed"
    },
    "tags": []
   },
   "source": [
    "### Evaluating the network"
   ]
  },
  {
   "cell_type": "code",
   "execution_count": 7,
   "id": "00981fb7",
   "metadata": {
    "execution": {
     "iopub.execute_input": "2023-11-08T16:15:33.550661Z",
     "iopub.status.busy": "2023-11-08T16:15:33.550242Z",
     "iopub.status.idle": "2023-11-08T16:15:33.559003Z",
     "shell.execute_reply": "2023-11-08T16:15:33.557661Z"
    },
    "papermill": {
     "duration": 0.020566,
     "end_time": "2023-11-08T16:15:33.561699",
     "exception": false,
     "start_time": "2023-11-08T16:15:33.541133",
     "status": "completed"
    },
    "tags": []
   },
   "outputs": [],
   "source": [
    "def eval_model(model, data_loader):\n",
    "\n",
    "    model.eval()\n",
    "\n",
    "    num_preds = 0\n",
    "    true_preds = 0\n",
    "\n",
    "    with torch.no_grad():\n",
    "        for data, label in data_loader:\n",
    "            preds = model(data)\n",
    "            pred_labels = (preds)\n",
    "            num_preds += len(preds) * 4\n",
    "            true_preds += (pred_labels == label).sum().item()\n",
    "\n",
    "            # print wrong predictions\n",
    "            for i in range(len(preds)):\n",
    "                if not torch.all(pred_labels[i] == label[i]):\n",
    "                    print(f'Input: {data[i]}')\n",
    "                    print(f'Predicted: {pred_labels[i]} | Actual: {label[i]}')\n",
    "                    print()\n",
    "\n",
    "    return true_preds, num_preds"
   ]
  },
  {
   "cell_type": "code",
   "execution_count": 8,
   "id": "ffc8f2ec",
   "metadata": {
    "execution": {
     "iopub.execute_input": "2023-11-08T16:15:33.579757Z",
     "iopub.status.busy": "2023-11-08T16:15:33.578926Z",
     "iopub.status.idle": "2023-11-08T16:15:33.670698Z",
     "shell.execute_reply": "2023-11-08T16:15:33.669524Z"
    },
    "papermill": {
     "duration": 0.103819,
     "end_time": "2023-11-08T16:15:33.673435",
     "exception": false,
     "start_time": "2023-11-08T16:15:33.569616",
     "status": "completed"
    },
    "tags": []
   },
   "outputs": [
    {
     "name": "stdout",
     "output_type": "stream",
     "text": [
      "Accuracy: 100.00\n"
     ]
    }
   ],
   "source": [
    "oneLayerNet_true_preds, oneLayerNet_num_preds = eval_model(oneLayerNet, data_loader)\n",
    "\n",
    "print(f'Accuracy: {(oneLayerNet_true_preds/oneLayerNet_num_preds)*100:.2f}')"
   ]
  },
  {
   "cell_type": "markdown",
   "id": "ff92b4d9",
   "metadata": {
    "papermill": {
     "duration": 0.00772,
     "end_time": "2023-11-08T16:15:33.689050",
     "exception": false,
     "start_time": "2023-11-08T16:15:33.681330",
     "status": "completed"
    },
    "tags": []
   },
   "source": [
    "## Two Layer Network"
   ]
  },
  {
   "cell_type": "markdown",
   "id": "6f242e2e",
   "metadata": {
    "papermill": {
     "duration": 0.007598,
     "end_time": "2023-11-08T16:15:33.704731",
     "exception": false,
     "start_time": "2023-11-08T16:15:33.697133",
     "status": "completed"
    },
    "tags": []
   },
   "source": [
    "### Defining the network"
   ]
  },
  {
   "cell_type": "code",
   "execution_count": 9,
   "id": "c5d1b0ed",
   "metadata": {
    "execution": {
     "iopub.execute_input": "2023-11-08T16:15:33.722811Z",
     "iopub.status.busy": "2023-11-08T16:15:33.722149Z",
     "iopub.status.idle": "2023-11-08T16:15:33.730764Z",
     "shell.execute_reply": "2023-11-08T16:15:33.729205Z"
    },
    "papermill": {
     "duration": 0.02102,
     "end_time": "2023-11-08T16:15:33.733650",
     "exception": false,
     "start_time": "2023-11-08T16:15:33.712630",
     "status": "completed"
    },
    "tags": []
   },
   "outputs": [],
   "source": [
    "class TwoLayerNet(nn.Module):\n",
    "    \n",
    "    def __init__(self):\n",
    "        super().__init__()\n",
    "        self.linear1 = nn.Linear(7, 2)\n",
    "        self.linear2 = nn.Linear(2, 4)\n",
    "\n",
    "    def forward(self, x):\n",
    "        x = self.linear1(x)\n",
    "        x = torch.where(x >= 0, torch.tensor([1.]), torch.tensor([0.]))\n",
    "        x = self.linear2(x)\n",
    "        x = torch.where(x >= 0, torch.tensor([1.]), torch.tensor([0.]))\n",
    "        return x\n",
    "    "
   ]
  },
  {
   "cell_type": "code",
   "execution_count": 10,
   "id": "a52aeadd",
   "metadata": {
    "execution": {
     "iopub.execute_input": "2023-11-08T16:15:33.752962Z",
     "iopub.status.busy": "2023-11-08T16:15:33.752519Z",
     "iopub.status.idle": "2023-11-08T16:15:33.758505Z",
     "shell.execute_reply": "2023-11-08T16:15:33.757189Z"
    },
    "papermill": {
     "duration": 0.018913,
     "end_time": "2023-11-08T16:15:33.761180",
     "exception": false,
     "start_time": "2023-11-08T16:15:33.742267",
     "status": "completed"
    },
    "tags": []
   },
   "outputs": [],
   "source": [
    "twoLayerNet = TwoLayerNet()"
   ]
  },
  {
   "cell_type": "markdown",
   "id": "bcfc198f",
   "metadata": {
    "papermill": {
     "duration": 0.007809,
     "end_time": "2023-11-08T16:15:33.777230",
     "exception": false,
     "start_time": "2023-11-08T16:15:33.769421",
     "status": "completed"
    },
    "tags": []
   },
   "source": [
    "### Training the network"
   ]
  },
  {
   "cell_type": "code",
   "execution_count": 11,
   "id": "d8283450",
   "metadata": {
    "execution": {
     "iopub.execute_input": "2023-11-08T16:15:33.796427Z",
     "iopub.status.busy": "2023-11-08T16:15:33.796019Z",
     "iopub.status.idle": "2023-11-08T16:15:33.803552Z",
     "shell.execute_reply": "2023-11-08T16:15:33.801815Z"
    },
    "papermill": {
     "duration": 0.020686,
     "end_time": "2023-11-08T16:15:33.806162",
     "exception": false,
     "start_time": "2023-11-08T16:15:33.785476",
     "status": "completed"
    },
    "tags": []
   },
   "outputs": [],
   "source": [
    "twoLayerNet.linear1.weight = nn.Parameter(torch.tensor([[1., 1., 0., 0., 0., 1., 1.],\n",
    "                                                        [0., 0., 1., 1., 1., 0., 1.]]))\n",
    "\n",
    "twoLayerNet.linear1.bias = nn.Parameter(torch.tensor([-4., -4.]))"
   ]
  },
  {
   "cell_type": "code",
   "execution_count": 12,
   "id": "7ca1fad9",
   "metadata": {
    "execution": {
     "iopub.execute_input": "2023-11-08T16:15:33.825337Z",
     "iopub.status.busy": "2023-11-08T16:15:33.824265Z",
     "iopub.status.idle": "2023-11-08T16:15:33.831608Z",
     "shell.execute_reply": "2023-11-08T16:15:33.830762Z"
    },
    "papermill": {
     "duration": 0.019717,
     "end_time": "2023-11-08T16:15:33.834129",
     "exception": false,
     "start_time": "2023-11-08T16:15:33.814412",
     "status": "completed"
    },
    "tags": []
   },
   "outputs": [],
   "source": [
    "twoLayerNet.linear2.weight = nn.Parameter(torch.tensor([[-1., 1.],\n",
    "                                                        [-1., -1.],\n",
    "                                                        [1., 1.],\n",
    "                                                        [1., -1.]]))\n",
    "\n",
    "twoLayerNet.linear2.bias = nn.Parameter(torch.tensor([-1., 0., -2., -1.]))"
   ]
  },
  {
   "cell_type": "markdown",
   "id": "d319fed0",
   "metadata": {
    "papermill": {
     "duration": 0.007768,
     "end_time": "2023-11-08T16:15:33.850148",
     "exception": false,
     "start_time": "2023-11-08T16:15:33.842380",
     "status": "completed"
    },
    "tags": []
   },
   "source": [
    "### Evaluating the network"
   ]
  },
  {
   "cell_type": "code",
   "execution_count": 13,
   "id": "2eb884a8",
   "metadata": {
    "execution": {
     "iopub.execute_input": "2023-11-08T16:15:33.869054Z",
     "iopub.status.busy": "2023-11-08T16:15:33.867842Z",
     "iopub.status.idle": "2023-11-08T16:15:33.875269Z",
     "shell.execute_reply": "2023-11-08T16:15:33.874112Z"
    },
    "papermill": {
     "duration": 0.019783,
     "end_time": "2023-11-08T16:15:33.878082",
     "exception": false,
     "start_time": "2023-11-08T16:15:33.858299",
     "status": "completed"
    },
    "tags": []
   },
   "outputs": [],
   "source": [
    "digits = [torch.tensor([1, 0, 1, 1, 1, 1, 1], dtype=torch.float32),\n",
    "            torch.tensor([1, 1, 1, 0, 0, 0, 0], dtype=torch.float32),\n",
    "            torch.tensor([1, 1, 1, 1, 1, 1, 1], dtype=torch.float32),\n",
    "            torch.tensor([1, 1, 1, 1, 0, 1, 1], dtype=torch.float32)]"
   ]
  },
  {
   "cell_type": "code",
   "execution_count": 14,
   "id": "190b6bb5",
   "metadata": {
    "execution": {
     "iopub.execute_input": "2023-11-08T16:15:33.898664Z",
     "iopub.status.busy": "2023-11-08T16:15:33.897422Z",
     "iopub.status.idle": "2023-11-08T16:15:33.904663Z",
     "shell.execute_reply": "2023-11-08T16:15:33.903772Z"
    },
    "papermill": {
     "duration": 0.020635,
     "end_time": "2023-11-08T16:15:33.907089",
     "exception": false,
     "start_time": "2023-11-08T16:15:33.886454",
     "status": "completed"
    },
    "tags": []
   },
   "outputs": [],
   "source": [
    "labels = [torch.tensor([1, 0, 0, 0], dtype=torch.float32),\n",
    "            torch.tensor([0, 1, 0, 0], dtype=torch.float32),\n",
    "            torch.tensor([0, 0, 1, 0], dtype=torch.float32),\n",
    "            torch.tensor([0, 0, 0, 1], dtype=torch.float32)]"
   ]
  },
  {
   "cell_type": "code",
   "execution_count": 15,
   "id": "e70c8b52",
   "metadata": {
    "execution": {
     "iopub.execute_input": "2023-11-08T16:15:33.926183Z",
     "iopub.status.busy": "2023-11-08T16:15:33.924965Z",
     "iopub.status.idle": "2023-11-08T16:15:33.954013Z",
     "shell.execute_reply": "2023-11-08T16:15:33.952773Z"
    },
    "papermill": {
     "duration": 0.04128,
     "end_time": "2023-11-08T16:15:33.956567",
     "exception": false,
     "start_time": "2023-11-08T16:15:33.915287",
     "status": "completed"
    },
    "tags": []
   },
   "outputs": [
    {
     "name": "stdout",
     "output_type": "stream",
     "text": [
      "Accuracy: 100.00\n"
     ]
    }
   ],
   "source": [
    "num_preds = 0\n",
    "true_preds = 0\n",
    "\n",
    "for i in range(len(digits)):\n",
    "    pred = twoLayerNet(digits[i])\n",
    "    \n",
    "    num_preds += 4\n",
    "    true_preds += (pred == labels[i]).sum().item()\n",
    "\n",
    "    if not torch.all(pred == labels[i]):\n",
    "        print(f'Digit: {i+6}')\n",
    "        print(f'Input: {digits[i]}')\n",
    "        print(f'Predicted: {pred} | Actual: {labels[i]}')\n",
    "        print()\n",
    "\n",
    "print(f'Accuracy: {(true_preds/num_preds)*100:.2f}')"
   ]
  }
 ],
 "metadata": {
  "kernelspec": {
   "display_name": "Python 3",
   "language": "python",
   "name": "python3"
  },
  "language_info": {
   "codemirror_mode": {
    "name": "ipython",
    "version": 3
   },
   "file_extension": ".py",
   "mimetype": "text/x-python",
   "name": "python",
   "nbconvert_exporter": "python",
   "pygments_lexer": "ipython3",
   "version": "3.10.12"
  },
  "papermill": {
   "default_parameters": {},
   "duration": 12.441572,
   "end_time": "2023-11-08T16:15:35.089561",
   "environment_variables": {},
   "exception": null,
   "input_path": "__notebook__.ipynb",
   "output_path": "__notebook__.ipynb",
   "parameters": {},
   "start_time": "2023-11-08T16:15:22.647989",
   "version": "2.4.0"
  }
 },
 "nbformat": 4,
 "nbformat_minor": 5
}
