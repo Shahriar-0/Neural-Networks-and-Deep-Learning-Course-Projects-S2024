{
 "cells": [
  {
   "cell_type": "markdown",
   "id": "52db1802",
   "metadata": {
    "papermill": {
     "duration": 0.018197,
     "end_time": "2023-11-03T13:45:17.126328",
     "exception": false,
     "start_time": "2023-11-03T13:45:17.108131",
     "status": "completed"
    },
    "tags": []
   },
   "source": [
    "# Multi Layer Perceptron"
   ]
  },
  {
   "cell_type": "markdown",
   "id": "8350f9c5",
   "metadata": {
    "papermill": {
     "duration": 0.017212,
     "end_time": "2023-11-03T13:45:17.161664",
     "exception": false,
     "start_time": "2023-11-03T13:45:17.144452",
     "status": "completed"
    },
    "tags": []
   },
   "source": [
    "## Importing the libraries"
   ]
  },
  {
   "cell_type": "code",
   "execution_count": 1,
   "id": "7976d7ec",
   "metadata": {
    "execution": {
     "iopub.execute_input": "2023-11-03T13:45:17.197408Z",
     "iopub.status.busy": "2023-11-03T13:45:17.197029Z",
     "iopub.status.idle": "2023-11-03T13:45:23.885329Z",
     "shell.execute_reply": "2023-11-03T13:45:23.884424Z"
    },
    "papermill": {
     "duration": 6.709016,
     "end_time": "2023-11-03T13:45:23.887831",
     "exception": false,
     "start_time": "2023-11-03T13:45:17.178815",
     "status": "completed"
    },
    "tags": []
   },
   "outputs": [
    {
     "name": "stderr",
     "output_type": "stream",
     "text": [
      "/opt/conda/lib/python3.10/site-packages/scipy/__init__.py:146: UserWarning: A NumPy version >=1.16.5 and <1.23.0 is required for this version of SciPy (detected version 1.23.5\n",
      "  warnings.warn(f\"A NumPy version >={np_minversion} and <{np_maxversion}\"\n"
     ]
    }
   ],
   "source": [
    "import random\n",
    "import numpy as np\n",
    "import pandas as pd\n",
    "import matplotlib.pyplot as plt\n",
    "import seaborn as sns\n",
    "from sklearn.metrics import confusion_matrix\n",
    "import tqdm\n",
    "import torch\n",
    "from torch import nn, optim\n",
    "import torch.nn.functional as F\n",
    "from torch.utils.data import DataLoader\n",
    "from torchvision import datasets, transforms"
   ]
  },
  {
   "cell_type": "markdown",
   "id": "691175ff",
   "metadata": {
    "papermill": {
     "duration": 0.017173,
     "end_time": "2023-11-03T13:45:23.923132",
     "exception": false,
     "start_time": "2023-11-03T13:45:23.905959",
     "status": "completed"
    },
    "tags": []
   },
   "source": [
    "### Check GPU"
   ]
  },
  {
   "cell_type": "code",
   "execution_count": 2,
   "id": "4b7f316b",
   "metadata": {
    "execution": {
     "iopub.execute_input": "2023-11-03T13:45:23.960202Z",
     "iopub.status.busy": "2023-11-03T13:45:23.959703Z",
     "iopub.status.idle": "2023-11-03T13:45:24.065039Z",
     "shell.execute_reply": "2023-11-03T13:45:24.064064Z"
    },
    "papermill": {
     "duration": 0.126426,
     "end_time": "2023-11-03T13:45:24.067312",
     "exception": false,
     "start_time": "2023-11-03T13:45:23.940886",
     "status": "completed"
    },
    "tags": []
   },
   "outputs": [
    {
     "name": "stdout",
     "output_type": "stream",
     "text": [
      "cuda\n"
     ]
    }
   ],
   "source": [
    "device = torch.device(\"cuda\") if torch.cuda.is_available() else torch.device(\"cpu\")\n",
    "print(device)"
   ]
  },
  {
   "cell_type": "markdown",
   "id": "bf18baf1",
   "metadata": {
    "papermill": {
     "duration": 0.017857,
     "end_time": "2023-11-03T13:45:24.103003",
     "exception": false,
     "start_time": "2023-11-03T13:45:24.085146",
     "status": "completed"
    },
    "tags": []
   },
   "source": [
    "## Loading MNIST dataset"
   ]
  },
  {
   "cell_type": "code",
   "execution_count": 3,
   "id": "a33aa69c",
   "metadata": {
    "execution": {
     "iopub.execute_input": "2023-11-03T13:45:24.139308Z",
     "iopub.status.busy": "2023-11-03T13:45:24.138961Z",
     "iopub.status.idle": "2023-11-03T13:45:25.031959Z",
     "shell.execute_reply": "2023-11-03T13:45:25.030365Z"
    },
    "papermill": {
     "duration": 0.914322,
     "end_time": "2023-11-03T13:45:25.034900",
     "exception": false,
     "start_time": "2023-11-03T13:45:24.120578",
     "status": "completed"
    },
    "tags": []
   },
   "outputs": [
    {
     "name": "stdout",
     "output_type": "stream",
     "text": [
      "Downloading http://yann.lecun.com/exdb/mnist/train-images-idx3-ubyte.gz\n",
      "Downloading http://yann.lecun.com/exdb/mnist/train-images-idx3-ubyte.gz to ./data/MNIST/raw/train-images-idx3-ubyte.gz\n"
     ]
    },
    {
     "name": "stderr",
     "output_type": "stream",
     "text": [
      "100%|██████████| 9912422/9912422 [00:00<00:00, 189575082.05it/s]"
     ]
    },
    {
     "name": "stdout",
     "output_type": "stream",
     "text": [
      "Extracting ./data/MNIST/raw/train-images-idx3-ubyte.gz to ./data/MNIST/raw\n"
     ]
    },
    {
     "name": "stderr",
     "output_type": "stream",
     "text": [
      "\n"
     ]
    },
    {
     "name": "stdout",
     "output_type": "stream",
     "text": [
      "\n",
      "Downloading http://yann.lecun.com/exdb/mnist/train-labels-idx1-ubyte.gz\n",
      "Downloading http://yann.lecun.com/exdb/mnist/train-labels-idx1-ubyte.gz to ./data/MNIST/raw/train-labels-idx1-ubyte.gz\n"
     ]
    },
    {
     "name": "stderr",
     "output_type": "stream",
     "text": [
      "100%|██████████| 28881/28881 [00:00<00:00, 43247302.33it/s]\n"
     ]
    },
    {
     "name": "stdout",
     "output_type": "stream",
     "text": [
      "Extracting ./data/MNIST/raw/train-labels-idx1-ubyte.gz to ./data/MNIST/raw\n",
      "\n",
      "Downloading http://yann.lecun.com/exdb/mnist/t10k-images-idx3-ubyte.gz\n",
      "Downloading http://yann.lecun.com/exdb/mnist/t10k-images-idx3-ubyte.gz to ./data/MNIST/raw/t10k-images-idx3-ubyte.gz\n"
     ]
    },
    {
     "name": "stderr",
     "output_type": "stream",
     "text": [
      "100%|██████████| 1648877/1648877 [00:00<00:00, 62827189.78it/s]"
     ]
    },
    {
     "name": "stdout",
     "output_type": "stream",
     "text": [
      "Extracting ./data/MNIST/raw/t10k-images-idx3-ubyte.gz to ./data/MNIST/raw\n"
     ]
    },
    {
     "name": "stderr",
     "output_type": "stream",
     "text": [
      "\n"
     ]
    },
    {
     "name": "stdout",
     "output_type": "stream",
     "text": [
      "\n",
      "Downloading http://yann.lecun.com/exdb/mnist/t10k-labels-idx1-ubyte.gz\n",
      "Downloading http://yann.lecun.com/exdb/mnist/t10k-labels-idx1-ubyte.gz to ./data/MNIST/raw/t10k-labels-idx1-ubyte.gz\n"
     ]
    },
    {
     "name": "stderr",
     "output_type": "stream",
     "text": [
      "100%|██████████| 4542/4542 [00:00<00:00, 6000166.54it/s]\n"
     ]
    },
    {
     "name": "stdout",
     "output_type": "stream",
     "text": [
      "Extracting ./data/MNIST/raw/t10k-labels-idx1-ubyte.gz to ./data/MNIST/raw\n",
      "\n"
     ]
    }
   ],
   "source": [
    "transform = transforms.Compose([transforms.ToTensor(), transforms.Lambda(lambda x: (x - x.min()) / (x.max() - x.min()))])\n",
    "\n",
    "trainset = datasets.MNIST('./data', download=True, train=True, transform=transform)\n",
    "testset = datasets.MNIST('./data', download=True, train=False, transform=transform)\n"
   ]
  },
  {
   "cell_type": "markdown",
   "id": "5fbcf07e",
   "metadata": {
    "papermill": {
     "duration": 0.019237,
     "end_time": "2023-11-03T13:45:25.073809",
     "exception": false,
     "start_time": "2023-11-03T13:45:25.054572",
     "status": "completed"
    },
    "tags": []
   },
   "source": [
    "## Exploring the dataset"
   ]
  },
  {
   "cell_type": "markdown",
   "id": "e84ea15e",
   "metadata": {
    "papermill": {
     "duration": 0.019168,
     "end_time": "2023-11-03T13:45:25.113431",
     "exception": false,
     "start_time": "2023-11-03T13:45:25.094263",
     "status": "completed"
    },
    "tags": []
   },
   "source": [
    "### Dataset shape and size"
   ]
  },
  {
   "cell_type": "code",
   "execution_count": 4,
   "id": "1a6ec70c",
   "metadata": {
    "execution": {
     "iopub.execute_input": "2023-11-03T13:45:25.154113Z",
     "iopub.status.busy": "2023-11-03T13:45:25.153726Z",
     "iopub.status.idle": "2023-11-03T13:45:25.159022Z",
     "shell.execute_reply": "2023-11-03T13:45:25.158053Z"
    },
    "papermill": {
     "duration": 0.028469,
     "end_time": "2023-11-03T13:45:25.161213",
     "exception": false,
     "start_time": "2023-11-03T13:45:25.132744",
     "status": "completed"
    },
    "tags": []
   },
   "outputs": [
    {
     "name": "stdout",
     "output_type": "stream",
     "text": [
      "Train data size: 60000\n",
      "Train data shape: torch.Size([28, 28])\n"
     ]
    }
   ],
   "source": [
    "train_shape = trainset.data.shape\n",
    "print(f\"Train data size: {train_shape[0]}\")\n",
    "print(f\"Train data shape: {train_shape[1:]}\")"
   ]
  },
  {
   "cell_type": "code",
   "execution_count": 5,
   "id": "e49ec0ac",
   "metadata": {
    "execution": {
     "iopub.execute_input": "2023-11-03T13:45:25.245882Z",
     "iopub.status.busy": "2023-11-03T13:45:25.245526Z",
     "iopub.status.idle": "2023-11-03T13:45:25.250901Z",
     "shell.execute_reply": "2023-11-03T13:45:25.249901Z"
    },
    "papermill": {
     "duration": 0.072754,
     "end_time": "2023-11-03T13:45:25.253326",
     "exception": false,
     "start_time": "2023-11-03T13:45:25.180572",
     "status": "completed"
    },
    "tags": []
   },
   "outputs": [
    {
     "name": "stdout",
     "output_type": "stream",
     "text": [
      "Test data size: 10000\n",
      "Test data shape: torch.Size([28, 28])\n"
     ]
    }
   ],
   "source": [
    "test_shape = testset.data.shape\n",
    "print(f\"Test data size: {test_shape[0]}\")\n",
    "print(f\"Test data shape: {test_shape[1:]}\")"
   ]
  },
  {
   "cell_type": "markdown",
   "id": "24fb2899",
   "metadata": {
    "papermill": {
     "duration": 0.019172,
     "end_time": "2023-11-03T13:45:25.292220",
     "exception": false,
     "start_time": "2023-11-03T13:45:25.273048",
     "status": "completed"
    },
    "tags": []
   },
   "source": [
    "### Sample image from each class"
   ]
  },
  {
   "cell_type": "code",
   "execution_count": 6,
   "id": "e3c950e1",
   "metadata": {
    "execution": {
     "iopub.execute_input": "2023-11-03T13:45:25.334306Z",
     "iopub.status.busy": "2023-11-03T13:45:25.333546Z",
     "iopub.status.idle": "2023-11-03T13:45:35.533008Z",
     "shell.execute_reply": "2023-11-03T13:45:35.531905Z"
    },
    "papermill": {
     "duration": 10.223171,
     "end_time": "2023-11-03T13:45:35.535559",
     "exception": false,
     "start_time": "2023-11-03T13:45:25.312388",
     "status": "completed"
    },
    "tags": []
   },
   "outputs": [
    {
     "data": {
      "image/png": "[encoded data removed]",
      "text/plain": [
       "<Figure size 1000x400 with 10 Axes>"
      ]
     },
     "metadata": {},
     "output_type": "display_data"
    }
   ],
   "source": [
    "samples = []\n",
    "labels = []\n",
    "\n",
    "label_indices = [[] for _ in range(len(trainset.classes))]\n",
    "for idx, (sample, label) in enumerate(trainset):\n",
    "    label_indices[label].append(idx)\n",
    "\n",
    "for label in range(len(trainset.classes)):\n",
    "    random_idx = random.choice(label_indices[label])\n",
    "    samples.append(trainset[random_idx][0])\n",
    "    labels.append(trainset[random_idx][1])\n",
    "    \n",
    "rows = 2\n",
    "cols = 5\n",
    "fig, axs = plt.subplots(rows, cols, figsize=(cols*2, rows*2))\n",
    "for i in range(rows):\n",
    "    for j in range(cols):\n",
    "        axs[i, j].imshow(samples[i*cols+j][0], cmap='gray')\n",
    "        axs[i, j].set_title(f\"Label: {labels[i*cols+j]}\")\n",
    "        axs[i, j].axis('off')\n",
    "\n",
    "plt.tight_layout()\n",
    "plt.show()"
   ]
  },
  {
   "cell_type": "markdown",
   "id": "52b48e4f",
   "metadata": {
    "papermill": {
     "duration": 0.019439,
     "end_time": "2023-11-03T13:45:35.575305",
     "exception": false,
     "start_time": "2023-11-03T13:45:35.555866",
     "status": "completed"
    },
    "tags": []
   },
   "source": [
    "### Histogram of sample count per class in training set"
   ]
  },
  {
   "cell_type": "code",
   "execution_count": 7,
   "id": "e6782c76",
   "metadata": {
    "execution": {
     "iopub.execute_input": "2023-11-03T13:45:35.615463Z",
     "iopub.status.busy": "2023-11-03T13:45:35.615124Z",
     "iopub.status.idle": "2023-11-03T13:45:35.870000Z",
     "shell.execute_reply": "2023-11-03T13:45:35.868992Z"
    },
    "papermill": {
     "duration": 0.277844,
     "end_time": "2023-11-03T13:45:35.872529",
     "exception": false,
     "start_time": "2023-11-03T13:45:35.594685",
     "status": "completed"
    },
    "tags": []
   },
   "outputs": [
    {
     "data": {
      "image/png": "[encoded data removed]",
      "text/plain": [
       "<Figure size 1000x500 with 1 Axes>"
      ]
     },
     "metadata": {},
     "output_type": "display_data"
    }
   ],
   "source": [
    "plt.figure(figsize=(10, 5))\n",
    "plt.bar(trainset.classes, [len(label_indices[i]) for i in range(len(trainset.classes))], color=sns.color_palette(\"mako\", len(trainset.classes)))\n",
    "plt.title(\"Train set\")\n",
    "plt.xlabel(\"label\")\n",
    "plt.ylabel(\"Count\")\n",
    "plt.show()"
   ]
  },
  {
   "cell_type": "markdown",
   "id": "4cded94d",
   "metadata": {
    "papermill": {
     "duration": 0.020155,
     "end_time": "2023-11-03T13:45:35.912424",
     "exception": false,
     "start_time": "2023-11-03T13:45:35.892269",
     "status": "completed"
    },
    "tags": []
   },
   "source": [
    "### Normalizing the dataset using min-max scaling"
   ]
  },
  {
   "cell_type": "markdown",
   "id": "977b4bf0",
   "metadata": {
    "papermill": {
     "duration": 0.01997,
     "end_time": "2023-11-03T13:45:35.952791",
     "exception": false,
     "start_time": "2023-11-03T13:45:35.932821",
     "status": "completed"
    },
    "tags": []
   },
   "source": [
    "This part has been done using transform function of torchvision.transforms while loading the dataset."
   ]
  },
  {
   "cell_type": "code",
   "execution_count": 8,
   "id": "54cd2967",
   "metadata": {
    "execution": {
     "iopub.execute_input": "2023-11-03T13:45:35.994769Z",
     "iopub.status.busy": "2023-11-03T13:45:35.994400Z",
     "iopub.status.idle": "2023-11-03T13:45:35.998614Z",
     "shell.execute_reply": "2023-11-03T13:45:35.997653Z"
    },
    "papermill": {
     "duration": 0.027709,
     "end_time": "2023-11-03T13:45:36.000790",
     "exception": false,
     "start_time": "2023-11-03T13:45:35.973081",
     "status": "completed"
    },
    "tags": []
   },
   "outputs": [],
   "source": [
    "# trainset.data = trainset.data.type(torch.float32)\n",
    "# trainset.data = (trainset.data - trainset.data.min()) / (trainset.data.max() - trainset.data.min())"
   ]
  },
  {
   "cell_type": "code",
   "execution_count": 9,
   "id": "a49996be",
   "metadata": {
    "execution": {
     "iopub.execute_input": "2023-11-03T13:45:36.042925Z",
     "iopub.status.busy": "2023-11-03T13:45:36.042175Z",
     "iopub.status.idle": "2023-11-03T13:45:36.046427Z",
     "shell.execute_reply": "2023-11-03T13:45:36.045556Z"
    },
    "papermill": {
     "duration": 0.027541,
     "end_time": "2023-11-03T13:45:36.048440",
     "exception": false,
     "start_time": "2023-11-03T13:45:36.020899",
     "status": "completed"
    },
    "tags": []
   },
   "outputs": [],
   "source": [
    "# testset.data = testset.data.type(torch.float32)\n",
    "# testset.data = (testset.data - testset.data.min()) / (testset.data.max() - testset.data.min())"
   ]
  },
  {
   "cell_type": "markdown",
   "id": "761dc9f2",
   "metadata": {
    "papermill": {
     "duration": 0.021376,
     "end_time": "2023-11-03T13:45:36.090042",
     "exception": false,
     "start_time": "2023-11-03T13:45:36.068666",
     "status": "completed"
    },
    "tags": []
   },
   "source": [
    "## Teacher Network"
   ]
  },
  {
   "cell_type": "markdown",
   "id": "254ff3f1",
   "metadata": {
    "papermill": {
     "duration": 0.020057,
     "end_time": "2023-11-03T13:45:36.130576",
     "exception": false,
     "start_time": "2023-11-03T13:45:36.110519",
     "status": "completed"
    },
    "tags": []
   },
   "source": [
    "### Defining the network"
   ]
  },
  {
   "cell_type": "code",
   "execution_count": 10,
   "id": "f1e23c60",
   "metadata": {
    "execution": {
     "iopub.execute_input": "2023-11-03T13:45:36.173375Z",
     "iopub.status.busy": "2023-11-03T13:45:36.172621Z",
     "iopub.status.idle": "2023-11-03T13:45:36.180313Z",
     "shell.execute_reply": "2023-11-03T13:45:36.179434Z"
    },
    "papermill": {
     "duration": 0.031553,
     "end_time": "2023-11-03T13:45:36.182426",
     "exception": false,
     "start_time": "2023-11-03T13:45:36.150873",
     "status": "completed"
    },
    "tags": []
   },
   "outputs": [],
   "source": [
    "class Classifier(nn.Module):\n",
    "    \n",
    "    def __init__(self, input_size, hidden1_size, hidden2_size, output_size):\n",
    "        super().__init__()\n",
    "        self.flatten = nn.Flatten()\n",
    "        self.linear1 = nn.Linear(input_size, hidden1_size)\n",
    "        self.act_fn1 = nn.ReLU()\n",
    "        self.linear2 = nn.Linear(hidden1_size, hidden2_size)\n",
    "        self.act_fn2 = nn.ReLU()\n",
    "        self.linear3 = nn.Linear(hidden2_size, output_size)\n",
    "\n",
    "    def forward(self, x):\n",
    "        x = self.flatten(x)\n",
    "        x = self.linear1(x)\n",
    "        x = self.act_fn1(x)\n",
    "        x = self.linear2(x)\n",
    "        x = self.act_fn2(x)\n",
    "        x = self.linear3(x)\n",
    "        return x\n"
   ]
  },
  {
   "cell_type": "code",
   "execution_count": 11,
   "id": "0186ff8c",
   "metadata": {
    "execution": {
     "iopub.execute_input": "2023-11-03T13:45:36.224115Z",
     "iopub.status.busy": "2023-11-03T13:45:36.223786Z",
     "iopub.status.idle": "2023-11-03T13:45:39.456681Z",
     "shell.execute_reply": "2023-11-03T13:45:39.455754Z"
    },
    "papermill": {
     "duration": 3.256728,
     "end_time": "2023-11-03T13:45:39.458964",
     "exception": false,
     "start_time": "2023-11-03T13:45:36.202236",
     "status": "completed"
    },
    "tags": []
   },
   "outputs": [
    {
     "data": {
      "text/plain": [
       "Classifier(\n",
       "  (flatten): Flatten(start_dim=1, end_dim=-1)\n",
       "  (linear1): Linear(in_features=784, out_features=1024, bias=True)\n",
       "  (act_fn1): ReLU()\n",
       "  (linear2): Linear(in_features=1024, out_features=512, bias=True)\n",
       "  (act_fn2): ReLU()\n",
       "  (linear3): Linear(in_features=512, out_features=10, bias=True)\n",
       ")"
      ]
     },
     "execution_count": 11,
     "metadata": {},
     "output_type": "execute_result"
    }
   ],
   "source": [
    "teacher_model = Classifier(28*28, 1024, 512, 10)\n",
    "teacher_model.to(device)"
   ]
  },
  {
   "cell_type": "markdown",
   "id": "596fd48d",
   "metadata": {
    "papermill": {
     "duration": 0.020124,
     "end_time": "2023-11-03T13:45:39.499972",
     "exception": false,
     "start_time": "2023-11-03T13:45:39.479848",
     "status": "completed"
    },
    "tags": []
   },
   "source": [
    "### Loss function"
   ]
  },
  {
   "cell_type": "code",
   "execution_count": 12,
   "id": "9e48fbbd",
   "metadata": {
    "execution": {
     "iopub.execute_input": "2023-11-03T13:45:39.542419Z",
     "iopub.status.busy": "2023-11-03T13:45:39.541583Z",
     "iopub.status.idle": "2023-11-03T13:45:39.546195Z",
     "shell.execute_reply": "2023-11-03T13:45:39.545341Z"
    },
    "papermill": {
     "duration": 0.027918,
     "end_time": "2023-11-03T13:45:39.548235",
     "exception": false,
     "start_time": "2023-11-03T13:45:39.520317",
     "status": "completed"
    },
    "tags": []
   },
   "outputs": [],
   "source": [
    "loss_module = nn.CrossEntropyLoss()"
   ]
  },
  {
   "cell_type": "markdown",
   "id": "8130dacb",
   "metadata": {
    "papermill": {
     "duration": 0.020195,
     "end_time": "2023-11-03T13:45:39.588544",
     "exception": false,
     "start_time": "2023-11-03T13:45:39.568349",
     "status": "completed"
    },
    "tags": []
   },
   "source": [
    "### Optimizer"
   ]
  },
  {
   "cell_type": "code",
   "execution_count": 13,
   "id": "dae6485e",
   "metadata": {
    "execution": {
     "iopub.execute_input": "2023-11-03T13:45:39.629205Z",
     "iopub.status.busy": "2023-11-03T13:45:39.628935Z",
     "iopub.status.idle": "2023-11-03T13:45:39.633764Z",
     "shell.execute_reply": "2023-11-03T13:45:39.632805Z"
    },
    "papermill": {
     "duration": 0.027802,
     "end_time": "2023-11-03T13:45:39.635875",
     "exception": false,
     "start_time": "2023-11-03T13:45:39.608073",
     "status": "completed"
    },
    "tags": []
   },
   "outputs": [],
   "source": [
    "learning_rate = 0.01\n",
    "optimizer = optim.SGD(teacher_model.parameters(), lr=learning_rate)"
   ]
  },
  {
   "cell_type": "markdown",
   "id": "f2003369",
   "metadata": {
    "papermill": {
     "duration": 0.019764,
     "end_time": "2023-11-03T13:45:39.675121",
     "exception": false,
     "start_time": "2023-11-03T13:45:39.655357",
     "status": "completed"
    },
    "tags": []
   },
   "source": [
    "### Data Loader"
   ]
  },
  {
   "cell_type": "code",
   "execution_count": 14,
   "id": "e9b6c8ec",
   "metadata": {
    "execution": {
     "iopub.execute_input": "2023-11-03T13:45:39.716795Z",
     "iopub.status.busy": "2023-11-03T13:45:39.715900Z",
     "iopub.status.idle": "2023-11-03T13:45:39.720950Z",
     "shell.execute_reply": "2023-11-03T13:45:39.720162Z"
    },
    "papermill": {
     "duration": 0.028027,
     "end_time": "2023-11-03T13:45:39.722962",
     "exception": false,
     "start_time": "2023-11-03T13:45:39.694935",
     "status": "completed"
    },
    "tags": []
   },
   "outputs": [],
   "source": [
    "batch_size = 32\n",
    "trainloader = DataLoader(trainset, batch_size=batch_size, shuffle=True)\n",
    "testloader = DataLoader(testset, batch_size=batch_size, shuffle=False)"
   ]
  },
  {
   "cell_type": "markdown",
   "id": "a30a57a4",
   "metadata": {
    "papermill": {
     "duration": 0.019751,
     "end_time": "2023-11-03T13:45:39.762406",
     "exception": false,
     "start_time": "2023-11-03T13:45:39.742655",
     "status": "completed"
    },
    "tags": []
   },
   "source": [
    "### Training the model"
   ]
  },
  {
   "cell_type": "code",
   "execution_count": 15,
   "id": "4dd81435",
   "metadata": {
    "execution": {
     "iopub.execute_input": "2023-11-03T13:45:39.805114Z",
     "iopub.status.busy": "2023-11-03T13:45:39.804397Z",
     "iopub.status.idle": "2023-11-03T13:45:39.808723Z",
     "shell.execute_reply": "2023-11-03T13:45:39.807788Z"
    },
    "papermill": {
     "duration": 0.027876,
     "end_time": "2023-11-03T13:45:39.810805",
     "exception": false,
     "start_time": "2023-11-03T13:45:39.782929",
     "status": "completed"
    },
    "tags": []
   },
   "outputs": [],
   "source": [
    "epochs = 20"
   ]
  },
  {
   "cell_type": "code",
   "execution_count": 16,
   "id": "233e156f",
   "metadata": {
    "execution": {
     "iopub.execute_input": "2023-11-03T13:45:39.852474Z",
     "iopub.status.busy": "2023-11-03T13:45:39.852092Z",
     "iopub.status.idle": "2023-11-03T13:45:39.860964Z",
     "shell.execute_reply": "2023-11-03T13:45:39.860045Z"
    },
    "papermill": {
     "duration": 0.031809,
     "end_time": "2023-11-03T13:45:39.862888",
     "exception": false,
     "start_time": "2023-11-03T13:45:39.831079",
     "status": "completed"
    },
    "tags": []
   },
   "outputs": [],
   "source": [
    "def train_model(model, data_loader, optimizer, loss_module, num_epochs):\n",
    "    \n",
    "    model.train()\n",
    "\n",
    "    loss_vals = []\n",
    "    num_preds = []\n",
    "    cor_preds = []\n",
    "\n",
    "    for epoch in tqdm.tqdm(range(num_epochs)):\n",
    "\n",
    "        epoch_loss = []\n",
    "        epoch_num_preds = 0\n",
    "        epoch_cor_preds = 0\n",
    "\n",
    "        for images, labels in data_loader:\n",
    "            \n",
    "            images = images.to(device)\n",
    "            labels = labels.to(device)\n",
    "            \n",
    "            preds = model(images)\n",
    "            preds = preds.squeeze(dim=1)\n",
    "\n",
    "            loss = loss_module(preds, labels.long())\n",
    "\n",
    "            optimizer.zero_grad()\n",
    "\n",
    "            loss.backward()\n",
    "            epoch_loss.append(loss.item())\n",
    "\n",
    "            optimizer.step()\n",
    "\n",
    "            epoch_num_preds += len(labels)\n",
    "            epoch_cor_preds += (preds.argmax(dim=1) == labels).sum().item()\n",
    "\n",
    "        loss_vals.append(np.mean(epoch_loss))\n",
    "        num_preds.append(epoch_num_preds)\n",
    "        cor_preds.append(epoch_cor_preds)\n",
    "\n",
    "    return loss_vals, num_preds, cor_preds\n"
   ]
  },
  {
   "cell_type": "code",
   "execution_count": 17,
   "id": "a623b66f",
   "metadata": {
    "execution": {
     "iopub.execute_input": "2023-11-03T13:45:39.905110Z",
     "iopub.status.busy": "2023-11-03T13:45:39.904340Z",
     "iopub.status.idle": "2023-11-03T13:45:39.911801Z",
     "shell.execute_reply": "2023-11-03T13:45:39.910884Z"
    },
    "papermill": {
     "duration": 0.030701,
     "end_time": "2023-11-03T13:45:39.913796",
     "exception": false,
     "start_time": "2023-11-03T13:45:39.883095",
     "status": "completed"
    },
    "tags": []
   },
   "outputs": [],
   "source": [
    "def plot_training_summary(loss_vals, num_preds, cor_preds):\n",
    "\n",
    "    plt.figure(figsize=(10, 5))\n",
    "\n",
    "    plt.subplot(1, 2, 1)\n",
    "    plt.plot(np.linspace(1, epochs, epochs).astype(int), loss_vals)\n",
    "    plt.xlabel(\"Epochs\")\n",
    "    plt.ylabel(\"Loss\")\n",
    "    plt.title(\"Training loss\")\n",
    "\n",
    "    plt.subplot(1, 2, 2)\n",
    "    plt.plot(np.linspace(1, epochs, epochs).astype(int), np.array(cor_preds) / np.array(num_preds))\n",
    "    plt.xlabel(\"Epochs\")\n",
    "    plt.ylabel(\"Accuracy\")\n",
    "    plt.title(\"Training accuracy\")\n",
    "\n",
    "    plt.tight_layout()\n",
    "    plt.show()\n",
    "    "
   ]
  },
  {
   "cell_type": "code",
   "execution_count": 18,
   "id": "8b963d1d",
   "metadata": {
    "execution": {
     "iopub.execute_input": "2023-11-03T13:45:39.957955Z",
     "iopub.status.busy": "2023-11-03T13:45:39.957193Z",
     "iopub.status.idle": "2023-11-03T13:49:54.097373Z",
     "shell.execute_reply": "2023-11-03T13:49:54.096316Z"
    },
    "papermill": {
     "duration": 254.16578,
     "end_time": "2023-11-03T13:49:54.099734",
     "exception": false,
     "start_time": "2023-11-03T13:45:39.933954",
     "status": "completed"
    },
    "tags": []
   },
   "outputs": [
    {
     "name": "stderr",
     "output_type": "stream",
     "text": [
      "100%|██████████| 20/20 [04:14<00:00, 12.71s/it]\n"
     ]
    }
   ],
   "source": [
    "teacher_loss_vals_training, teacher_num_preds_training, teacher_cor_preds_training = train_model(teacher_model, trainloader, optimizer, loss_module, epochs)\n"
   ]
  },
  {
   "cell_type": "code",
   "execution_count": 19,
   "id": "34e13ba9",
   "metadata": {
    "execution": {
     "iopub.execute_input": "2023-11-03T13:49:54.145774Z",
     "iopub.status.busy": "2023-11-03T13:49:54.145482Z",
     "iopub.status.idle": "2023-11-03T13:49:54.643712Z",
     "shell.execute_reply": "2023-11-03T13:49:54.642773Z"
    },
    "papermill": {
     "duration": 0.523632,
     "end_time": "2023-11-03T13:49:54.645945",
     "exception": false,
     "start_time": "2023-11-03T13:49:54.122313",
     "status": "completed"
    },
    "tags": []
   },
   "outputs": [
    {
     "data": {
      "image/png": "[encoded data removed]",
      "text/plain": [
       "<Figure size 1000x500 with 2 Axes>"
      ]
     },
     "metadata": {},
     "output_type": "display_data"
    }
   ],
   "source": [
    "plot_training_summary(teacher_loss_vals_training, teacher_num_preds_training, teacher_cor_preds_training)"
   ]
  },
  {
   "cell_type": "markdown",
   "id": "ef07a5a1",
   "metadata": {
    "papermill": {
     "duration": 0.022303,
     "end_time": "2023-11-03T13:49:54.690837",
     "exception": false,
     "start_time": "2023-11-03T13:49:54.668534",
     "status": "completed"
    },
    "tags": []
   },
   "source": [
    "### Evaluating the model"
   ]
  },
  {
   "cell_type": "code",
   "execution_count": 20,
   "id": "b0d00c3d",
   "metadata": {
    "execution": {
     "iopub.execute_input": "2023-11-03T13:49:54.738323Z",
     "iopub.status.busy": "2023-11-03T13:49:54.737948Z",
     "iopub.status.idle": "2023-11-03T13:49:54.744921Z",
     "shell.execute_reply": "2023-11-03T13:49:54.744031Z"
    },
    "papermill": {
     "duration": 0.033295,
     "end_time": "2023-11-03T13:49:54.746954",
     "exception": false,
     "start_time": "2023-11-03T13:49:54.713659",
     "status": "completed"
    },
    "tags": []
   },
   "outputs": [],
   "source": [
    "def eval_model(model, data_loader):\n",
    "    \n",
    "    model.eval()\n",
    "    \n",
    "    num_preds = 0\n",
    "    true_preds = 0\n",
    "\n",
    "    # lables = []\n",
    "    # preds = []\n",
    "\n",
    "    with torch.no_grad():\n",
    "        for images, labels in data_loader:\n",
    "\n",
    "            images = images.to(device)\n",
    "            labels = labels.to(device)\n",
    "\n",
    "            pred_logits = model(images)\n",
    "            pred_logits = pred_logits.squeeze(dim=1)\n",
    "\n",
    "            pred_labels = torch.argmax(pred_logits, dim=1)\n",
    "\n",
    "            # preds.append(pred_labels)\n",
    "            # lables.append(labels)\n",
    "\n",
    "            num_preds += pred_labels.size(0)\n",
    "            true_preds += (pred_labels == labels).sum()\n",
    "    \n",
    "    return num_preds, true_preds"
   ]
  },
  {
   "cell_type": "code",
   "execution_count": 21,
   "id": "199a6556",
   "metadata": {
    "execution": {
     "iopub.execute_input": "2023-11-03T13:49:54.794187Z",
     "iopub.status.busy": "2023-11-03T13:49:54.793914Z",
     "iopub.status.idle": "2023-11-03T13:49:56.580164Z",
     "shell.execute_reply": "2023-11-03T13:49:56.579216Z"
    },
    "papermill": {
     "duration": 1.812537,
     "end_time": "2023-11-03T13:49:56.582408",
     "exception": false,
     "start_time": "2023-11-03T13:49:54.769871",
     "status": "completed"
    },
    "tags": []
   },
   "outputs": [
    {
     "name": "stdout",
     "output_type": "stream",
     "text": [
      "Accuracy: 97.67%\n",
      "Number of correct predictions: 9767/10000\n",
      "Number of misclassifications: 233\n"
     ]
    }
   ],
   "source": [
    "teacher_num_preds_eval, teacher_true_preds_eval = eval_model(teacher_model, testloader)\n",
    "\n",
    "print(f\"Accuracy: {(teacher_true_preds_eval/teacher_num_preds_eval)*100:.2f}%\")\n",
    "print(f\"Number of correct predictions: {teacher_true_preds_eval}/{teacher_num_preds_eval}\")\n",
    "print(f\"Number of misclassifications: {teacher_num_preds_eval - teacher_true_preds_eval}\")"
   ]
  },
  {
   "cell_type": "code",
   "execution_count": 22,
   "id": "f81cf2e8",
   "metadata": {
    "execution": {
     "iopub.execute_input": "2023-11-03T13:49:56.630704Z",
     "iopub.status.busy": "2023-11-03T13:49:56.630413Z",
     "iopub.status.idle": "2023-11-03T13:49:56.636685Z",
     "shell.execute_reply": "2023-11-03T13:49:56.635913Z"
    },
    "papermill": {
     "duration": 0.032811,
     "end_time": "2023-11-03T13:49:56.638763",
     "exception": false,
     "start_time": "2023-11-03T13:49:56.605952",
     "status": "completed"
    },
    "tags": []
   },
   "outputs": [],
   "source": [
    "def plot_confusion_matrix(labels, preds, classes):\n",
    "        \n",
    "        fig, ax = plt.subplots(figsize=(10, 10))\n",
    "        \n",
    "        cm = confusion_matrix(labels, preds)\n",
    "        cm = cm.astype('float') / cm.sum(axis=1)[:, np.newaxis]\n",
    "        sns.heatmap(cm, annot=True, cmap='Blues', fmt='.2f', xticklabels=classes, yticklabels=classes)\n",
    "        plt.ylabel('Actual')\n",
    "        plt.xlabel('Predicted')\n",
    "        plt.show()\n",
    "\n",
    "# plot_confusion_matrix(labels.cpu(), preds.cpu(), trainset.classes)"
   ]
  },
  {
   "cell_type": "markdown",
   "id": "a9003d40",
   "metadata": {
    "papermill": {
     "duration": 0.022989,
     "end_time": "2023-11-03T13:49:56.684356",
     "exception": false,
     "start_time": "2023-11-03T13:49:56.661367",
     "status": "completed"
    },
    "tags": []
   },
   "source": [
    "## Student Network"
   ]
  },
  {
   "cell_type": "markdown",
   "id": "81ff18de",
   "metadata": {
    "papermill": {
     "duration": 0.022687,
     "end_time": "2023-11-03T13:49:56.729897",
     "exception": false,
     "start_time": "2023-11-03T13:49:56.707210",
     "status": "completed"
    },
    "tags": []
   },
   "source": [
    "### Defining the network"
   ]
  },
  {
   "cell_type": "code",
   "execution_count": 23,
   "id": "2a420c3b",
   "metadata": {
    "execution": {
     "iopub.execute_input": "2023-11-03T13:49:56.776563Z",
     "iopub.status.busy": "2023-11-03T13:49:56.776231Z",
     "iopub.status.idle": "2023-11-03T13:49:56.784955Z",
     "shell.execute_reply": "2023-11-03T13:49:56.784117Z"
    },
    "papermill": {
     "duration": 0.034412,
     "end_time": "2023-11-03T13:49:56.787007",
     "exception": false,
     "start_time": "2023-11-03T13:49:56.752595",
     "status": "completed"
    },
    "tags": []
   },
   "outputs": [
    {
     "data": {
      "text/plain": [
       "Classifier(\n",
       "  (flatten): Flatten(start_dim=1, end_dim=-1)\n",
       "  (linear1): Linear(in_features=784, out_features=128, bias=True)\n",
       "  (act_fn1): ReLU()\n",
       "  (linear2): Linear(in_features=128, out_features=64, bias=True)\n",
       "  (act_fn2): ReLU()\n",
       "  (linear3): Linear(in_features=64, out_features=10, bias=True)\n",
       ")"
      ]
     },
     "execution_count": 23,
     "metadata": {},
     "output_type": "execute_result"
    }
   ],
   "source": [
    "student_model = Classifier(28*28, 128, 64, 10)\n",
    "student_model.to(device)"
   ]
  },
  {
   "cell_type": "markdown",
   "id": "74102f27",
   "metadata": {
    "papermill": {
     "duration": 0.02252,
     "end_time": "2023-11-03T13:49:56.832028",
     "exception": false,
     "start_time": "2023-11-03T13:49:56.809508",
     "status": "completed"
    },
    "tags": []
   },
   "source": [
    "### Loss function"
   ]
  },
  {
   "cell_type": "code",
   "execution_count": 24,
   "id": "a3305c39",
   "metadata": {
    "execution": {
     "iopub.execute_input": "2023-11-03T13:49:56.878220Z",
     "iopub.status.busy": "2023-11-03T13:49:56.877923Z",
     "iopub.status.idle": "2023-11-03T13:49:56.882168Z",
     "shell.execute_reply": "2023-11-03T13:49:56.881321Z"
    },
    "papermill": {
     "duration": 0.029606,
     "end_time": "2023-11-03T13:49:56.884160",
     "exception": false,
     "start_time": "2023-11-03T13:49:56.854554",
     "status": "completed"
    },
    "tags": []
   },
   "outputs": [],
   "source": [
    "loss_module = nn.CrossEntropyLoss()"
   ]
  },
  {
   "cell_type": "markdown",
   "id": "89cab6f5",
   "metadata": {
    "papermill": {
     "duration": 0.022519,
     "end_time": "2023-11-03T13:49:56.929550",
     "exception": false,
     "start_time": "2023-11-03T13:49:56.907031",
     "status": "completed"
    },
    "tags": []
   },
   "source": [
    "### Optimizer"
   ]
  },
  {
   "cell_type": "code",
   "execution_count": 25,
   "id": "1f905cb0",
   "metadata": {
    "execution": {
     "iopub.execute_input": "2023-11-03T13:49:56.976497Z",
     "iopub.status.busy": "2023-11-03T13:49:56.976172Z",
     "iopub.status.idle": "2023-11-03T13:49:56.980743Z",
     "shell.execute_reply": "2023-11-03T13:49:56.979853Z"
    },
    "papermill": {
     "duration": 0.030645,
     "end_time": "2023-11-03T13:49:56.982802",
     "exception": false,
     "start_time": "2023-11-03T13:49:56.952157",
     "status": "completed"
    },
    "tags": []
   },
   "outputs": [],
   "source": [
    "learning_rate = 0.01\n",
    "optimizer = optim.SGD(student_model.parameters(), lr=learning_rate)"
   ]
  },
  {
   "cell_type": "markdown",
   "id": "c02f165d",
   "metadata": {
    "papermill": {
     "duration": 0.022067,
     "end_time": "2023-11-03T13:49:57.027641",
     "exception": false,
     "start_time": "2023-11-03T13:49:57.005574",
     "status": "completed"
    },
    "tags": []
   },
   "source": [
    "### Data Loader"
   ]
  },
  {
   "cell_type": "code",
   "execution_count": 26,
   "id": "6fa94cdd",
   "metadata": {
    "execution": {
     "iopub.execute_input": "2023-11-03T13:49:57.075117Z",
     "iopub.status.busy": "2023-11-03T13:49:57.074853Z",
     "iopub.status.idle": "2023-11-03T13:49:57.079588Z",
     "shell.execute_reply": "2023-11-03T13:49:57.078654Z"
    },
    "papermill": {
     "duration": 0.031291,
     "end_time": "2023-11-03T13:49:57.081491",
     "exception": false,
     "start_time": "2023-11-03T13:49:57.050200",
     "status": "completed"
    },
    "tags": []
   },
   "outputs": [],
   "source": [
    "batch_size = 32\n",
    "trainloader = DataLoader(trainset, batch_size=batch_size, shuffle=True)\n",
    "testloader = DataLoader(testset, batch_size=batch_size, shuffle=False)"
   ]
  },
  {
   "cell_type": "markdown",
   "id": "d0df9617",
   "metadata": {
    "papermill": {
     "duration": 0.022517,
     "end_time": "2023-11-03T13:49:57.126579",
     "exception": false,
     "start_time": "2023-11-03T13:49:57.104062",
     "status": "completed"
    },
    "tags": []
   },
   "source": [
    "### Training the model"
   ]
  },
  {
   "cell_type": "code",
   "execution_count": 27,
   "id": "dfca0477",
   "metadata": {
    "execution": {
     "iopub.execute_input": "2023-11-03T13:49:57.174570Z",
     "iopub.status.busy": "2023-11-03T13:49:57.174221Z",
     "iopub.status.idle": "2023-11-03T13:52:02.016574Z",
     "shell.execute_reply": "2023-11-03T13:52:02.015544Z"
    },
    "papermill": {
     "duration": 124.869127,
     "end_time": "2023-11-03T13:52:02.019026",
     "exception": false,
     "start_time": "2023-11-03T13:49:57.149899",
     "status": "completed"
    },
    "tags": []
   },
   "outputs": [
    {
     "name": "stderr",
     "output_type": "stream",
     "text": [
      "100%|██████████| 10/10 [02:04<00:00, 12.48s/it]\n"
     ]
    }
   ],
   "source": [
    "epochs = 10\n",
    "student1_loss_vals_training, student1_num_preds_training, student1_cor_preds_training = train_model(student_model, trainloader, optimizer, loss_module, epochs)"
   ]
  },
  {
   "cell_type": "code",
   "execution_count": 28,
   "id": "3bb73f7f",
   "metadata": {
    "execution": {
     "iopub.execute_input": "2023-11-03T13:52:02.070995Z",
     "iopub.status.busy": "2023-11-03T13:52:02.070617Z",
     "iopub.status.idle": "2023-11-03T13:52:02.661413Z",
     "shell.execute_reply": "2023-11-03T13:52:02.660325Z"
    },
    "papermill": {
     "duration": 0.619167,
     "end_time": "2023-11-03T13:52:02.663720",
     "exception": false,
     "start_time": "2023-11-03T13:52:02.044553",
     "status": "completed"
    },
    "tags": []
   },
   "outputs": [
    {
     "data": {
      "image/png": "[encoded data removed]",
      "text/plain": [
       "<Figure size 1000x500 with 2 Axes>"
      ]
     },
     "metadata": {},
     "output_type": "display_data"
    }
   ],
   "source": [
    "plot_training_summary(student1_loss_vals_training, student1_num_preds_training, student1_cor_preds_training)"
   ]
  },
  {
   "cell_type": "markdown",
   "id": "41318fbb",
   "metadata": {
    "papermill": {
     "duration": 0.025352,
     "end_time": "2023-11-03T13:52:02.714153",
     "exception": false,
     "start_time": "2023-11-03T13:52:02.688801",
     "status": "completed"
    },
    "tags": []
   },
   "source": [
    "### Evaluating the model"
   ]
  },
  {
   "cell_type": "code",
   "execution_count": 29,
   "id": "fd067a71",
   "metadata": {
    "execution": {
     "iopub.execute_input": "2023-11-03T13:52:02.767268Z",
     "iopub.status.busy": "2023-11-03T13:52:02.766909Z",
     "iopub.status.idle": "2023-11-03T13:52:04.553943Z",
     "shell.execute_reply": "2023-11-03T13:52:04.552846Z"
    },
    "papermill": {
     "duration": 1.816742,
     "end_time": "2023-11-03T13:52:04.556136",
     "exception": false,
     "start_time": "2023-11-03T13:52:02.739394",
     "status": "completed"
    },
    "tags": []
   },
   "outputs": [
    {
     "name": "stdout",
     "output_type": "stream",
     "text": [
      "Accuracy: 95.63%\n",
      "Number of correct predictions: 9563/10000\n",
      "Number of misclassifications: 437\n"
     ]
    }
   ],
   "source": [
    "student1_num_preds_eval, student1_true_preds_eval = eval_model(student_model, testloader)\n",
    "\n",
    "print(f\"Accuracy: {(student1_true_preds_eval/student1_num_preds_eval)*100:.2f}%\")\n",
    "print(f\"Number of correct predictions: {student1_true_preds_eval}/{student1_num_preds_eval}\")\n",
    "print(f\"Number of misclassifications: {student1_num_preds_eval - student1_true_preds_eval}\")"
   ]
  },
  {
   "cell_type": "markdown",
   "id": "e59005df",
   "metadata": {
    "papermill": {
     "duration": 0.02481,
     "end_time": "2023-11-03T13:52:04.606456",
     "exception": false,
     "start_time": "2023-11-03T13:52:04.581646",
     "status": "completed"
    },
    "tags": []
   },
   "source": [
    "## Knowledge Distillation"
   ]
  },
  {
   "cell_type": "markdown",
   "id": "3987c4d2",
   "metadata": {
    "papermill": {
     "duration": 0.024415,
     "end_time": "2023-11-03T13:52:04.655869",
     "exception": false,
     "start_time": "2023-11-03T13:52:04.631454",
     "status": "completed"
    },
    "tags": []
   },
   "source": [
    "### Generating logits from teacher network"
   ]
  },
  {
   "cell_type": "code",
   "execution_count": 30,
   "id": "1001a5c6",
   "metadata": {
    "execution": {
     "iopub.execute_input": "2023-11-03T13:52:04.706503Z",
     "iopub.status.busy": "2023-11-03T13:52:04.705477Z",
     "iopub.status.idle": "2023-11-03T13:52:15.514604Z",
     "shell.execute_reply": "2023-11-03T13:52:15.513764Z"
    },
    "papermill": {
     "duration": 10.836732,
     "end_time": "2023-11-03T13:52:15.517106",
     "exception": false,
     "start_time": "2023-11-03T13:52:04.680374",
     "status": "completed"
    },
    "tags": []
   },
   "outputs": [],
   "source": [
    "images_list = []\n",
    "labels_list = []\n",
    "logits_list = []\n",
    "\n",
    "with torch.no_grad():\n",
    "    for images, labels in trainloader:\n",
    "\n",
    "        images = images.to(device)\n",
    "        labels = labels.to(device)\n",
    "        \n",
    "        logits = teacher_model(images)\n",
    "        \n",
    "        images_list.append(images)\n",
    "        labels_list.append(labels)\n",
    "        logits_list.append(logits)\n",
    "\n",
    "images_list = torch.cat(images_list, dim=0)\n",
    "labels_list = torch.cat(labels_list, dim=0)\n",
    "logits_list = torch.cat(logits_list, dim=0)\n"
   ]
  },
  {
   "cell_type": "markdown",
   "id": "acf5f341",
   "metadata": {
    "papermill": {
     "duration": 0.02529,
     "end_time": "2023-11-03T13:52:15.567217",
     "exception": false,
     "start_time": "2023-11-03T13:52:15.541927",
     "status": "completed"
    },
    "tags": []
   },
   "source": [
    "### Defining the network"
   ]
  },
  {
   "cell_type": "code",
   "execution_count": 31,
   "id": "ce7f01b6",
   "metadata": {
    "execution": {
     "iopub.execute_input": "2023-11-03T13:52:15.620425Z",
     "iopub.status.busy": "2023-11-03T13:52:15.619586Z",
     "iopub.status.idle": "2023-11-03T13:52:15.627989Z",
     "shell.execute_reply": "2023-11-03T13:52:15.627114Z"
    },
    "papermill": {
     "duration": 0.036115,
     "end_time": "2023-11-03T13:52:15.629917",
     "exception": false,
     "start_time": "2023-11-03T13:52:15.593802",
     "status": "completed"
    },
    "tags": []
   },
   "outputs": [
    {
     "data": {
      "text/plain": [
       "Classifier(\n",
       "  (flatten): Flatten(start_dim=1, end_dim=-1)\n",
       "  (linear1): Linear(in_features=784, out_features=128, bias=True)\n",
       "  (act_fn1): ReLU()\n",
       "  (linear2): Linear(in_features=128, out_features=64, bias=True)\n",
       "  (act_fn2): ReLU()\n",
       "  (linear3): Linear(in_features=64, out_features=10, bias=True)\n",
       ")"
      ]
     },
     "execution_count": 31,
     "metadata": {},
     "output_type": "execute_result"
    }
   ],
   "source": [
    "student_model_with_logits = Classifier(28*28, 128, 64, 10)\n",
    "student_model_with_logits.to(device)"
   ]
  },
  {
   "cell_type": "markdown",
   "id": "f3606429",
   "metadata": {
    "papermill": {
     "duration": 0.023962,
     "end_time": "2023-11-03T13:52:15.678397",
     "exception": false,
     "start_time": "2023-11-03T13:52:15.654435",
     "status": "completed"
    },
    "tags": []
   },
   "source": [
    "### Loss function"
   ]
  },
  {
   "cell_type": "code",
   "execution_count": 32,
   "id": "56e27082",
   "metadata": {
    "execution": {
     "iopub.execute_input": "2023-11-03T13:52:15.729881Z",
     "iopub.status.busy": "2023-11-03T13:52:15.729137Z",
     "iopub.status.idle": "2023-11-03T13:52:15.733842Z",
     "shell.execute_reply": "2023-11-03T13:52:15.732875Z"
    },
    "papermill": {
     "duration": 0.032625,
     "end_time": "2023-11-03T13:52:15.735820",
     "exception": false,
     "start_time": "2023-11-03T13:52:15.703195",
     "status": "completed"
    },
    "tags": []
   },
   "outputs": [],
   "source": [
    "loss_module = nn.MSELoss()"
   ]
  },
  {
   "cell_type": "markdown",
   "id": "b54e1e97",
   "metadata": {
    "papermill": {
     "duration": 0.02787,
     "end_time": "2023-11-03T13:52:15.789052",
     "exception": false,
     "start_time": "2023-11-03T13:52:15.761182",
     "status": "completed"
    },
    "tags": []
   },
   "source": [
    "### Optimizer"
   ]
  },
  {
   "cell_type": "code",
   "execution_count": 33,
   "id": "7cb8d481",
   "metadata": {
    "execution": {
     "iopub.execute_input": "2023-11-03T13:52:15.858377Z",
     "iopub.status.busy": "2023-11-03T13:52:15.857137Z",
     "iopub.status.idle": "2023-11-03T13:52:15.863642Z",
     "shell.execute_reply": "2023-11-03T13:52:15.862694Z"
    },
    "papermill": {
     "duration": 0.044093,
     "end_time": "2023-11-03T13:52:15.865787",
     "exception": false,
     "start_time": "2023-11-03T13:52:15.821694",
     "status": "completed"
    },
    "tags": []
   },
   "outputs": [],
   "source": [
    "learning_rate = 0.01\n",
    "optimizer = optim.SGD(student_model_with_logits.parameters(), lr=learning_rate)"
   ]
  },
  {
   "cell_type": "markdown",
   "id": "f5b9570c",
   "metadata": {
    "papermill": {
     "duration": 0.025129,
     "end_time": "2023-11-03T13:52:15.916535",
     "exception": false,
     "start_time": "2023-11-03T13:52:15.891406",
     "status": "completed"
    },
    "tags": []
   },
   "source": [
    "### Data Loader"
   ]
  },
  {
   "cell_type": "code",
   "execution_count": 34,
   "id": "0f052e57",
   "metadata": {
    "execution": {
     "iopub.execute_input": "2023-11-03T13:52:15.972729Z",
     "iopub.status.busy": "2023-11-03T13:52:15.972364Z",
     "iopub.status.idle": "2023-11-03T13:52:15.979150Z",
     "shell.execute_reply": "2023-11-03T13:52:15.978054Z"
    },
    "papermill": {
     "duration": 0.035862,
     "end_time": "2023-11-03T13:52:15.981382",
     "exception": false,
     "start_time": "2023-11-03T13:52:15.945520",
     "status": "completed"
    },
    "tags": []
   },
   "outputs": [],
   "source": [
    "class LogitsDataset(torch.utils.data.Dataset):\n",
    "    \n",
    "    def __init__(self, images, labels, logits):\n",
    "        super().__init__()\n",
    "        self.images = images\n",
    "        self.labels = labels\n",
    "        self.logits = logits\n",
    "\n",
    "    \n",
    "    def __len__(self):\n",
    "        return len(self.labels)\n",
    "    \n",
    "    def __getitem__(self, idx):\n",
    "        return self.images[idx], self.labels[idx], self.logits[idx]\n",
    "    "
   ]
  },
  {
   "cell_type": "code",
   "execution_count": 35,
   "id": "5a57e720",
   "metadata": {
    "execution": {
     "iopub.execute_input": "2023-11-03T13:52:16.033361Z",
     "iopub.status.busy": "2023-11-03T13:52:16.033000Z",
     "iopub.status.idle": "2023-11-03T13:52:16.038290Z",
     "shell.execute_reply": "2023-11-03T13:52:16.037209Z"
    },
    "papermill": {
     "duration": 0.033404,
     "end_time": "2023-11-03T13:52:16.040335",
     "exception": false,
     "start_time": "2023-11-03T13:52:16.006931",
     "status": "completed"
    },
    "tags": []
   },
   "outputs": [],
   "source": [
    "batch_size = 32\n",
    "trainset_with_logits = LogitsDataset(images_list, labels_list, logits_list)\n",
    "trainloader_with_logits = DataLoader(trainset_with_logits, batch_size=batch_size, shuffle=True)\n"
   ]
  },
  {
   "cell_type": "markdown",
   "id": "cad66fd1",
   "metadata": {
    "papermill": {
     "duration": 0.029327,
     "end_time": "2023-11-03T13:52:16.099325",
     "exception": false,
     "start_time": "2023-11-03T13:52:16.069998",
     "status": "completed"
    },
    "tags": []
   },
   "source": [
    "### Training the model"
   ]
  },
  {
   "cell_type": "code",
   "execution_count": 36,
   "id": "02e4c9fa",
   "metadata": {
    "execution": {
     "iopub.execute_input": "2023-11-03T13:52:16.152182Z",
     "iopub.status.busy": "2023-11-03T13:52:16.151186Z",
     "iopub.status.idle": "2023-11-03T13:52:16.160859Z",
     "shell.execute_reply": "2023-11-03T13:52:16.159849Z"
    },
    "papermill": {
     "duration": 0.038409,
     "end_time": "2023-11-03T13:52:16.163050",
     "exception": false,
     "start_time": "2023-11-03T13:52:16.124641",
     "status": "completed"
    },
    "tags": []
   },
   "outputs": [],
   "source": [
    "def train_student_model(model, data_loader, optimizer, loss_module, num_epochs):\n",
    "    \n",
    "    model.train()\n",
    "\n",
    "    loss_vals = []\n",
    "    num_preds = []\n",
    "    cor_preds = []\n",
    "\n",
    "    for epoch in tqdm.tqdm(range(num_epochs)):\n",
    "\n",
    "        epoch_loss = []\n",
    "        epoch_num_preds = 0\n",
    "        epoch_cor_preds = 0\n",
    "\n",
    "        for images, labels, logits in data_loader:\n",
    "            \n",
    "            images = images.to(device)\n",
    "            labels = labels.to(device)\n",
    "            logits = logits.to(device)\n",
    "            \n",
    "            preds = model(images)\n",
    "            preds = preds.squeeze(dim=1)\n",
    "\n",
    "            loss = loss_module(preds, logits)\n",
    "\n",
    "            optimizer.zero_grad()\n",
    "\n",
    "            loss.backward()\n",
    "            epoch_loss.append(loss.item())\n",
    "\n",
    "            optimizer.step()\n",
    "\n",
    "            epoch_num_preds += len(preds)\n",
    "            epoch_cor_preds += (preds.argmax(dim=1) == labels).sum().item()\n",
    "            \n",
    "        loss_vals.append(np.mean(epoch_loss))\n",
    "        num_preds.append(epoch_num_preds)\n",
    "        cor_preds.append(epoch_cor_preds)\n",
    "\n",
    "    return loss_vals, num_preds, cor_preds\n"
   ]
  },
  {
   "cell_type": "code",
   "execution_count": 37,
   "id": "6c684dc1",
   "metadata": {
    "execution": {
     "iopub.execute_input": "2023-11-03T13:52:16.222737Z",
     "iopub.status.busy": "2023-11-03T13:52:16.222232Z",
     "iopub.status.idle": "2023-11-03T13:52:50.826979Z",
     "shell.execute_reply": "2023-11-03T13:52:50.825965Z"
    },
    "papermill": {
     "duration": 34.634465,
     "end_time": "2023-11-03T13:52:50.829736",
     "exception": false,
     "start_time": "2023-11-03T13:52:16.195271",
     "status": "completed"
    },
    "tags": []
   },
   "outputs": [
    {
     "name": "stderr",
     "output_type": "stream",
     "text": [
      "100%|██████████| 10/10 [00:34<00:00,  3.46s/it]\n"
     ]
    }
   ],
   "source": [
    "epochs = 10\n",
    "\n",
    "student2_loss_vals_training, student2_num_preds_training, student2_cor_preds_training = train_student_model(student_model_with_logits, trainloader_with_logits, optimizer, loss_module, epochs)"
   ]
  },
  {
   "cell_type": "code",
   "execution_count": 38,
   "id": "fde77695",
   "metadata": {
    "execution": {
     "iopub.execute_input": "2023-11-03T13:52:50.883419Z",
     "iopub.status.busy": "2023-11-03T13:52:50.883090Z",
     "iopub.status.idle": "2023-11-03T13:52:51.510012Z",
     "shell.execute_reply": "2023-11-03T13:52:51.509092Z"
    },
    "papermill": {
     "duration": 0.655788,
     "end_time": "2023-11-03T13:52:51.512261",
     "exception": false,
     "start_time": "2023-11-03T13:52:50.856473",
     "status": "completed"
    },
    "tags": []
   },
   "outputs": [
    {
     "data": {
      "image/png": "[encoded data removed]",
      "text/plain": [
       "<Figure size 1000x500 with 2 Axes>"
      ]
     },
     "metadata": {},
     "output_type": "display_data"
    }
   ],
   "source": [
    "plot_training_summary(student2_loss_vals_training, student2_num_preds_training, student2_cor_preds_training)"
   ]
  },
  {
   "cell_type": "markdown",
   "id": "adab5e71",
   "metadata": {
    "papermill": {
     "duration": 0.025808,
     "end_time": "2023-11-03T13:52:51.564250",
     "exception": false,
     "start_time": "2023-11-03T13:52:51.538442",
     "status": "completed"
    },
    "tags": []
   },
   "source": [
    "### Evaluating the model"
   ]
  },
  {
   "cell_type": "code",
   "execution_count": 39,
   "id": "17b28e39",
   "metadata": {
    "execution": {
     "iopub.execute_input": "2023-11-03T13:52:51.618392Z",
     "iopub.status.busy": "2023-11-03T13:52:51.618034Z",
     "iopub.status.idle": "2023-11-03T13:52:53.376627Z",
     "shell.execute_reply": "2023-11-03T13:52:53.375417Z"
    },
    "papermill": {
     "duration": 1.788574,
     "end_time": "2023-11-03T13:52:53.378941",
     "exception": false,
     "start_time": "2023-11-03T13:52:51.590367",
     "status": "completed"
    },
    "tags": []
   },
   "outputs": [
    {
     "name": "stdout",
     "output_type": "stream",
     "text": [
      "Accuracy: 97.19%\n",
      "Number of correct predictions: 9719/10000\n",
      "Number of misclassifications: 281\n"
     ]
    }
   ],
   "source": [
    "student2_num_preds_eval, student2_true_preds_eval = eval_model(student_model_with_logits, testloader)\n",
    "\n",
    "print(f\"Accuracy: {(student2_true_preds_eval/student2_num_preds_eval)*100:.2f}%\")\n",
    "print(f\"Number of correct predictions: {student2_true_preds_eval}/{student2_num_preds_eval}\")\n",
    "print(f\"Number of misclassifications: {student2_num_preds_eval - student2_true_preds_eval}\")"
   ]
  },
  {
   "cell_type": "markdown",
   "id": "9af5ba52",
   "metadata": {
    "papermill": {
     "duration": 0.02666,
     "end_time": "2023-11-03T13:52:53.433417",
     "exception": false,
     "start_time": "2023-11-03T13:52:53.406757",
     "status": "completed"
    },
    "tags": []
   },
   "source": [
    "## Comparing the performance of the models"
   ]
  },
  {
   "cell_type": "markdown",
   "id": "9aa94268",
   "metadata": {
    "papermill": {
     "duration": 0.025751,
     "end_time": "2023-11-03T13:52:53.485096",
     "exception": false,
     "start_time": "2023-11-03T13:52:53.459345",
     "status": "completed"
    },
    "tags": []
   },
   "source": [
    "### Misclassification count"
   ]
  },
  {
   "cell_type": "code",
   "execution_count": 40,
   "id": "8f412eff",
   "metadata": {
    "execution": {
     "iopub.execute_input": "2023-11-03T13:52:53.538776Z",
     "iopub.status.busy": "2023-11-03T13:52:53.538470Z",
     "iopub.status.idle": "2023-11-03T13:52:53.544949Z",
     "shell.execute_reply": "2023-11-03T13:52:53.543822Z"
    },
    "papermill": {
     "duration": 0.035895,
     "end_time": "2023-11-03T13:52:53.547006",
     "exception": false,
     "start_time": "2023-11-03T13:52:53.511111",
     "status": "completed"
    },
    "tags": []
   },
   "outputs": [
    {
     "name": "stdout",
     "output_type": "stream",
     "text": [
      "First model misclassifications: 437\n",
      "Second model misclassifications: 281\n",
      "Accuracy improvement: 3.72%\n"
     ]
    }
   ],
   "source": [
    "print(f\"First model misclassifications: {student1_num_preds_eval - student1_true_preds_eval}\")\n",
    "print(f\"Second model misclassifications: {student2_num_preds_eval - student2_true_preds_eval}\")\n",
    "print(f\"Accuracy improvement: {(student2_true_preds_eval/student1_true_preds_eval)*100 - (student1_true_preds_eval/teacher_true_preds_eval)*100:.2f}%\")"
   ]
  },
  {
   "cell_type": "markdown",
   "id": "5837fe7c",
   "metadata": {
    "papermill": {
     "duration": 0.026126,
     "end_time": "2023-11-03T13:52:53.599570",
     "exception": false,
     "start_time": "2023-11-03T13:52:53.573444",
     "status": "completed"
    },
    "tags": []
   },
   "source": [
    "### Accuracy plot during training"
   ]
  },
  {
   "cell_type": "code",
   "execution_count": 41,
   "id": "fd9ae20d",
   "metadata": {
    "execution": {
     "iopub.execute_input": "2023-11-03T13:52:53.652772Z",
     "iopub.status.busy": "2023-11-03T13:52:53.652500Z",
     "iopub.status.idle": "2023-11-03T13:52:53.969343Z",
     "shell.execute_reply": "2023-11-03T13:52:53.968412Z"
    },
    "papermill": {
     "duration": 0.346023,
     "end_time": "2023-11-03T13:52:53.971788",
     "exception": false,
     "start_time": "2023-11-03T13:52:53.625765",
     "status": "completed"
    },
    "tags": []
   },
   "outputs": [
    {
     "data": {
      "image/png": "[encoded data removed]",
      "text/plain": [
       "<Figure size 1000x500 with 1 Axes>"
      ]
     },
     "metadata": {},
     "output_type": "display_data"
    }
   ],
   "source": [
    "plt.figure(figsize=(10, 5))\n",
    "plt.plot(np.linspace(1, epochs, epochs).astype(int), np.array(student1_cor_preds_training) / np.array(student1_num_preds_training), label=\"Base Student Model\")\n",
    "plt.plot(np.linspace(1, epochs, epochs).astype(int), np.array(student2_cor_preds_training) / np.array(student2_num_preds_training), label=\"Student Model with Logits\")\n",
    "plt.xlabel(\"Epochs\")\n",
    "plt.ylabel(\"Accuracy\")\n",
    "plt.title(\"Training accuracy\")\n",
    "plt.legend()\n",
    "plt.show()\n"
   ]
  }
 ],
 "metadata": {
  "kernelspec": {
   "display_name": "Python 3",
   "language": "python",
   "name": "python3"
  },
  "language_info": {
   "codemirror_mode": {
    "name": "ipython",
    "version": 3
   },
   "file_extension": ".py",
   "mimetype": "text/x-python",
   "name": "python",
   "nbconvert_exporter": "python",
   "pygments_lexer": "ipython3",
   "version": "3.10.12"
  },
  "papermill": {
   "default_parameters": {},
   "duration": 462.872926,
   "end_time": "2023-11-03T13:52:56.354396",
   "environment_variables": {},
   "exception": null,
   "input_path": "__notebook__.ipynb",
   "output_path": "__notebook__.ipynb",
   "parameters": {},
   "start_time": "2023-11-03T13:45:13.481470",
   "version": "2.4.0"
  }
 },
 "nbformat": 4,
 "nbformat_minor": 5
}
