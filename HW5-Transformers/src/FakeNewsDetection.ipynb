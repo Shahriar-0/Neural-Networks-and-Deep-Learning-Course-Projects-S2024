{
  "cells": [
    {
      "cell_type": "code",
      "execution_count": 3,
      "metadata": {
        "id": "rD-UYULGBWg2"
      },
      "outputs": [],
      "source": [
        "import pandas as pd\n",
        "import numpy as np\n",
        "import matplotlib.pyplot as plt\n",
        "import seaborn as sea\n",
        "from tabulate import tabulate\n",
        "\n",
        "import re\n",
        "import emoji\n",
        "import nltk\n",
        "from nltk.corpus import stopwords\n",
        "from nltk.stem.porter import PorterStemmer\n",
        "\n",
        "from transformers import AutoTokenizer, BertConfig, TFAutoModel\n",
        "\n",
        "import tensorflow as tf\n",
        "from tensorflow.keras.models import Sequential, Model\n",
        "import tensorflow.keras.layers as Layers\n",
        "import keras.backend as K\n",
        "from tensorflow.keras.callbacks import EarlyStopping\n",
        "from tensorflow.keras.utils import plot_model\n",
        "\n",
        "from sklearn.metrics import accuracy_score, precision_score, recall_score, f1_score, confusion_matrix"
      ]
    },
    {
      "cell_type": "markdown",
      "metadata": {
        "id": "Er5809VuBWg5"
      },
      "source": [
        "# Cuda"
      ]
    },
    {
      "cell_type": "code",
      "execution_count": 4,
      "metadata": {
        "colab": {
          "base_uri": "https://localhost:8080/"
        },
        "id": "bywofW13BWg6",
        "outputId": "2712c5a3-1fdf-4776-8809-2e6ace07ebf5"
      },
      "outputs": [
        {
          "name": "stdout",
          "output_type": "stream",
          "text": [
            "GPU found\n"
          ]
        }
      ],
      "source": [
        "physical_devices = tf.config.experimental.list_physical_devices('GPU')\n",
        "if len(physical_devices) > 0:\n",
        "    print('GPU found')\n",
        "    tf.config.experimental.set_memory_growth(physical_devices[0], True)"
      ]
    },
    {
      "cell_type": "markdown",
      "metadata": {
        "id": "lp9Yno1EBWg6"
      },
      "source": [
        "# Read Data"
      ]
    },
    {
      "cell_type": "code",
      "execution_count": 7,
      "metadata": {
        "id": "_5C3E1CsBWg6"
      },
      "outputs": [],
      "source": [
        "train = pd.read_csv('../data/COVID/Train.csv')\n",
        "valid = pd.read_csv('../data/COVID/Val.csv')\n",
        "test = pd.read_csv('../data/COVID/Test.csv')"
      ]
    },
    {
      "cell_type": "code",
      "execution_count": 8,
      "metadata": {
        "id": "SrAcASNWBWg7"
      },
      "outputs": [],
      "source": [
        "train['label'] = train['label'].replace({'fake': 0, 'real': 1})\n",
        "valid['label'] = valid['label'].replace({'fake': 0, 'real': 1})\n",
        "test['label'] = test['label'].replace({'fake': 0, 'real': 1})"
      ]
    },
    {
      "cell_type": "markdown",
      "metadata": {
        "id": "m--TEbKQBWg7"
      },
      "source": [
        "# Preprocess"
      ]
    },
    {
      "cell_type": "code",
      "execution_count": 11,
      "metadata": {
        "id": "XGTr77Z5BWg7"
      },
      "outputs": [],
      "source": [
        "stopwords_set = set(stopwords.words('english'))\n",
        "\n",
        "def preprocess(x, html = False, url = False, username = False, hashtag = False, rep = False,\n",
        "\t\t\t\tpunctuation = False, demojize = True):\n",
        "\n",
        "\tif(html):\n",
        "\t\tx = re.sub(re.compile('<.*?>') , '', x)\n",
        "\tif(url):\n",
        "\t\tx = re.sub(r'http\\S+|www\\S+', '', x)\n",
        "\tif(username):\n",
        "\t\tx = re.sub(r'@[^ ]+', '', x)\n",
        "\tif(hashtag):\n",
        "\t\tx = re.sub(r'#', '', x)\n",
        "\tif(rep):\n",
        "\t\tx = re.sub(r'([a-zA-Z])\\1{2,}', r'\\1', x)\n",
        "\tif(demojize):\n",
        "\t\tx = emoji.demojize(x, language='fa')\n",
        "\tif(punctuation):\n",
        "\t\tpuncs = [\n",
        "\t\t\t'[', '!', '\"', '#', '%', '\\\\', '\\\"', '(', ')', '*',\n",
        "\t\t\t'+', ',', '-', '.', '/', ':', ';', '<', '=', '>', '?',\n",
        "\t\t\t'/', '^', '_', '`', '{', '|', '}', '~',\n",
        "\t\t\t'’', '”', '“', '′', '‘', ']','؟','؛','«','»','،','٪'\n",
        "\t\t]\n",
        "\t\tpattern = r'[' + re.escape(''.join(puncs)) + r']'\n",
        "\t\tx = re.sub(pattern, ' ', x)\n",
        "\n",
        "\treturn x"
      ]
    },
    {
      "cell_type": "code",
      "execution_count": 12,
      "metadata": {
        "id": "7ideaD55BWg8"
      },
      "outputs": [],
      "source": [
        "train['clean'] = train['tweet'].apply(lambda x: preprocess(x))\n",
        "valid['clean'] = valid['tweet'].apply(lambda x: preprocess(x))\n",
        "test['clean'] = test['tweet'].apply(lambda x: preprocess(x))"
      ]
    },
    {
      "cell_type": "markdown",
      "metadata": {
        "id": "ffQ8X4ZmBWg8"
      },
      "source": [
        "# Load Transformer Models"
      ]
    },
    {
      "cell_type": "markdown",
      "metadata": {
        "id": "SF_O8n7uBWg8"
      },
      "source": [
        "## Bert"
      ]
    },
    {
      "cell_type": "code",
      "execution_count": null,
      "metadata": {
        "colab": {
          "base_uri": "https://localhost:8080/",
          "height": 423,
          "referenced_widgets": [
            "e61fc5dc481e40b79fd387dab8a8229f",
            "8639790462aa4d84a7e7a447342ec248",
            "dede3655e3d64a13a5f7b2fe1d04475f",
            "255456c8b6dd4d19a0c64333a380d0dc",
            "c9ecc7e1a45843218d5d70a1e37810a3",
            "00203ef5f23d426e893203e1155fc17d",
            "73217e8346314a43a4d0b8fc11c2505f",
            "6f1b7b01b86d4e5aaeb843f45a4ec100",
            "678f9f4873414eb9a44dd8ff4ff68019",
            "e36ab5f8fee04b508c33f13ef69de7bc",
            "0959c170557e4aba96940b94cce5e5b9",
            "6f8d678131164e38b32210f38f0dca4a",
            "5a6df1aa3b1748cf860aa8dc65288ee4",
            "002e03067e784b6ea329c5b5ecffdff6",
            "0bd0772bc05e49dab17562c73f38d60e",
            "1aaf648e938d47b3bfe41923f55c7a72",
            "22bad6d011724df08456b53efd9bb8a8",
            "f07245c1efd049fc9286f22c06a98d29",
            "7146084c234d4e04b8f6fd398f9e9fbe",
            "c53aa06d444c4790afb082ff95cb304a",
            "39dd890cbfac4c8092920ccdd9222a5c",
            "6fe21e41338a4a748a98802c9758fdaa",
            "bb507e8123f84b1d85aa21d36f233beb",
            "7f17fd06c9e649caa8b2077a74a28c67",
            "9cb0c09989304fcfb5488309793909f2",
            "5b9d57548d6a47b5870bfef762b4d06b",
            "3aa85e5da69b4ca383d8e63d4f55b1a2",
            "5931a0649f1144b5b6419c77c3afe4f3",
            "2331e68f7b1b4620838bb7059752046d",
            "0251542b363f4bd8b432155b31640be2",
            "80fc9e4ed8fc4a898fc4a2e39aa09d5e",
            "948f077b8cee454ba1b9266565a89c2f",
            "f42429dafbc94d59b6db1676baed4670",
            "3254028aeacc4a08984fd167de36fa5c",
            "4845fc498dad4410a70f64cb526ad7b0",
            "dbea308440da42bf8bd45982ff685f10",
            "7287e75927484a37a2956eab4fbe73cc",
            "7ade33ad94ba49a2bc41850b546fd37a",
            "7fe0cbaee24c4e9f8c6b84efb6a8d5c5",
            "2d38e654315149149fa8ce848a020820",
            "12fb6422cd7d4a5f9f45d0fa5f6b5657",
            "c9aa0182376f40d0ae5f667ff0df1692",
            "bc5e3dae13374e17bea9f980f9357d15",
            "9839dddd423e41c4b3e11795e12a07f6",
            "30b967179982400ba0f6ebf7e7bf605d",
            "000e4060e71f4bc6b2f907528fc60aca",
            "8d19fee6e1ec499d89e7fad8fb9d041e",
            "fa8013343d3240d7b2646d608f87a7b5",
            "53a4b51a96374baf80f8b620161d7026",
            "ad9f55598d32473d9bf8d8896e6f83c8",
            "dddfb57f2801406a8cd4092247b95f97",
            "af1d69400a214bb6909b037b6fffac0e",
            "28f559ba07fe464d9b5493f7b5c882a8",
            "362b5564676e41cfb00a77508036af4d",
            "e9c3c9eaed744006ace2f2fd751f4345"
          ]
        },
        "id": "i8VCaplOBWg8",
        "outputId": "6f9bc9ba-e9f6-47f8-a25e-af09cc6089f9"
      },
      "outputs": [],
      "source": [
        "bert_tokenizer = AutoTokenizer.from_pretrained('bert-base-uncased')\n",
        "bert_model = TFAutoModel.from_pretrained('bert-base-uncased')"
      ]
    },
    {
      "cell_type": "markdown",
      "metadata": {
        "id": "Oay1FDOlBWg9"
      },
      "source": [
        "## CT-Bart"
      ]
    },
    {
      "cell_type": "code",
      "execution_count": null,
      "metadata": {
        "colab": {
          "base_uri": "https://localhost:8080/",
          "height": 254,
          "referenced_widgets": [
            "06d35177a55049e98ee253b008fb8d9f",
            "490e59746a614a97ba41c507c2689c75",
            "ef5033631adb4ca48871af685a6d8971",
            "60ebf08f8fc348c698a99d59ed198a60",
            "89982e69be4046e3a2b1c53d5f2d100e",
            "a243760afcf64495b982153a02f94868",
            "bf9a10dd038541279bc2ff1b734dabb3",
            "b17cbef9bbc840e5b722e415d732d62f",
            "9c348b86cd3c43c099e34a71d678d340",
            "a8e4d01bf4f04d8f9e9241e0dc0453a9",
            "76fa046b047049cda2888b19b200a98f",
            "04b25f37723045588d182a5c9a5f8bc9",
            "dbb4aec484984e5ca46f91fc7e9ccca7",
            "b722c648e281478a919bb1ff6b689e46",
            "98c76e1ad76f45719379bfe72c8a9296",
            "6ad1073b371e48328be2c21bd8d26b49",
            "3df4cd8d9d8b43cf910e6ddb01374ae2",
            "17565ec436a14e36b606dde6c65ec422",
            "4d0b5157f23642c99671caa74edd7eff",
            "bc9916a8a9c846cbae37957a34f724b8",
            "8f3d794e0ce0444aa6e098a3100ac503",
            "3fa1378435724631b7b11a6b28e4e7e5",
            "735f664d5c0b4a46a8ecb941ec4efce7",
            "a5023bbfd64049f5988c87ad85f046d1",
            "c9d769a8483a459f84f36b111721c0c3",
            "14d4e053d540480ba69a6a94cf7da9b0",
            "3be710a8319c40afbb0cf9577005f3a9",
            "a882fd8c95724176a96984e4fe68f509",
            "243873f6532346d3a9b872cfa84f1621",
            "e9479763bcec4c68aedf4261e9d82d2a",
            "bd2bcaf5b52b43fda8060b69576e9a48",
            "8e0af2a1f6ea48ab970a3c8354091a39",
            "d83e15bcb41f495f8c43a1115513cd92"
          ]
        },
        "id": "vuf-7Z64BWg9",
        "outputId": "53f4bb39-99f4-4610-8840-76a48bb4d044"
      },
      "outputs": [],
      "source": [
        "CTbert_tokenizer = AutoTokenizer.from_pretrained('digitalepidemiologylab/covid-twitter-bert')\n",
        "CTbert_model = TFAutoModel.from_pretrained('digitalepidemiologylab/covid-twitter-bert')"
      ]
    },
    {
      "cell_type": "markdown",
      "metadata": {
        "id": "8TXrdm9HBWg9"
      },
      "source": [
        "## Tokenize"
      ]
    },
    {
      "cell_type": "code",
      "execution_count": 15,
      "metadata": {
        "id": "Y8mmB0vdBWg9"
      },
      "outputs": [],
      "source": [
        "MAXLEN = 128"
      ]
    },
    {
      "cell_type": "code",
      "execution_count": 16,
      "metadata": {
        "id": "0CNonPwPBWg9"
      },
      "outputs": [],
      "source": [
        "def tokenize(texts, tokenizer, maxlen = MAXLEN):\n",
        "\tids = []\n",
        "\tmasks = []\n",
        "\ttypes = []\n",
        "\tfor text in texts:\n",
        "\t\to = tokenizer.encode_plus(\n",
        "\t\t\ttext,\n",
        "\t\t\tadd_special_tokens=True,\n",
        "\t\t\tmax_length=maxlen,\n",
        "\t\t\tpad_to_max_length=True,\n",
        "\t\t\ttruncation=True,\n",
        "\t\t\treturn_tensors='tf',\n",
        "\t\t\tverbose=0\n",
        "\t\t)\n",
        "\t\tids.append(o['input_ids'])\n",
        "\t\tmasks.append(o['attention_mask'])\n",
        "\t\ttypes.append(o['token_type_ids'])\n",
        "\n",
        "\treturn (\n",
        "\t\tnp.array(ids).reshape(len(texts), maxlen),\n",
        "\t\tnp.array(masks).reshape(len(texts), maxlen),\n",
        "\t\tnp.array(types).reshape(len(texts), maxlen)\n",
        "\t)"
      ]
    },
    {
      "cell_type": "code",
      "execution_count": 17,
      "metadata": {
        "id": "Rfh0a33NBWg9"
      },
      "outputs": [],
      "source": [
        "def create_datasets(tokenizer, batch_size, maxlen = MAXLEN):\n",
        "\ttrain_tokens = tokenize(train['clean'], tokenizer, maxlen)\n",
        "\tvalid_tokens = tokenize(valid['clean'], tokenizer, maxlen)\n",
        "\ttest_tokens = tokenize(test['clean'], tokenizer, maxlen)\n",
        "\n",
        "\ttrain_dataset = tf.data.Dataset.from_tensor_slices((\n",
        "\t\t{'input_ids': train_tokens[0], 'attention_mask': train_tokens[1]},\n",
        "\t\ttrain['label']\n",
        "\t))\n",
        "\ttrain_dataset = train_dataset.shuffle(len(train['label'])).batch(batch_size)\n",
        "\n",
        "\tvalid_dataset = tf.data.Dataset.from_tensor_slices((\n",
        "\t\t{'input_ids': valid_tokens[0], 'attention_mask': valid_tokens[1]},\n",
        "\t\tvalid['label']\n",
        "\t))\n",
        "\tvalid_dataset = valid_dataset.shuffle(len(valid['label'])).batch(batch_size)\n",
        "\n",
        "\ttest_dataset = tf.data.Dataset.from_tensor_slices((\n",
        "\t\t{'input_ids': test_tokens[0], 'attention_mask': test_tokens[1]}\n",
        "\t)).batch(batch_size)\n",
        "\n",
        "\treturn train_dataset, valid_dataset, test_dataset"
      ]
    },
    {
      "cell_type": "markdown",
      "metadata": {
        "id": "7JMIJ_MBBWg9"
      },
      "source": [
        "# Networks"
      ]
    },
    {
      "cell_type": "markdown",
      "metadata": {
        "id": "CTfEMmdDBWg-"
      },
      "source": [
        "## Utils"
      ]
    },
    {
      "cell_type": "code",
      "execution_count": 18,
      "metadata": {
        "id": "GwnmUEvaBWg-"
      },
      "outputs": [],
      "source": [
        "def show_model(model):\n",
        "\tmodel.summary()\n",
        "\tplot_model(\n",
        "\t\tmodel,\n",
        "\t\tshow_shapes = True,\n",
        "\t\tshow_dtype=False,\n",
        "\t\tshow_layer_names = True,\n",
        "\t\trankdir = 'TB',\n",
        "\t\texpand_nested = False,\n",
        "\t\tdpi = 256\n",
        "\t)"
      ]
    },
    {
      "cell_type": "code",
      "execution_count": 19,
      "metadata": {
        "id": "0KMAIV4eBWg-"
      },
      "outputs": [],
      "source": [
        "def training_metrics(history):\n",
        "\n",
        "\tepochs = range(1, len(history.history['loss']) + 1)\n",
        "\n",
        "\tplt.figure(figsize=(12, 6))\n",
        "\tplt.subplot(1, 2, 1)\n",
        "\tplt.plot(epochs, history.history['loss'], 'r-', label='Training Loss')\n",
        "\tplt.plot(epochs, history.history['val_loss'], 'b-', label='Validation Loss')\n",
        "\tplt.xlabel('Epochs')\n",
        "\tplt.ylabel('Loss')\n",
        "\tplt.legend()\n",
        "\n",
        "\tplt.subplot(1, 2, 2)\n",
        "\tplt.plot(epochs, history.history['accuracy'], 'r-', label='Training Accuracy')\n",
        "\tplt.plot(epochs, history.history['val_accuracy'], 'b-', label='Validation Accuracy')\n",
        "\tplt.xlabel('Epochs')\n",
        "\tplt.ylabel('Accuracy')\n",
        "\tplt.legend()\n",
        "\n",
        "\n",
        "\tplt.tight_layout()\n",
        "\tplt.show()\n",
        "\n",
        "def test_metrics(y_true, y_pred, num_classes):\n",
        "\taccuracy = accuracy_score(y_true, y_pred)\n",
        "\tprecision = precision_score(y_true, y_pred, average=None, labels=range(num_classes))\n",
        "\trecall = recall_score(y_true, y_pred, average=None, labels=range(num_classes))\n",
        "\tf1 = f1_score(y_true, y_pred, average=None, labels=range(num_classes))\n",
        "\n",
        "\tprecision_macro = precision_score(y_true, y_pred, average='macro')\n",
        "\trecall_macro = recall_score(y_true, y_pred, average='macro')\n",
        "\tf1_macro = f1_score(y_true, y_pred, average='macro')\n",
        "\n",
        "\tprecision_micro = precision_score(y_true, y_pred, average='micro')\n",
        "\trecall_micro = recall_score(y_true, y_pred, average='micro')\n",
        "\tf1_micro = f1_score(y_true, y_pred, average='micro')\n",
        "\n",
        "\tprecision_weighted = precision_score(y_true, y_pred, average='weighted')\n",
        "\trecall_weighted = recall_score(y_true, y_pred, average='weighted')\n",
        "\tf1_weighted = f1_score(y_true, y_pred, average='weighted')\n",
        "\n",
        "\taccuracy_table = [[\"Accuracy\", f\"{accuracy:.4f}\"]]\n",
        "\n",
        "\tclass_metrics = []\n",
        "\tfor i in range(num_classes):\n",
        "\t\tclass_metrics.append([f\"Class {i}\", f\"{precision[i]:.4f}\", f\"{recall[i]:.4f}\", f\"{f1[i]:.4f}\"])\n",
        "\n",
        "\taverage_metrics = [\n",
        "\t\t[\"Macro average\", f\"{precision_macro:.4f}\", f\"{recall_macro:.4f}\", f\"{f1_macro:.4f}\"],\n",
        "\t\t[\"Micro average\", f\"{precision_micro:.4f}\", f\"{recall_micro:.4f}\", f\"{f1_micro:.4f}\"],\n",
        "\t\t[\"Weighted average\", f\"{precision_weighted:.4f}\", f\"{recall_weighted:.4f}\", f\"{f1_weighted:.4f}\"]\n",
        "\t]\n",
        "\n",
        "\tprint(tabulate(accuracy_table, headers=[\"Metric\", \"Value\"], tablefmt=\"grid\"))\n",
        "\tprint(tabulate(class_metrics, headers=[\"Class\", \"Precision\", \"Recall\", \"F1-score\"], tablefmt=\"grid\"))\n",
        "\tprint(tabulate(average_metrics, headers=[\"Average Type\", \"Precision\", \"Recall\", \"F1-score\"], tablefmt=\"grid\"))\n",
        "\n",
        "\tcm = confusion_matrix(y_true, y_pred)\n",
        "\tplt.figure(figsize=(8, 6))\n",
        "\tsea.heatmap(cm, annot=True, cmap='Blues', fmt='g')\n",
        "\tplt.title('Confusion Matrix')\n",
        "\tplt.xlabel('Predicted')\n",
        "\tplt.ylabel('True')\n",
        "\tplt.show()"
      ]
    },
    {
      "cell_type": "code",
      "execution_count": 20,
      "metadata": {
        "id": "arZcvS0gBWg-"
      },
      "outputs": [],
      "source": [
        "def create_model(base_model, fine_tune = False, gru = False):\n",
        "\tinput_ids = Layers.Input(shape=(MAXLEN,), dtype=tf.int32, name=\"input_ids\")\n",
        "\tattention_mask = Layers.Input(shape=(MAXLEN,), dtype=tf.int32, name=\"attention_mask\")\n",
        "\tdense_input = None\n",
        "\tif(gru):\n",
        "\t\tbert_output = base_model(input_ids, attention_mask=attention_mask)[0]\n",
        "\t\tdense_input = Layers.Bidirectional(Layers.GRU(128))(bert_output)\n",
        "\telse:\n",
        "\t\tbert_output = base_model(input_ids, attention_mask=attention_mask)[1]\n",
        "\t\tdense_input = bert_output\n",
        "\tdense_output = Layers.Dense(1, activation='sigmoid')(dense_input)\n",
        "\tmodel = Model(inputs=[input_ids, attention_mask], outputs=dense_output)\n",
        "\n",
        "\n",
        "\tmodel.layers[2].trainable = fine_tune\n",
        "\treturn model"
      ]
    },
    {
      "cell_type": "markdown",
      "metadata": {
        "id": "FN8iMxIIBWg-"
      },
      "source": [
        "## Feature Based"
      ]
    },
    {
      "cell_type": "markdown",
      "metadata": {
        "id": "_pTCzq0JBWg-"
      },
      "source": [
        "### 1. BERT"
      ]
    },
    {
      "cell_type": "code",
      "execution_count": null,
      "metadata": {
        "id": "laRkKf6NBWg-",
        "outputId": "f33c5238-7ad4-48c5-ba6a-f3547965f0a8"
      },
      "outputs": [
        {
          "name": "stdout",
          "output_type": "stream",
          "text": [
            "Model: \"model\"\n",
            "__________________________________________________________________________________________________\n",
            " Layer (type)                   Output Shape         Param #     Connected to                     \n",
            "==================================================================================================\n",
            " input_ids (InputLayer)         [(None, 128)]        0           []                               \n",
            "                                                                                                  \n",
            " attention_mask (InputLayer)    [(None, 128)]        0           []                               \n",
            "                                                                                                  \n",
            " tf_bert_model (TFBertModel)    TFBaseModelOutputWi  109482240   ['input_ids[0][0]',              \n",
            "                                thPoolingAndCrossAt               'attention_mask[0][0]']         \n",
            "                                tentions(last_hidde                                               \n",
            "                                n_state=(None, 128,                                               \n",
            "                                 768),                                                            \n",
            "                                 pooler_output=(Non                                               \n",
            "                                e, 768),                                                          \n",
            "                                 past_key_values=No                                               \n",
            "                                ne, hidden_states=N                                               \n",
            "                                one, attentions=Non                                               \n",
            "                                e, cross_attentions                                               \n",
            "                                =None)                                                            \n",
            "                                                                                                  \n",
            " dense (Dense)                  (None, 1)            769         ['tf_bert_model[0][1]']          \n",
            "                                                                                                  \n",
            "==================================================================================================\n",
            "Total params: 109,483,009\n",
            "Trainable params: 769\n",
            "Non-trainable params: 109,482,240\n",
            "__________________________________________________________________________________________________\n"
          ]
        }
      ],
      "source": [
        "model = create_model(bert_model, fine_tune = False, gru = False)\n",
        "show_model(model)"
      ]
    },
    {
      "cell_type": "code",
      "execution_count": null,
      "metadata": {
        "id": "kGFGNYE9BWg-"
      },
      "outputs": [],
      "source": [
        "model.compile(\n",
        "    optimizer=tf.keras.optimizers.Adam(learning_rate=5e-4),\n",
        "\tloss=tf.keras.losses.BinaryCrossentropy(from_logits=False),\n",
        "    metrics=['accuracy']\n",
        ")"
      ]
    },
    {
      "cell_type": "code",
      "execution_count": null,
      "metadata": {
        "id": "Tmu91czYBWg-"
      },
      "outputs": [],
      "source": [
        "train_dataset, valid_dataset, Xtest = create_datasets(bert_tokenizer, batch_size = 4)"
      ]
    },
    {
      "cell_type": "code",
      "execution_count": null,
      "metadata": {
        "id": "i1JwoFm6BWg-",
        "outputId": "4de64108-ea6a-4fbf-c7d5-53b7f03c56b2"
      },
      "outputs": [
        {
          "name": "stdout",
          "output_type": "stream",
          "text": [
            "Epoch 1/3\n",
            "1605/1605 [==============================] - 170s 98ms/step - loss: 0.5014 - accuracy: 0.7721 - val_loss: 0.4244 - val_accuracy: 0.8234\n",
            "Epoch 2/3\n",
            "1605/1605 [==============================] - 155s 96ms/step - loss: 0.4217 - accuracy: 0.8235 - val_loss: 0.3760 - val_accuracy: 0.8407\n",
            "Epoch 3/3\n",
            "1605/1605 [==============================] - 151s 94ms/step - loss: 0.3833 - accuracy: 0.8455 - val_loss: 0.3497 - val_accuracy: 0.8547\n"
          ]
        },
        {
          "data": {
            "image/png": "[encoded data removed]",
            "text/plain": [
              "<Figure size 1200x600 with 2 Axes>"
            ]
          },
          "metadata": {},
          "output_type": "display_data"
        },
        {
          "name": "stdout",
          "output_type": "stream",
          "text": [
            "535/535 [==============================] - 37s 63ms/step\n",
            "+----------+---------+\n",
            "| Metric   |   Value |\n",
            "+==========+=========+\n",
            "| Accuracy |  0.8692 |\n",
            "+----------+---------+\n",
            "+---------+-------------+----------+------------+\n",
            "| Class   |   Precision |   Recall |   F1-score |\n",
            "+=========+=============+==========+============+\n",
            "| Class 0 |      0.8878 |   0.8304 |     0.8582 |\n",
            "+---------+-------------+----------+------------+\n",
            "| Class 1 |      0.8541 |   0.9045 |     0.8786 |\n",
            "+---------+-------------+----------+------------+\n",
            "+------------------+-------------+----------+------------+\n",
            "| Average Type     |   Precision |   Recall |   F1-score |\n",
            "+==================+=============+==========+============+\n",
            "| Macro average    |      0.871  |   0.8674 |     0.8684 |\n",
            "+------------------+-------------+----------+------------+\n",
            "| Micro average    |      0.8692 |   0.8692 |     0.8692 |\n",
            "+------------------+-------------+----------+------------+\n",
            "| Weighted average |      0.8702 |   0.8692 |     0.8688 |\n",
            "+------------------+-------------+----------+------------+\n"
          ]
        },
        {
          "data": {
            "image/png": "[encoded data removed]",
            "text/plain": [
              "<Figure size 800x600 with 2 Axes>"
            ]
          },
          "metadata": {},
          "output_type": "display_data"
        }
      ],
      "source": [
        "history = model.fit(train_dataset, epochs=3, validation_data=valid_dataset)\n",
        "\n",
        "training_metrics(history)\n",
        "\n",
        "y_pred = model.predict(Xtest)\n",
        "y_pred = (y_pred >= 0.5).astype(int)\n",
        "test_metrics(test['label'], y_pred, num_classes=2)"
      ]
    },
    {
      "cell_type": "markdown",
      "metadata": {
        "id": "lKgCRbO5BWg_"
      },
      "source": [
        "### 2. BERT + BiGRU"
      ]
    },
    {
      "cell_type": "code",
      "execution_count": null,
      "metadata": {
        "id": "tg0IdyiUBWg_",
        "outputId": "e1bc00ae-efcb-406a-dd86-8d2d5716312f"
      },
      "outputs": [
        {
          "name": "stdout",
          "output_type": "stream",
          "text": [
            "Model: \"model\"\n",
            "__________________________________________________________________________________________________\n",
            " Layer (type)                   Output Shape         Param #     Connected to                     \n",
            "==================================================================================================\n",
            " input_ids (InputLayer)         [(None, 128)]        0           []                               \n",
            "                                                                                                  \n",
            " attention_mask (InputLayer)    [(None, 128)]        0           []                               \n",
            "                                                                                                  \n",
            " tf_bert_model (TFBertModel)    TFBaseModelOutputWi  109482240   ['input_ids[0][0]',              \n",
            "                                thPoolingAndCrossAt               'attention_mask[0][0]']         \n",
            "                                tentions(last_hidde                                               \n",
            "                                n_state=(None, 128,                                               \n",
            "                                 768),                                                            \n",
            "                                 pooler_output=(Non                                               \n",
            "                                e, 768),                                                          \n",
            "                                 past_key_values=No                                               \n",
            "                                ne, hidden_states=N                                               \n",
            "                                one, attentions=Non                                               \n",
            "                                e, cross_attentions                                               \n",
            "                                =None)                                                            \n",
            "                                                                                                  \n",
            " bidirectional (Bidirectional)  (None, 256)          689664      ['tf_bert_model[0][0]']          \n",
            "                                                                                                  \n",
            " dense (Dense)                  (None, 1)            257         ['bidirectional[0][0]']          \n",
            "                                                                                                  \n",
            "==================================================================================================\n",
            "Total params: 110,172,161\n",
            "Trainable params: 689,921\n",
            "Non-trainable params: 109,482,240\n",
            "__________________________________________________________________________________________________\n"
          ]
        }
      ],
      "source": [
        "model = create_model(bert_model, fine_tune = False, gru = True)\n",
        "show_model(model)"
      ]
    },
    {
      "cell_type": "code",
      "execution_count": null,
      "metadata": {
        "id": "ZT9LRBPABWg_"
      },
      "outputs": [],
      "source": [
        "model.compile(\n",
        "    optimizer=tf.keras.optimizers.Adam(learning_rate=5e-4),\n",
        "\tloss=tf.keras.losses.BinaryCrossentropy(from_logits=False),\n",
        "    metrics=['accuracy']\n",
        ")"
      ]
    },
    {
      "cell_type": "code",
      "execution_count": null,
      "metadata": {
        "id": "r3dyl-xsBWg_"
      },
      "outputs": [],
      "source": [
        "train_dataset, valid_dataset, Xtest = create_datasets(bert_tokenizer, batch_size = 4)"
      ]
    },
    {
      "cell_type": "code",
      "execution_count": null,
      "metadata": {
        "id": "8RvbuLB8BWg_",
        "outputId": "2ec7355f-4892-43cb-e0f1-952f555c0eef"
      },
      "outputs": [
        {
          "name": "stdout",
          "output_type": "stream",
          "text": [
            "Epoch 1/3\n",
            "1605/1605 [==============================] - 181s 103ms/step - loss: 0.2065 - accuracy: 0.9151 - val_loss: 0.1285 - val_accuracy: 0.9505\n",
            "Epoch 2/3\n",
            "1605/1605 [==============================] - 163s 102ms/step - loss: 0.1190 - accuracy: 0.9539 - val_loss: 0.0978 - val_accuracy: 0.9636\n",
            "Epoch 3/3\n",
            "1605/1605 [==============================] - 165s 103ms/step - loss: 0.0729 - accuracy: 0.9763 - val_loss: 0.0918 - val_accuracy: 0.9673\n"
          ]
        },
        {
          "data": {
            "image/png": "[encoded data removed]",
            "text/plain": [
              "<Figure size 1200x600 with 2 Axes>"
            ]
          },
          "metadata": {},
          "output_type": "display_data"
        },
        {
          "name": "stdout",
          "output_type": "stream",
          "text": [
            "535/535 [==============================] - 39s 66ms/step\n",
            "+----------+---------+\n",
            "| Metric   |   Value |\n",
            "+==========+=========+\n",
            "| Accuracy |  0.9589 |\n",
            "+----------+---------+\n",
            "+---------+-------------+----------+------------+\n",
            "| Class   |   Precision |   Recall |   F1-score |\n",
            "+=========+=============+==========+============+\n",
            "| Class 0 |      0.9489 |   0.9657 |     0.9572 |\n",
            "+---------+-------------+----------+------------+\n",
            "| Class 1 |      0.9682 |   0.9527 |     0.9604 |\n",
            "+---------+-------------+----------+------------+\n",
            "+------------------+-------------+----------+------------+\n",
            "| Average Type     |   Precision |   Recall |   F1-score |\n",
            "+==================+=============+==========+============+\n",
            "| Macro average    |      0.9586 |   0.9592 |     0.9588 |\n",
            "+------------------+-------------+----------+------------+\n",
            "| Micro average    |      0.9589 |   0.9589 |     0.9589 |\n",
            "+------------------+-------------+----------+------------+\n",
            "| Weighted average |      0.959  |   0.9589 |     0.9589 |\n",
            "+------------------+-------------+----------+------------+\n"
          ]
        },
        {
          "data": {
            "image/png": "[encoded data removed]",
            "text/plain": [
              "<Figure size 800x600 with 2 Axes>"
            ]
          },
          "metadata": {},
          "output_type": "display_data"
        }
      ],
      "source": [
        "history = model.fit(train_dataset, epochs=3, validation_data=valid_dataset)\n",
        "\n",
        "training_metrics(history)\n",
        "\n",
        "y_pred = model.predict(Xtest)\n",
        "y_pred = (y_pred >= 0.5).astype(int)\n",
        "test_metrics(test['label'], y_pred, num_classes=2)"
      ]
    },
    {
      "cell_type": "markdown",
      "metadata": {
        "id": "HSgFC-HFBWg_"
      },
      "source": [
        "### 3. CT-BERT + BiGRU"
      ]
    },
    {
      "cell_type": "code",
      "execution_count": null,
      "metadata": {
        "id": "uCuSBV1SBWg_",
        "outputId": "f960de68-8256-4089-c8eb-9200cb2ca900"
      },
      "outputs": [
        {
          "name": "stdout",
          "output_type": "stream",
          "text": [
            "Model: \"model\"\n",
            "__________________________________________________________________________________________________\n",
            " Layer (type)                   Output Shape         Param #     Connected to                     \n",
            "==================================================================================================\n",
            " input_ids (InputLayer)         [(None, 128)]        0           []                               \n",
            "                                                                                                  \n",
            " attention_mask (InputLayer)    [(None, 128)]        0           []                               \n",
            "                                                                                                  \n",
            " tf_bert_model (TFBertModel)    TFBaseModelOutputWi  335141888   ['input_ids[0][0]',              \n",
            "                                thPoolingAndCrossAt               'attention_mask[0][0]']         \n",
            "                                tentions(last_hidde                                               \n",
            "                                n_state=(None, 128,                                               \n",
            "                                 1024),                                                           \n",
            "                                 pooler_output=(Non                                               \n",
            "                                e, 1024),                                                         \n",
            "                                 past_key_values=No                                               \n",
            "                                ne, hidden_states=N                                               \n",
            "                                one, attentions=Non                                               \n",
            "                                e, cross_attentions                                               \n",
            "                                =None)                                                            \n",
            "                                                                                                  \n",
            " bidirectional (Bidirectional)  (None, 256)          886272      ['tf_bert_model[0][0]']          \n",
            "                                                                                                  \n",
            " dense (Dense)                  (None, 1)            257         ['bidirectional[0][0]']          \n",
            "                                                                                                  \n",
            "==================================================================================================\n",
            "Total params: 336,028,417\n",
            "Trainable params: 886,529\n",
            "Non-trainable params: 335,141,888\n",
            "__________________________________________________________________________________________________\n"
          ]
        }
      ],
      "source": [
        "model = create_model(CTbert_model, fine_tune = False, gru = True)\n",
        "show_model(model)"
      ]
    },
    {
      "cell_type": "code",
      "execution_count": null,
      "metadata": {
        "id": "avPab6WsBWg_"
      },
      "outputs": [],
      "source": [
        "model.compile(\n",
        "    optimizer=tf.keras.optimizers.Adam(learning_rate=5e-4),\n",
        "\tloss=tf.keras.losses.BinaryCrossentropy(from_logits=False),\n",
        "    metrics=['accuracy']\n",
        ")"
      ]
    },
    {
      "cell_type": "code",
      "execution_count": null,
      "metadata": {
        "id": "yY5VvJdJBWhA"
      },
      "outputs": [],
      "source": [
        "train_dataset, valid_dataset, Xtest = create_datasets(CTbert_tokenizer, batch_size = 4)"
      ]
    },
    {
      "cell_type": "code",
      "execution_count": null,
      "metadata": {
        "id": "JIGF086OBWhC",
        "outputId": "f33bb4ac-3d2f-4743-c59e-139510e84456"
      },
      "outputs": [
        {
          "name": "stdout",
          "output_type": "stream",
          "text": [
            "Epoch 1/3\n",
            "1605/1605 [==============================] - 402s 234ms/step - loss: 0.1436 - accuracy: 0.9421 - val_loss: 0.0959 - val_accuracy: 0.9659\n",
            "Epoch 2/3\n",
            "1605/1605 [==============================] - 368s 229ms/step - loss: 0.0614 - accuracy: 0.9774 - val_loss: 0.0872 - val_accuracy: 0.9659\n",
            "Epoch 3/3\n",
            "1605/1605 [==============================] - 368s 229ms/step - loss: 0.0326 - accuracy: 0.9889 - val_loss: 0.0841 - val_accuracy: 0.9682\n"
          ]
        },
        {
          "data": {
            "image/png": "[encoded data removed]",
            "text/plain": [
              "<Figure size 1200x600 with 2 Axes>"
            ]
          },
          "metadata": {},
          "output_type": "display_data"
        },
        {
          "name": "stdout",
          "output_type": "stream",
          "text": [
            "535/535 [==============================] - 89s 152ms/step\n",
            "+----------+---------+\n",
            "| Metric   |   Value |\n",
            "+==========+=========+\n",
            "| Accuracy |  0.9701 |\n",
            "+----------+---------+\n",
            "+---------+-------------+----------+------------+\n",
            "| Class   |   Precision |   Recall |   F1-score |\n",
            "+=========+=============+==========+============+\n",
            "| Class 0 |      0.9742 |   0.9627 |     0.9684 |\n",
            "+---------+-------------+----------+------------+\n",
            "| Class 1 |      0.9664 |   0.9768 |     0.9716 |\n",
            "+---------+-------------+----------+------------+\n",
            "+------------------+-------------+----------+------------+\n",
            "| Average Type     |   Precision |   Recall |   F1-score |\n",
            "+==================+=============+==========+============+\n",
            "| Macro average    |      0.9703 |   0.9698 |     0.97   |\n",
            "+------------------+-------------+----------+------------+\n",
            "| Micro average    |      0.9701 |   0.9701 |     0.9701 |\n",
            "+------------------+-------------+----------+------------+\n",
            "| Weighted average |      0.9701 |   0.9701 |     0.9701 |\n",
            "+------------------+-------------+----------+------------+\n"
          ]
        },
        {
          "data": {
            "image/png": "[encoded data removed]",
            "text/plain": [
              "<Figure size 800x600 with 2 Axes>"
            ]
          },
          "metadata": {},
          "output_type": "display_data"
        }
      ],
      "source": [
        "history = model.fit(train_dataset, epochs=3, validation_data=valid_dataset)\n",
        "\n",
        "training_metrics(history)\n",
        "\n",
        "y_pred = model.predict(Xtest)\n",
        "y_pred = (y_pred >= 0.5).astype(int)\n",
        "test_metrics(test['label'], y_pred, num_classes=2)"
      ]
    },
    {
      "cell_type": "markdown",
      "metadata": {
        "id": "wzP90nyrBWhC"
      },
      "source": [
        "## Fine Tune"
      ]
    },
    {
      "cell_type": "markdown",
      "metadata": {
        "id": "bGqM6cagBWhC"
      },
      "source": [
        "### 1. BERT"
      ]
    },
    {
      "cell_type": "code",
      "execution_count": null,
      "metadata": {
        "colab": {
          "base_uri": "https://localhost:8080/"
        },
        "id": "Kze1SDKRBWhC",
        "outputId": "62eecca1-9cfd-4694-88ea-4409174d8bd3"
      },
      "outputs": [
        {
          "name": "stdout",
          "output_type": "stream",
          "text": [
            "Model: \"model\"\n",
            "__________________________________________________________________________________________________\n",
            " Layer (type)                Output Shape                 Param #   Connected to                  \n",
            "==================================================================================================\n",
            " input_ids (InputLayer)      [(None, 128)]                0         []                            \n",
            "                                                                                                  \n",
            " attention_mask (InputLayer  [(None, 128)]                0         []                            \n",
            " )                                                                                                \n",
            "                                                                                                  \n",
            " tf_bert_model (TFBertModel  TFBaseModelOutputWithPooli   1094822   ['input_ids[0][0]',           \n",
            " )                           ngAndCrossAttentions(last_   40         'attention_mask[0][0]']      \n",
            "                             hidden_state=(None, 128, 7                                           \n",
            "                             68),                                                                 \n",
            "                              pooler_output=(None, 768)                                           \n",
            "                             , past_key_values=None, hi                                           \n",
            "                             dden_states=None, attentio                                           \n",
            "                             ns=None, cross_attentions=                                           \n",
            "                             None)                                                                \n",
            "                                                                                                  \n",
            " dense (Dense)               (None, 1)                    769       ['tf_bert_model[0][1]']       \n",
            "                                                                                                  \n",
            "==================================================================================================\n",
            "Total params: 109483009 (417.64 MB)\n",
            "Trainable params: 109483009 (417.64 MB)\n",
            "Non-trainable params: 0 (0.00 Byte)\n",
            "__________________________________________________________________________________________________\n"
          ]
        }
      ],
      "source": [
        "model = create_model(bert_model, fine_tune = True, gru = False)\n",
        "show_model(model)"
      ]
    },
    {
      "cell_type": "code",
      "execution_count": null,
      "metadata": {
        "id": "_GWi4MdGBWhD"
      },
      "outputs": [],
      "source": [
        "model.compile(\n",
        "    optimizer=tf.keras.optimizers.Adam(learning_rate=5e-5),\n",
        "\tloss=tf.keras.losses.BinaryCrossentropy(from_logits=False),\n",
        "    metrics=['accuracy']\n",
        ")"
      ]
    },
    {
      "cell_type": "code",
      "execution_count": null,
      "metadata": {
        "id": "WXkgg6SpBWhD"
      },
      "outputs": [],
      "source": [
        "train_dataset, valid_dataset, Xtest = create_datasets(bert_tokenizer, batch_size = 4)"
      ]
    },
    {
      "cell_type": "code",
      "execution_count": null,
      "metadata": {
        "colab": {
          "base_uri": "https://localhost:8080/",
          "height": 1000
        },
        "id": "W6EpvPiSBWhD",
        "outputId": "03665d94-2f09-4c0b-ad81-04a614c7b542"
      },
      "outputs": [
        {
          "name": "stdout",
          "output_type": "stream",
          "text": [
            "Epoch 1/3\n",
            "1605/1605 [==============================] - 329s 165ms/step - loss: 0.2101 - accuracy: 0.9139 - val_loss: 0.1275 - val_accuracy: 0.9509\n",
            "Epoch 2/3\n",
            "1605/1605 [==============================] - 253s 158ms/step - loss: 0.0873 - accuracy: 0.9715 - val_loss: 0.1253 - val_accuracy: 0.9654\n",
            "Epoch 3/3\n",
            "1605/1605 [==============================] - 248s 155ms/step - loss: 0.0885 - accuracy: 0.9749 - val_loss: 0.1093 - val_accuracy: 0.9607\n"
          ]
        },
        {
          "data": {
            "image/png": "[encoded data removed]",
            "text/plain": [
              "<Figure size 1200x600 with 2 Axes>"
            ]
          },
          "metadata": {},
          "output_type": "display_data"
        },
        {
          "name": "stdout",
          "output_type": "stream",
          "text": [
            "535/535 [==============================] - 28s 47ms/step\n",
            "+----------+---------+\n",
            "| Metric   |   Value |\n",
            "+==========+=========+\n",
            "| Accuracy |  0.9589 |\n",
            "+----------+---------+\n",
            "+---------+-------------+----------+------------+\n",
            "| Class   |   Precision |   Recall |   F1-score |\n",
            "+=========+=============+==========+============+\n",
            "| Class 0 |      0.9726 |   0.9402 |     0.9561 |\n",
            "+---------+-------------+----------+------------+\n",
            "| Class 1 |      0.9471 |   0.9759 |     0.9613 |\n",
            "+---------+-------------+----------+------------+\n",
            "+------------------+-------------+----------+------------+\n",
            "| Average Type     |   Precision |   Recall |   F1-score |\n",
            "+==================+=============+==========+============+\n",
            "| Macro average    |      0.9599 |   0.958  |     0.9587 |\n",
            "+------------------+-------------+----------+------------+\n",
            "| Micro average    |      0.9589 |   0.9589 |     0.9589 |\n",
            "+------------------+-------------+----------+------------+\n",
            "| Weighted average |      0.9593 |   0.9589 |     0.9588 |\n",
            "+------------------+-------------+----------+------------+\n"
          ]
        },
        {
          "data": {
            "image/png": "[encoded data removed]",
            "text/plain": [
              "<Figure size 800x600 with 2 Axes>"
            ]
          },
          "metadata": {},
          "output_type": "display_data"
        }
      ],
      "source": [
        "history = model.fit(train_dataset, epochs=3, validation_data=valid_dataset)\n",
        "\n",
        "training_metrics(history)\n",
        "\n",
        "y_pred = model.predict(Xtest)\n",
        "y_pred = (y_pred >= 0.5).astype(int)\n",
        "test_metrics(test['label'], y_pred, num_classes=2)"
      ]
    },
    {
      "cell_type": "markdown",
      "metadata": {
        "id": "UPgt59CRBWhD"
      },
      "source": [
        "### 2. BERT + BiGRU"
      ]
    },
    {
      "cell_type": "code",
      "execution_count": 21,
      "metadata": {
        "colab": {
          "base_uri": "https://localhost:8080/"
        },
        "id": "l1IoXO2gBWhD",
        "outputId": "c0484c0d-d05c-49b3-8b64-a47e6373fe3e"
      },
      "outputs": [
        {
          "name": "stdout",
          "output_type": "stream",
          "text": [
            "Model: \"model\"\n",
            "__________________________________________________________________________________________________\n",
            " Layer (type)                Output Shape                 Param #   Connected to                  \n",
            "==================================================================================================\n",
            " input_ids (InputLayer)      [(None, 128)]                0         []                            \n",
            "                                                                                                  \n",
            " attention_mask (InputLayer  [(None, 128)]                0         []                            \n",
            " )                                                                                                \n",
            "                                                                                                  \n",
            " tf_bert_model (TFBertModel  TFBaseModelOutputWithPooli   1094822   ['input_ids[0][0]',           \n",
            " )                           ngAndCrossAttentions(last_   40         'attention_mask[0][0]']      \n",
            "                             hidden_state=(None, 128, 7                                           \n",
            "                             68),                                                                 \n",
            "                              pooler_output=(None, 768)                                           \n",
            "                             , past_key_values=None, hi                                           \n",
            "                             dden_states=None, attentio                                           \n",
            "                             ns=None, cross_attentions=                                           \n",
            "                             None)                                                                \n",
            "                                                                                                  \n",
            " bidirectional (Bidirection  (None, 256)                  689664    ['tf_bert_model[0][0]']       \n",
            " al)                                                                                              \n",
            "                                                                                                  \n",
            " dense (Dense)               (None, 1)                    257       ['bidirectional[0][0]']       \n",
            "                                                                                                  \n",
            "==================================================================================================\n",
            "Total params: 110172161 (420.27 MB)\n",
            "Trainable params: 110172161 (420.27 MB)\n",
            "Non-trainable params: 0 (0.00 Byte)\n",
            "__________________________________________________________________________________________________\n"
          ]
        }
      ],
      "source": [
        "model = create_model(bert_model, fine_tune = True, gru = True)\n",
        "show_model(model)"
      ]
    },
    {
      "cell_type": "code",
      "execution_count": 22,
      "metadata": {
        "id": "iA8qeCiuBWhD"
      },
      "outputs": [],
      "source": [
        "model.compile(\n",
        "    optimizer=tf.keras.optimizers.Adam(learning_rate=1e-5),\n",
        "    loss=tf.keras.losses.BinaryCrossentropy(from_logits=False),\n",
        "    metrics=['accuracy']\n",
        ")"
      ]
    },
    {
      "cell_type": "code",
      "execution_count": 23,
      "metadata": {
        "id": "yf3kfNrkBWhD"
      },
      "outputs": [],
      "source": [
        "train_dataset, valid_dataset, Xtest = create_datasets(bert_tokenizer, batch_size = 4)"
      ]
    },
    {
      "cell_type": "code",
      "execution_count": 24,
      "metadata": {
        "colab": {
          "base_uri": "https://localhost:8080/",
          "height": 1000
        },
        "id": "YbJuz-MnBWhD",
        "outputId": "28690bcc-70f4-4536-a8e2-9e03ff592a5d"
      },
      "outputs": [
        {
          "name": "stdout",
          "output_type": "stream",
          "text": [
            "Epoch 1/3\n"
          ]
        },
        {
          "name": "stderr",
          "output_type": "stream",
          "text": [
            "WARNING:tensorflow:Gradients do not exist for variables ['tf_bert_model/bert/pooler/dense/kernel:0', 'tf_bert_model/bert/pooler/dense/bias:0'] when minimizing the loss. If you're using `model.compile()`, did you forget to provide a `loss` argument?\n",
            "WARNING:tensorflow:Gradients do not exist for variables ['tf_bert_model/bert/pooler/dense/kernel:0', 'tf_bert_model/bert/pooler/dense/bias:0'] when minimizing the loss. If you're using `model.compile()`, did you forget to provide a `loss` argument?\n",
            "WARNING:tensorflow:Gradients do not exist for variables ['tf_bert_model/bert/pooler/dense/kernel:0', 'tf_bert_model/bert/pooler/dense/bias:0'] when minimizing the loss. If you're using `model.compile()`, did you forget to provide a `loss` argument?\n",
            "WARNING:tensorflow:Gradients do not exist for variables ['tf_bert_model/bert/pooler/dense/kernel:0', 'tf_bert_model/bert/pooler/dense/bias:0'] when minimizing the loss. If you're using `model.compile()`, did you forget to provide a `loss` argument?\n"
          ]
        },
        {
          "name": "stdout",
          "output_type": "stream",
          "text": [
            "1605/1605 [==============================] - 331s 173ms/step - loss: 0.1607 - accuracy: 0.9368 - val_loss: 0.0960 - val_accuracy: 0.9612\n",
            "Epoch 2/3\n",
            "1605/1605 [==============================] - 267s 166ms/step - loss: 0.0475 - accuracy: 0.9850 - val_loss: 0.0646 - val_accuracy: 0.9724\n",
            "Epoch 3/3\n",
            "1605/1605 [==============================] - 266s 166ms/step - loss: 0.0167 - accuracy: 0.9947 - val_loss: 0.0802 - val_accuracy: 0.9748\n"
          ]
        },
        {
          "data": {
            "image/png": "[encoded data removed]",
            "text/plain": [
              "<Figure size 1200x600 with 2 Axes>"
            ]
          },
          "metadata": {},
          "output_type": "display_data"
        },
        {
          "name": "stdout",
          "output_type": "stream",
          "text": [
            "535/535 [==============================] - 32s 51ms/step\n",
            "+----------+---------+\n",
            "| Metric   |   Value |\n",
            "+==========+=========+\n",
            "| Accuracy |  0.9734 |\n",
            "+----------+---------+\n",
            "+---------+-------------+----------+------------+\n",
            "| Class   |   Precision |   Recall |   F1-score |\n",
            "+=========+=============+==========+============+\n",
            "| Class 0 |      0.9753 |   0.9686 |     0.972  |\n",
            "+---------+-------------+----------+------------+\n",
            "| Class 1 |      0.9716 |   0.9777 |     0.9746 |\n",
            "+---------+-------------+----------+------------+\n",
            "+------------------+-------------+----------+------------+\n",
            "| Average Type     |   Precision |   Recall |   F1-score |\n",
            "+==================+=============+==========+============+\n",
            "| Macro average    |      0.9735 |   0.9732 |     0.9733 |\n",
            "+------------------+-------------+----------+------------+\n",
            "| Micro average    |      0.9734 |   0.9734 |     0.9734 |\n",
            "+------------------+-------------+----------+------------+\n",
            "| Weighted average |      0.9734 |   0.9734 |     0.9734 |\n",
            "+------------------+-------------+----------+------------+\n"
          ]
        },
        {
          "data": {
            "image/png": "[encoded data removed]",
            "text/plain": [
              "<Figure size 800x600 with 2 Axes>"
            ]
          },
          "metadata": {},
          "output_type": "display_data"
        }
      ],
      "source": [
        "history = model.fit(train_dataset, epochs=3, validation_data=valid_dataset)\n",
        "\n",
        "training_metrics(history)\n",
        "\n",
        "y_pred = model.predict(Xtest)\n",
        "y_pred = (y_pred >= 0.5).astype(int)\n",
        "test_metrics(test['label'], y_pred, num_classes=2)"
      ]
    },
    {
      "cell_type": "markdown",
      "metadata": {
        "id": "kO1n9dlbBWhD"
      },
      "source": [
        "### 3. CT-BERT + BiGRU"
      ]
    },
    {
      "cell_type": "code",
      "execution_count": 26,
      "metadata": {
        "colab": {
          "base_uri": "https://localhost:8080/"
        },
        "id": "bFhULjXNBWhE",
        "outputId": "e8842ea1-2b42-4821-d42a-a40a70935c0f"
      },
      "outputs": [
        {
          "name": "stdout",
          "output_type": "stream",
          "text": [
            "Model: \"model_1\"\n",
            "__________________________________________________________________________________________________\n",
            " Layer (type)                Output Shape                 Param #   Connected to                  \n",
            "==================================================================================================\n",
            " input_ids (InputLayer)      [(None, 128)]                0         []                            \n",
            "                                                                                                  \n",
            " attention_mask (InputLayer  [(None, 128)]                0         []                            \n",
            " )                                                                                                \n",
            "                                                                                                  \n",
            " tf_bert_model_1 (TFBertMod  TFBaseModelOutputWithPooli   3351418   ['input_ids[0][0]',           \n",
            " el)                         ngAndCrossAttentions(last_   88         'attention_mask[0][0]']      \n",
            "                             hidden_state=(None, 128, 1                                           \n",
            "                             024),                                                                \n",
            "                              pooler_output=(None, 1024                                           \n",
            "                             ),                                                                   \n",
            "                              past_key_values=None, hid                                           \n",
            "                             den_states=None, attention                                           \n",
            "                             s=None, cross_attentions=N                                           \n",
            "                             one)                                                                 \n",
            "                                                                                                  \n",
            " bidirectional_1 (Bidirecti  (None, 256)                  886272    ['tf_bert_model_1[0][0]']     \n",
            " onal)                                                                                            \n",
            "                                                                                                  \n",
            " dense_1 (Dense)             (None, 1)                    257       ['bidirectional_1[0][0]']     \n",
            "                                                                                                  \n",
            "==================================================================================================\n",
            "Total params: 336028417 (1.25 GB)\n",
            "Trainable params: 336028417 (1.25 GB)\n",
            "Non-trainable params: 0 (0.00 Byte)\n",
            "__________________________________________________________________________________________________\n"
          ]
        }
      ],
      "source": [
        "model = create_model(CTbert_model, fine_tune = True, gru = True)\n",
        "show_model(model)"
      ]
    },
    {
      "cell_type": "code",
      "execution_count": 27,
      "metadata": {
        "id": "lixub5BrBWhE"
      },
      "outputs": [],
      "source": [
        "model.compile(\n",
        "    optimizer=tf.keras.optimizers.Adam(learning_rate=1e-5),\n",
        "\tloss=tf.keras.losses.BinaryCrossentropy(from_logits=False),\n",
        "    metrics=['accuracy']\n",
        ")"
      ]
    },
    {
      "cell_type": "code",
      "execution_count": 28,
      "metadata": {
        "id": "dgSNh5wOBWhE"
      },
      "outputs": [],
      "source": [
        "train_dataset, valid_dataset, Xtest = create_datasets(CTbert_tokenizer, batch_size = 4)"
      ]
    },
    {
      "cell_type": "code",
      "execution_count": 29,
      "metadata": {
        "colab": {
          "base_uri": "https://localhost:8080/",
          "height": 1000
        },
        "id": "Xa_1jj2OBWhE",
        "outputId": "c64d3563-600d-40ef-ab78-7a200a126b88"
      },
      "outputs": [
        {
          "name": "stdout",
          "output_type": "stream",
          "text": [
            "Epoch 1/3\n"
          ]
        },
        {
          "name": "stderr",
          "output_type": "stream",
          "text": [
            "WARNING:tensorflow:Gradients do not exist for variables ['tf_bert_model_1/bert/pooler/dense/kernel:0', 'tf_bert_model_1/bert/pooler/dense/bias:0'] when minimizing the loss. If you're using `model.compile()`, did you forget to provide a `loss` argument?\n",
            "WARNING:tensorflow:Gradients do not exist for variables ['tf_bert_model_1/bert/pooler/dense/kernel:0', 'tf_bert_model_1/bert/pooler/dense/bias:0'] when minimizing the loss. If you're using `model.compile()`, did you forget to provide a `loss` argument?\n",
            "WARNING:tensorflow:Gradients do not exist for variables ['tf_bert_model_1/bert/pooler/dense/kernel:0', 'tf_bert_model_1/bert/pooler/dense/bias:0'] when minimizing the loss. If you're using `model.compile()`, did you forget to provide a `loss` argument?\n",
            "WARNING:tensorflow:Gradients do not exist for variables ['tf_bert_model_1/bert/pooler/dense/kernel:0', 'tf_bert_model_1/bert/pooler/dense/bias:0'] when minimizing the loss. If you're using `model.compile()`, did you forget to provide a `loss` argument?\n"
          ]
        },
        {
          "name": "stdout",
          "output_type": "stream",
          "text": [
            "1605/1605 [==============================] - 865s 479ms/step - loss: 0.1222 - accuracy: 0.9531 - val_loss: 0.0713 - val_accuracy: 0.9748\n",
            "Epoch 2/3\n",
            "1605/1605 [==============================] - 757s 472ms/step - loss: 0.0217 - accuracy: 0.9931 - val_loss: 0.0605 - val_accuracy: 0.9794\n",
            "Epoch 3/3\n",
            "1605/1605 [==============================] - 757s 472ms/step - loss: 0.0157 - accuracy: 0.9953 - val_loss: 0.0680 - val_accuracy: 0.9799\n"
          ]
        },
        {
          "data": {
            "image/png": "[encoded data removed]",
            "text/plain": [
              "<Figure size 1200x600 with 2 Axes>"
            ]
          },
          "metadata": {},
          "output_type": "display_data"
        },
        {
          "name": "stdout",
          "output_type": "stream",
          "text": [
            "535/535 [==============================] - 81s 138ms/step\n",
            "+----------+---------+\n",
            "| Metric   |   Value |\n",
            "+==========+=========+\n",
            "| Accuracy |   0.978 |\n",
            "+----------+---------+\n",
            "+---------+-------------+----------+------------+\n",
            "| Class   |   Precision |   Recall |   F1-score |\n",
            "+=========+=============+==========+============+\n",
            "| Class 0 |      0.9831 |   0.9706 |     0.9768 |\n",
            "+---------+-------------+----------+------------+\n",
            "| Class 1 |      0.9735 |   0.9848 |     0.9791 |\n",
            "+---------+-------------+----------+------------+\n",
            "+------------------+-------------+----------+------------+\n",
            "| Average Type     |   Precision |   Recall |   F1-score |\n",
            "+==================+=============+==========+============+\n",
            "| Macro average    |      0.9783 |   0.9777 |      0.978 |\n",
            "+------------------+-------------+----------+------------+\n",
            "| Micro average    |      0.978  |   0.978  |      0.978 |\n",
            "+------------------+-------------+----------+------------+\n",
            "| Weighted average |      0.9781 |   0.978  |      0.978 |\n",
            "+------------------+-------------+----------+------------+\n"
          ]
        },
        {
          "data": {
            "image/png": "[encoded data removed]",
            "text/plain": [
              "<Figure size 800x600 with 2 Axes>"
            ]
          },
          "metadata": {},
          "output_type": "display_data"
        }
      ],
      "source": [
        "history = model.fit(train_dataset, epochs=3, validation_data=valid_dataset)\n",
        "\n",
        "training_metrics(history)\n",
        "\n",
        "y_pred = model.predict(Xtest)\n",
        "y_pred = (y_pred >= 0.5).astype(int)\n",
        "test_metrics(test['label'], y_pred, num_classes=2)"
      ]
    }
  ],
  "metadata": {
    "accelerator": "GPU",
    "colab": {
      "gpuType": "T4",
      "provenance": []
    },
    "kernelspec": {
      "display_name": "Python 3",
      "name": "python3"
    },
    "language_info": {
      "codemirror_mode": {
        "name": "ipython",
        "version": 3
      },
      "file_extension": ".py",
      "mimetype": "text/x-python",
      "name": "python",
      "nbconvert_exporter": "python",
      "pygments_lexer": "ipython3",
      "version": "3.10.5"
    },
    "widgets": {
      "application/vnd.jupyter.widget-state+json": {
        "000e4060e71f4bc6b2f907528fc60aca": {
          "model_module": "@jupyter-widgets/controls",
          "model_module_version": "1.5.0",
          "model_name": "HTMLModel",
          "state": {
            "_dom_classes": [],
            "_model_module": "@jupyter-widgets/controls",
            "_model_module_version": "1.5.0",
            "_model_name": "HTMLModel",
            "_view_count": null,
            "_view_module": "@jupyter-widgets/controls",
            "_view_module_version": "1.5.0",
            "_view_name": "HTMLView",
            "description": "",
            "description_tooltip": null,
            "layout": "IPY_MODEL_ad9f55598d32473d9bf8d8896e6f83c8",
            "placeholder": "​",
            "style": "IPY_MODEL_dddfb57f2801406a8cd4092247b95f97",
            "value": "model.safetensors: 100%"
          }
        },
        "00203ef5f23d426e893203e1155fc17d": {
          "model_module": "@jupyter-widgets/base",
          "model_module_version": "1.2.0",
          "model_name": "LayoutModel",
          "state": {
            "_model_module": "@jupyter-widgets/base",
            "_model_module_version": "1.2.0",
            "_model_name": "LayoutModel",
            "_view_count": null,
            "_view_module": "@jupyter-widgets/base",
            "_view_module_version": "1.2.0",
            "_view_name": "LayoutView",
            "align_content": null,
            "align_items": null,
            "align_self": null,
            "border": null,
            "bottom": null,
            "display": null,
            "flex": null,
            "flex_flow": null,
            "grid_area": null,
            "grid_auto_columns": null,
            "grid_auto_flow": null,
            "grid_auto_rows": null,
            "grid_column": null,
            "grid_gap": null,
            "grid_row": null,
            "grid_template_areas": null,
            "grid_template_columns": null,
            "grid_template_rows": null,
            "height": null,
            "justify_content": null,
            "justify_items": null,
            "left": null,
            "margin": null,
            "max_height": null,
            "max_width": null,
            "min_height": null,
            "min_width": null,
            "object_fit": null,
            "object_position": null,
            "order": null,
            "overflow": null,
            "overflow_x": null,
            "overflow_y": null,
            "padding": null,
            "right": null,
            "top": null,
            "visibility": null,
            "width": null
          }
        },
        "002e03067e784b6ea329c5b5ecffdff6": {
          "model_module": "@jupyter-widgets/controls",
          "model_module_version": "1.5.0",
          "model_name": "FloatProgressModel",
          "state": {
            "_dom_classes": [],
            "_model_module": "@jupyter-widgets/controls",
            "_model_module_version": "1.5.0",
            "_model_name": "FloatProgressModel",
            "_view_count": null,
            "_view_module": "@jupyter-widgets/controls",
            "_view_module_version": "1.5.0",
            "_view_name": "ProgressView",
            "bar_style": "success",
            "description": "",
            "description_tooltip": null,
            "layout": "IPY_MODEL_7146084c234d4e04b8f6fd398f9e9fbe",
            "max": 570,
            "min": 0,
            "orientation": "horizontal",
            "style": "IPY_MODEL_c53aa06d444c4790afb082ff95cb304a",
            "value": 570
          }
        },
        "0251542b363f4bd8b432155b31640be2": {
          "model_module": "@jupyter-widgets/base",
          "model_module_version": "1.2.0",
          "model_name": "LayoutModel",
          "state": {
            "_model_module": "@jupyter-widgets/base",
            "_model_module_version": "1.2.0",
            "_model_name": "LayoutModel",
            "_view_count": null,
            "_view_module": "@jupyter-widgets/base",
            "_view_module_version": "1.2.0",
            "_view_name": "LayoutView",
            "align_content": null,
            "align_items": null,
            "align_self": null,
            "border": null,
            "bottom": null,
            "display": null,
            "flex": null,
            "flex_flow": null,
            "grid_area": null,
            "grid_auto_columns": null,
            "grid_auto_flow": null,
            "grid_auto_rows": null,
            "grid_column": null,
            "grid_gap": null,
            "grid_row": null,
            "grid_template_areas": null,
            "grid_template_columns": null,
            "grid_template_rows": null,
            "height": null,
            "justify_content": null,
            "justify_items": null,
            "left": null,
            "margin": null,
            "max_height": null,
            "max_width": null,
            "min_height": null,
            "min_width": null,
            "object_fit": null,
            "object_position": null,
            "order": null,
            "overflow": null,
            "overflow_x": null,
            "overflow_y": null,
            "padding": null,
            "right": null,
            "top": null,
            "visibility": null,
            "width": null
          }
        },
        "04b25f37723045588d182a5c9a5f8bc9": {
          "model_module": "@jupyter-widgets/controls",
          "model_module_version": "1.5.0",
          "model_name": "HBoxModel",
          "state": {
            "_dom_classes": [],
            "_model_module": "@jupyter-widgets/controls",
            "_model_module_version": "1.5.0",
            "_model_name": "HBoxModel",
            "_view_count": null,
            "_view_module": "@jupyter-widgets/controls",
            "_view_module_version": "1.5.0",
            "_view_name": "HBoxView",
            "box_style": "",
            "children": [
              "IPY_MODEL_dbb4aec484984e5ca46f91fc7e9ccca7",
              "IPY_MODEL_b722c648e281478a919bb1ff6b689e46",
              "IPY_MODEL_98c76e1ad76f45719379bfe72c8a9296"
            ],
            "layout": "IPY_MODEL_6ad1073b371e48328be2c21bd8d26b49"
          }
        },
        "06d35177a55049e98ee253b008fb8d9f": {
          "model_module": "@jupyter-widgets/controls",
          "model_module_version": "1.5.0",
          "model_name": "HBoxModel",
          "state": {
            "_dom_classes": [],
            "_model_module": "@jupyter-widgets/controls",
            "_model_module_version": "1.5.0",
            "_model_name": "HBoxModel",
            "_view_count": null,
            "_view_module": "@jupyter-widgets/controls",
            "_view_module_version": "1.5.0",
            "_view_name": "HBoxView",
            "box_style": "",
            "children": [
              "IPY_MODEL_490e59746a614a97ba41c507c2689c75",
              "IPY_MODEL_ef5033631adb4ca48871af685a6d8971",
              "IPY_MODEL_60ebf08f8fc348c698a99d59ed198a60"
            ],
            "layout": "IPY_MODEL_89982e69be4046e3a2b1c53d5f2d100e"
          }
        },
        "0959c170557e4aba96940b94cce5e5b9": {
          "model_module": "@jupyter-widgets/controls",
          "model_module_version": "1.5.0",
          "model_name": "DescriptionStyleModel",
          "state": {
            "_model_module": "@jupyter-widgets/controls",
            "_model_module_version": "1.5.0",
            "_model_name": "DescriptionStyleModel",
            "_view_count": null,
            "_view_module": "@jupyter-widgets/base",
            "_view_module_version": "1.2.0",
            "_view_name": "StyleView",
            "description_width": ""
          }
        },
        "0bd0772bc05e49dab17562c73f38d60e": {
          "model_module": "@jupyter-widgets/controls",
          "model_module_version": "1.5.0",
          "model_name": "HTMLModel",
          "state": {
            "_dom_classes": [],
            "_model_module": "@jupyter-widgets/controls",
            "_model_module_version": "1.5.0",
            "_model_name": "HTMLModel",
            "_view_count": null,
            "_view_module": "@jupyter-widgets/controls",
            "_view_module_version": "1.5.0",
            "_view_name": "HTMLView",
            "description": "",
            "description_tooltip": null,
            "layout": "IPY_MODEL_39dd890cbfac4c8092920ccdd9222a5c",
            "placeholder": "​",
            "style": "IPY_MODEL_6fe21e41338a4a748a98802c9758fdaa",
            "value": " 570/570 [00:00&lt;00:00, 22.6kB/s]"
          }
        },
        "12fb6422cd7d4a5f9f45d0fa5f6b5657": {
          "model_module": "@jupyter-widgets/base",
          "model_module_version": "1.2.0",
          "model_name": "LayoutModel",
          "state": {
            "_model_module": "@jupyter-widgets/base",
            "_model_module_version": "1.2.0",
            "_model_name": "LayoutModel",
            "_view_count": null,
            "_view_module": "@jupyter-widgets/base",
            "_view_module_version": "1.2.0",
            "_view_name": "LayoutView",
            "align_content": null,
            "align_items": null,
            "align_self": null,
            "border": null,
            "bottom": null,
            "display": null,
            "flex": null,
            "flex_flow": null,
            "grid_area": null,
            "grid_auto_columns": null,
            "grid_auto_flow": null,
            "grid_auto_rows": null,
            "grid_column": null,
            "grid_gap": null,
            "grid_row": null,
            "grid_template_areas": null,
            "grid_template_columns": null,
            "grid_template_rows": null,
            "height": null,
            "justify_content": null,
            "justify_items": null,
            "left": null,
            "margin": null,
            "max_height": null,
            "max_width": null,
            "min_height": null,
            "min_width": null,
            "object_fit": null,
            "object_position": null,
            "order": null,
            "overflow": null,
            "overflow_x": null,
            "overflow_y": null,
            "padding": null,
            "right": null,
            "top": null,
            "visibility": null,
            "width": null
          }
        },
        "14d4e053d540480ba69a6a94cf7da9b0": {
          "model_module": "@jupyter-widgets/controls",
          "model_module_version": "1.5.0",
          "model_name": "HTMLModel",
          "state": {
            "_dom_classes": [],
            "_model_module": "@jupyter-widgets/controls",
            "_model_module_version": "1.5.0",
            "_model_name": "HTMLModel",
            "_view_count": null,
            "_view_module": "@jupyter-widgets/controls",
            "_view_module_version": "1.5.0",
            "_view_name": "HTMLView",
            "description": "",
            "description_tooltip": null,
            "layout": "IPY_MODEL_8e0af2a1f6ea48ab970a3c8354091a39",
            "placeholder": "​",
            "style": "IPY_MODEL_d83e15bcb41f495f8c43a1115513cd92",
            "value": " 1.47G/1.47G [01:27&lt;00:00, 13.1MB/s]"
          }
        },
        "17565ec436a14e36b606dde6c65ec422": {
          "model_module": "@jupyter-widgets/controls",
          "model_module_version": "1.5.0",
          "model_name": "DescriptionStyleModel",
          "state": {
            "_model_module": "@jupyter-widgets/controls",
            "_model_module_version": "1.5.0",
            "_model_name": "DescriptionStyleModel",
            "_view_count": null,
            "_view_module": "@jupyter-widgets/base",
            "_view_module_version": "1.2.0",
            "_view_name": "StyleView",
            "description_width": ""
          }
        },
        "1aaf648e938d47b3bfe41923f55c7a72": {
          "model_module": "@jupyter-widgets/base",
          "model_module_version": "1.2.0",
          "model_name": "LayoutModel",
          "state": {
            "_model_module": "@jupyter-widgets/base",
            "_model_module_version": "1.2.0",
            "_model_name": "LayoutModel",
            "_view_count": null,
            "_view_module": "@jupyter-widgets/base",
            "_view_module_version": "1.2.0",
            "_view_name": "LayoutView",
            "align_content": null,
            "align_items": null,
            "align_self": null,
            "border": null,
            "bottom": null,
            "display": null,
            "flex": null,
            "flex_flow": null,
            "grid_area": null,
            "grid_auto_columns": null,
            "grid_auto_flow": null,
            "grid_auto_rows": null,
            "grid_column": null,
            "grid_gap": null,
            "grid_row": null,
            "grid_template_areas": null,
            "grid_template_columns": null,
            "grid_template_rows": null,
            "height": null,
            "justify_content": null,
            "justify_items": null,
            "left": null,
            "margin": null,
            "max_height": null,
            "max_width": null,
            "min_height": null,
            "min_width": null,
            "object_fit": null,
            "object_position": null,
            "order": null,
            "overflow": null,
            "overflow_x": null,
            "overflow_y": null,
            "padding": null,
            "right": null,
            "top": null,
            "visibility": null,
            "width": null
          }
        },
        "22bad6d011724df08456b53efd9bb8a8": {
          "model_module": "@jupyter-widgets/base",
          "model_module_version": "1.2.0",
          "model_name": "LayoutModel",
          "state": {
            "_model_module": "@jupyter-widgets/base",
            "_model_module_version": "1.2.0",
            "_model_name": "LayoutModel",
            "_view_count": null,
            "_view_module": "@jupyter-widgets/base",
            "_view_module_version": "1.2.0",
            "_view_name": "LayoutView",
            "align_content": null,
            "align_items": null,
            "align_self": null,
            "border": null,
            "bottom": null,
            "display": null,
            "flex": null,
            "flex_flow": null,
            "grid_area": null,
            "grid_auto_columns": null,
            "grid_auto_flow": null,
            "grid_auto_rows": null,
            "grid_column": null,
            "grid_gap": null,
            "grid_row": null,
            "grid_template_areas": null,
            "grid_template_columns": null,
            "grid_template_rows": null,
            "height": null,
            "justify_content": null,
            "justify_items": null,
            "left": null,
            "margin": null,
            "max_height": null,
            "max_width": null,
            "min_height": null,
            "min_width": null,
            "object_fit": null,
            "object_position": null,
            "order": null,
            "overflow": null,
            "overflow_x": null,
            "overflow_y": null,
            "padding": null,
            "right": null,
            "top": null,
            "visibility": null,
            "width": null
          }
        },
        "2331e68f7b1b4620838bb7059752046d": {
          "model_module": "@jupyter-widgets/controls",
          "model_module_version": "1.5.0",
          "model_name": "DescriptionStyleModel",
          "state": {
            "_model_module": "@jupyter-widgets/controls",
            "_model_module_version": "1.5.0",
            "_model_name": "DescriptionStyleModel",
            "_view_count": null,
            "_view_module": "@jupyter-widgets/base",
            "_view_module_version": "1.2.0",
            "_view_name": "StyleView",
            "description_width": ""
          }
        },
        "243873f6532346d3a9b872cfa84f1621": {
          "model_module": "@jupyter-widgets/controls",
          "model_module_version": "1.5.0",
          "model_name": "DescriptionStyleModel",
          "state": {
            "_model_module": "@jupyter-widgets/controls",
            "_model_module_version": "1.5.0",
            "_model_name": "DescriptionStyleModel",
            "_view_count": null,
            "_view_module": "@jupyter-widgets/base",
            "_view_module_version": "1.2.0",
            "_view_name": "StyleView",
            "description_width": ""
          }
        },
        "255456c8b6dd4d19a0c64333a380d0dc": {
          "model_module": "@jupyter-widgets/controls",
          "model_module_version": "1.5.0",
          "model_name": "HTMLModel",
          "state": {
            "_dom_classes": [],
            "_model_module": "@jupyter-widgets/controls",
            "_model_module_version": "1.5.0",
            "_model_name": "HTMLModel",
            "_view_count": null,
            "_view_module": "@jupyter-widgets/controls",
            "_view_module_version": "1.5.0",
            "_view_name": "HTMLView",
            "description": "",
            "description_tooltip": null,
            "layout": "IPY_MODEL_e36ab5f8fee04b508c33f13ef69de7bc",
            "placeholder": "​",
            "style": "IPY_MODEL_0959c170557e4aba96940b94cce5e5b9",
            "value": " 48.0/48.0 [00:00&lt;00:00, 3.70kB/s]"
          }
        },
        "28f559ba07fe464d9b5493f7b5c882a8": {
          "model_module": "@jupyter-widgets/controls",
          "model_module_version": "1.5.0",
          "model_name": "ProgressStyleModel",
          "state": {
            "_model_module": "@jupyter-widgets/controls",
            "_model_module_version": "1.5.0",
            "_model_name": "ProgressStyleModel",
            "_view_count": null,
            "_view_module": "@jupyter-widgets/base",
            "_view_module_version": "1.2.0",
            "_view_name": "StyleView",
            "bar_color": null,
            "description_width": ""
          }
        },
        "2d38e654315149149fa8ce848a020820": {
          "model_module": "@jupyter-widgets/controls",
          "model_module_version": "1.5.0",
          "model_name": "DescriptionStyleModel",
          "state": {
            "_model_module": "@jupyter-widgets/controls",
            "_model_module_version": "1.5.0",
            "_model_name": "DescriptionStyleModel",
            "_view_count": null,
            "_view_module": "@jupyter-widgets/base",
            "_view_module_version": "1.2.0",
            "_view_name": "StyleView",
            "description_width": ""
          }
        },
        "30b967179982400ba0f6ebf7e7bf605d": {
          "model_module": "@jupyter-widgets/controls",
          "model_module_version": "1.5.0",
          "model_name": "HBoxModel",
          "state": {
            "_dom_classes": [],
            "_model_module": "@jupyter-widgets/controls",
            "_model_module_version": "1.5.0",
            "_model_name": "HBoxModel",
            "_view_count": null,
            "_view_module": "@jupyter-widgets/controls",
            "_view_module_version": "1.5.0",
            "_view_name": "HBoxView",
            "box_style": "",
            "children": [
              "IPY_MODEL_000e4060e71f4bc6b2f907528fc60aca",
              "IPY_MODEL_8d19fee6e1ec499d89e7fad8fb9d041e",
              "IPY_MODEL_fa8013343d3240d7b2646d608f87a7b5"
            ],
            "layout": "IPY_MODEL_53a4b51a96374baf80f8b620161d7026"
          }
        },
        "3254028aeacc4a08984fd167de36fa5c": {
          "model_module": "@jupyter-widgets/controls",
          "model_module_version": "1.5.0",
          "model_name": "HBoxModel",
          "state": {
            "_dom_classes": [],
            "_model_module": "@jupyter-widgets/controls",
            "_model_module_version": "1.5.0",
            "_model_name": "HBoxModel",
            "_view_count": null,
            "_view_module": "@jupyter-widgets/controls",
            "_view_module_version": "1.5.0",
            "_view_name": "HBoxView",
            "box_style": "",
            "children": [
              "IPY_MODEL_4845fc498dad4410a70f64cb526ad7b0",
              "IPY_MODEL_dbea308440da42bf8bd45982ff685f10",
              "IPY_MODEL_7287e75927484a37a2956eab4fbe73cc"
            ],
            "layout": "IPY_MODEL_7ade33ad94ba49a2bc41850b546fd37a"
          }
        },
        "362b5564676e41cfb00a77508036af4d": {
          "model_module": "@jupyter-widgets/base",
          "model_module_version": "1.2.0",
          "model_name": "LayoutModel",
          "state": {
            "_model_module": "@jupyter-widgets/base",
            "_model_module_version": "1.2.0",
            "_model_name": "LayoutModel",
            "_view_count": null,
            "_view_module": "@jupyter-widgets/base",
            "_view_module_version": "1.2.0",
            "_view_name": "LayoutView",
            "align_content": null,
            "align_items": null,
            "align_self": null,
            "border": null,
            "bottom": null,
            "display": null,
            "flex": null,
            "flex_flow": null,
            "grid_area": null,
            "grid_auto_columns": null,
            "grid_auto_flow": null,
            "grid_auto_rows": null,
            "grid_column": null,
            "grid_gap": null,
            "grid_row": null,
            "grid_template_areas": null,
            "grid_template_columns": null,
            "grid_template_rows": null,
            "height": null,
            "justify_content": null,
            "justify_items": null,
            "left": null,
            "margin": null,
            "max_height": null,
            "max_width": null,
            "min_height": null,
            "min_width": null,
            "object_fit": null,
            "object_position": null,
            "order": null,
            "overflow": null,
            "overflow_x": null,
            "overflow_y": null,
            "padding": null,
            "right": null,
            "top": null,
            "visibility": null,
            "width": null
          }
        },
        "39dd890cbfac4c8092920ccdd9222a5c": {
          "model_module": "@jupyter-widgets/base",
          "model_module_version": "1.2.0",
          "model_name": "LayoutModel",
          "state": {
            "_model_module": "@jupyter-widgets/base",
            "_model_module_version": "1.2.0",
            "_model_name": "LayoutModel",
            "_view_count": null,
            "_view_module": "@jupyter-widgets/base",
            "_view_module_version": "1.2.0",
            "_view_name": "LayoutView",
            "align_content": null,
            "align_items": null,
            "align_self": null,
            "border": null,
            "bottom": null,
            "display": null,
            "flex": null,
            "flex_flow": null,
            "grid_area": null,
            "grid_auto_columns": null,
            "grid_auto_flow": null,
            "grid_auto_rows": null,
            "grid_column": null,
            "grid_gap": null,
            "grid_row": null,
            "grid_template_areas": null,
            "grid_template_columns": null,
            "grid_template_rows": null,
            "height": null,
            "justify_content": null,
            "justify_items": null,
            "left": null,
            "margin": null,
            "max_height": null,
            "max_width": null,
            "min_height": null,
            "min_width": null,
            "object_fit": null,
            "object_position": null,
            "order": null,
            "overflow": null,
            "overflow_x": null,
            "overflow_y": null,
            "padding": null,
            "right": null,
            "top": null,
            "visibility": null,
            "width": null
          }
        },
        "3aa85e5da69b4ca383d8e63d4f55b1a2": {
          "model_module": "@jupyter-widgets/base",
          "model_module_version": "1.2.0",
          "model_name": "LayoutModel",
          "state": {
            "_model_module": "@jupyter-widgets/base",
            "_model_module_version": "1.2.0",
            "_model_name": "LayoutModel",
            "_view_count": null,
            "_view_module": "@jupyter-widgets/base",
            "_view_module_version": "1.2.0",
            "_view_name": "LayoutView",
            "align_content": null,
            "align_items": null,
            "align_self": null,
            "border": null,
            "bottom": null,
            "display": null,
            "flex": null,
            "flex_flow": null,
            "grid_area": null,
            "grid_auto_columns": null,
            "grid_auto_flow": null,
            "grid_auto_rows": null,
            "grid_column": null,
            "grid_gap": null,
            "grid_row": null,
            "grid_template_areas": null,
            "grid_template_columns": null,
            "grid_template_rows": null,
            "height": null,
            "justify_content": null,
            "justify_items": null,
            "left": null,
            "margin": null,
            "max_height": null,
            "max_width": null,
            "min_height": null,
            "min_width": null,
            "object_fit": null,
            "object_position": null,
            "order": null,
            "overflow": null,
            "overflow_x": null,
            "overflow_y": null,
            "padding": null,
            "right": null,
            "top": null,
            "visibility": null,
            "width": null
          }
        },
        "3be710a8319c40afbb0cf9577005f3a9": {
          "model_module": "@jupyter-widgets/base",
          "model_module_version": "1.2.0",
          "model_name": "LayoutModel",
          "state": {
            "_model_module": "@jupyter-widgets/base",
            "_model_module_version": "1.2.0",
            "_model_name": "LayoutModel",
            "_view_count": null,
            "_view_module": "@jupyter-widgets/base",
            "_view_module_version": "1.2.0",
            "_view_name": "LayoutView",
            "align_content": null,
            "align_items": null,
            "align_self": null,
            "border": null,
            "bottom": null,
            "display": null,
            "flex": null,
            "flex_flow": null,
            "grid_area": null,
            "grid_auto_columns": null,
            "grid_auto_flow": null,
            "grid_auto_rows": null,
            "grid_column": null,
            "grid_gap": null,
            "grid_row": null,
            "grid_template_areas": null,
            "grid_template_columns": null,
            "grid_template_rows": null,
            "height": null,
            "justify_content": null,
            "justify_items": null,
            "left": null,
            "margin": null,
            "max_height": null,
            "max_width": null,
            "min_height": null,
            "min_width": null,
            "object_fit": null,
            "object_position": null,
            "order": null,
            "overflow": null,
            "overflow_x": null,
            "overflow_y": null,
            "padding": null,
            "right": null,
            "top": null,
            "visibility": null,
            "width": null
          }
        },
        "3df4cd8d9d8b43cf910e6ddb01374ae2": {
          "model_module": "@jupyter-widgets/base",
          "model_module_version": "1.2.0",
          "model_name": "LayoutModel",
          "state": {
            "_model_module": "@jupyter-widgets/base",
            "_model_module_version": "1.2.0",
            "_model_name": "LayoutModel",
            "_view_count": null,
            "_view_module": "@jupyter-widgets/base",
            "_view_module_version": "1.2.0",
            "_view_name": "LayoutView",
            "align_content": null,
            "align_items": null,
            "align_self": null,
            "border": null,
            "bottom": null,
            "display": null,
            "flex": null,
            "flex_flow": null,
            "grid_area": null,
            "grid_auto_columns": null,
            "grid_auto_flow": null,
            "grid_auto_rows": null,
            "grid_column": null,
            "grid_gap": null,
            "grid_row": null,
            "grid_template_areas": null,
            "grid_template_columns": null,
            "grid_template_rows": null,
            "height": null,
            "justify_content": null,
            "justify_items": null,
            "left": null,
            "margin": null,
            "max_height": null,
            "max_width": null,
            "min_height": null,
            "min_width": null,
            "object_fit": null,
            "object_position": null,
            "order": null,
            "overflow": null,
            "overflow_x": null,
            "overflow_y": null,
            "padding": null,
            "right": null,
            "top": null,
            "visibility": null,
            "width": null
          }
        },
        "3fa1378435724631b7b11a6b28e4e7e5": {
          "model_module": "@jupyter-widgets/controls",
          "model_module_version": "1.5.0",
          "model_name": "DescriptionStyleModel",
          "state": {
            "_model_module": "@jupyter-widgets/controls",
            "_model_module_version": "1.5.0",
            "_model_name": "DescriptionStyleModel",
            "_view_count": null,
            "_view_module": "@jupyter-widgets/base",
            "_view_module_version": "1.2.0",
            "_view_name": "StyleView",
            "description_width": ""
          }
        },
        "4845fc498dad4410a70f64cb526ad7b0": {
          "model_module": "@jupyter-widgets/controls",
          "model_module_version": "1.5.0",
          "model_name": "HTMLModel",
          "state": {
            "_dom_classes": [],
            "_model_module": "@jupyter-widgets/controls",
            "_model_module_version": "1.5.0",
            "_model_name": "HTMLModel",
            "_view_count": null,
            "_view_module": "@jupyter-widgets/controls",
            "_view_module_version": "1.5.0",
            "_view_name": "HTMLView",
            "description": "",
            "description_tooltip": null,
            "layout": "IPY_MODEL_7fe0cbaee24c4e9f8c6b84efb6a8d5c5",
            "placeholder": "​",
            "style": "IPY_MODEL_2d38e654315149149fa8ce848a020820",
            "value": "tokenizer.json: 100%"
          }
        },
        "490e59746a614a97ba41c507c2689c75": {
          "model_module": "@jupyter-widgets/controls",
          "model_module_version": "1.5.0",
          "model_name": "HTMLModel",
          "state": {
            "_dom_classes": [],
            "_model_module": "@jupyter-widgets/controls",
            "_model_module_version": "1.5.0",
            "_model_name": "HTMLModel",
            "_view_count": null,
            "_view_module": "@jupyter-widgets/controls",
            "_view_module_version": "1.5.0",
            "_view_name": "HTMLView",
            "description": "",
            "description_tooltip": null,
            "layout": "IPY_MODEL_a243760afcf64495b982153a02f94868",
            "placeholder": "​",
            "style": "IPY_MODEL_bf9a10dd038541279bc2ff1b734dabb3",
            "value": "config.json: 100%"
          }
        },
        "4d0b5157f23642c99671caa74edd7eff": {
          "model_module": "@jupyter-widgets/base",
          "model_module_version": "1.2.0",
          "model_name": "LayoutModel",
          "state": {
            "_model_module": "@jupyter-widgets/base",
            "_model_module_version": "1.2.0",
            "_model_name": "LayoutModel",
            "_view_count": null,
            "_view_module": "@jupyter-widgets/base",
            "_view_module_version": "1.2.0",
            "_view_name": "LayoutView",
            "align_content": null,
            "align_items": null,
            "align_self": null,
            "border": null,
            "bottom": null,
            "display": null,
            "flex": null,
            "flex_flow": null,
            "grid_area": null,
            "grid_auto_columns": null,
            "grid_auto_flow": null,
            "grid_auto_rows": null,
            "grid_column": null,
            "grid_gap": null,
            "grid_row": null,
            "grid_template_areas": null,
            "grid_template_columns": null,
            "grid_template_rows": null,
            "height": null,
            "justify_content": null,
            "justify_items": null,
            "left": null,
            "margin": null,
            "max_height": null,
            "max_width": null,
            "min_height": null,
            "min_width": null,
            "object_fit": null,
            "object_position": null,
            "order": null,
            "overflow": null,
            "overflow_x": null,
            "overflow_y": null,
            "padding": null,
            "right": null,
            "top": null,
            "visibility": null,
            "width": null
          }
        },
        "53a4b51a96374baf80f8b620161d7026": {
          "model_module": "@jupyter-widgets/base",
          "model_module_version": "1.2.0",
          "model_name": "LayoutModel",
          "state": {
            "_model_module": "@jupyter-widgets/base",
            "_model_module_version": "1.2.0",
            "_model_name": "LayoutModel",
            "_view_count": null,
            "_view_module": "@jupyter-widgets/base",
            "_view_module_version": "1.2.0",
            "_view_name": "LayoutView",
            "align_content": null,
            "align_items": null,
            "align_self": null,
            "border": null,
            "bottom": null,
            "display": null,
            "flex": null,
            "flex_flow": null,
            "grid_area": null,
            "grid_auto_columns": null,
            "grid_auto_flow": null,
            "grid_auto_rows": null,
            "grid_column": null,
            "grid_gap": null,
            "grid_row": null,
            "grid_template_areas": null,
            "grid_template_columns": null,
            "grid_template_rows": null,
            "height": null,
            "justify_content": null,
            "justify_items": null,
            "left": null,
            "margin": null,
            "max_height": null,
            "max_width": null,
            "min_height": null,
            "min_width": null,
            "object_fit": null,
            "object_position": null,
            "order": null,
            "overflow": null,
            "overflow_x": null,
            "overflow_y": null,
            "padding": null,
            "right": null,
            "top": null,
            "visibility": null,
            "width": null
          }
        },
        "5931a0649f1144b5b6419c77c3afe4f3": {
          "model_module": "@jupyter-widgets/base",
          "model_module_version": "1.2.0",
          "model_name": "LayoutModel",
          "state": {
            "_model_module": "@jupyter-widgets/base",
            "_model_module_version": "1.2.0",
            "_model_name": "LayoutModel",
            "_view_count": null,
            "_view_module": "@jupyter-widgets/base",
            "_view_module_version": "1.2.0",
            "_view_name": "LayoutView",
            "align_content": null,
            "align_items": null,
            "align_self": null,
            "border": null,
            "bottom": null,
            "display": null,
            "flex": null,
            "flex_flow": null,
            "grid_area": null,
            "grid_auto_columns": null,
            "grid_auto_flow": null,
            "grid_auto_rows": null,
            "grid_column": null,
            "grid_gap": null,
            "grid_row": null,
            "grid_template_areas": null,
            "grid_template_columns": null,
            "grid_template_rows": null,
            "height": null,
            "justify_content": null,
            "justify_items": null,
            "left": null,
            "margin": null,
            "max_height": null,
            "max_width": null,
            "min_height": null,
            "min_width": null,
            "object_fit": null,
            "object_position": null,
            "order": null,
            "overflow": null,
            "overflow_x": null,
            "overflow_y": null,
            "padding": null,
            "right": null,
            "top": null,
            "visibility": null,
            "width": null
          }
        },
        "5a6df1aa3b1748cf860aa8dc65288ee4": {
          "model_module": "@jupyter-widgets/controls",
          "model_module_version": "1.5.0",
          "model_name": "HTMLModel",
          "state": {
            "_dom_classes": [],
            "_model_module": "@jupyter-widgets/controls",
            "_model_module_version": "1.5.0",
            "_model_name": "HTMLModel",
            "_view_count": null,
            "_view_module": "@jupyter-widgets/controls",
            "_view_module_version": "1.5.0",
            "_view_name": "HTMLView",
            "description": "",
            "description_tooltip": null,
            "layout": "IPY_MODEL_22bad6d011724df08456b53efd9bb8a8",
            "placeholder": "​",
            "style": "IPY_MODEL_f07245c1efd049fc9286f22c06a98d29",
            "value": "config.json: 100%"
          }
        },
        "5b9d57548d6a47b5870bfef762b4d06b": {
          "model_module": "@jupyter-widgets/controls",
          "model_module_version": "1.5.0",
          "model_name": "HTMLModel",
          "state": {
            "_dom_classes": [],
            "_model_module": "@jupyter-widgets/controls",
            "_model_module_version": "1.5.0",
            "_model_name": "HTMLModel",
            "_view_count": null,
            "_view_module": "@jupyter-widgets/controls",
            "_view_module_version": "1.5.0",
            "_view_name": "HTMLView",
            "description": "",
            "description_tooltip": null,
            "layout": "IPY_MODEL_948f077b8cee454ba1b9266565a89c2f",
            "placeholder": "​",
            "style": "IPY_MODEL_f42429dafbc94d59b6db1676baed4670",
            "value": " 232k/232k [00:00&lt;00:00, 2.03MB/s]"
          }
        },
        "60ebf08f8fc348c698a99d59ed198a60": {
          "model_module": "@jupyter-widgets/controls",
          "model_module_version": "1.5.0",
          "model_name": "HTMLModel",
          "state": {
            "_dom_classes": [],
            "_model_module": "@jupyter-widgets/controls",
            "_model_module_version": "1.5.0",
            "_model_name": "HTMLModel",
            "_view_count": null,
            "_view_module": "@jupyter-widgets/controls",
            "_view_module_version": "1.5.0",
            "_view_name": "HTMLView",
            "description": "",
            "description_tooltip": null,
            "layout": "IPY_MODEL_a8e4d01bf4f04d8f9e9241e0dc0453a9",
            "placeholder": "​",
            "style": "IPY_MODEL_76fa046b047049cda2888b19b200a98f",
            "value": " 421/421 [00:00&lt;00:00, 6.41kB/s]"
          }
        },
        "678f9f4873414eb9a44dd8ff4ff68019": {
          "model_module": "@jupyter-widgets/controls",
          "model_module_version": "1.5.0",
          "model_name": "ProgressStyleModel",
          "state": {
            "_model_module": "@jupyter-widgets/controls",
            "_model_module_version": "1.5.0",
            "_model_name": "ProgressStyleModel",
            "_view_count": null,
            "_view_module": "@jupyter-widgets/base",
            "_view_module_version": "1.2.0",
            "_view_name": "StyleView",
            "bar_color": null,
            "description_width": ""
          }
        },
        "6ad1073b371e48328be2c21bd8d26b49": {
          "model_module": "@jupyter-widgets/base",
          "model_module_version": "1.2.0",
          "model_name": "LayoutModel",
          "state": {
            "_model_module": "@jupyter-widgets/base",
            "_model_module_version": "1.2.0",
            "_model_name": "LayoutModel",
            "_view_count": null,
            "_view_module": "@jupyter-widgets/base",
            "_view_module_version": "1.2.0",
            "_view_name": "LayoutView",
            "align_content": null,
            "align_items": null,
            "align_self": null,
            "border": null,
            "bottom": null,
            "display": null,
            "flex": null,
            "flex_flow": null,
            "grid_area": null,
            "grid_auto_columns": null,
            "grid_auto_flow": null,
            "grid_auto_rows": null,
            "grid_column": null,
            "grid_gap": null,
            "grid_row": null,
            "grid_template_areas": null,
            "grid_template_columns": null,
            "grid_template_rows": null,
            "height": null,
            "justify_content": null,
            "justify_items": null,
            "left": null,
            "margin": null,
            "max_height": null,
            "max_width": null,
            "min_height": null,
            "min_width": null,
            "object_fit": null,
            "object_position": null,
            "order": null,
            "overflow": null,
            "overflow_x": null,
            "overflow_y": null,
            "padding": null,
            "right": null,
            "top": null,
            "visibility": null,
            "width": null
          }
        },
        "6f1b7b01b86d4e5aaeb843f45a4ec100": {
          "model_module": "@jupyter-widgets/base",
          "model_module_version": "1.2.0",
          "model_name": "LayoutModel",
          "state": {
            "_model_module": "@jupyter-widgets/base",
            "_model_module_version": "1.2.0",
            "_model_name": "LayoutModel",
            "_view_count": null,
            "_view_module": "@jupyter-widgets/base",
            "_view_module_version": "1.2.0",
            "_view_name": "LayoutView",
            "align_content": null,
            "align_items": null,
            "align_self": null,
            "border": null,
            "bottom": null,
            "display": null,
            "flex": null,
            "flex_flow": null,
            "grid_area": null,
            "grid_auto_columns": null,
            "grid_auto_flow": null,
            "grid_auto_rows": null,
            "grid_column": null,
            "grid_gap": null,
            "grid_row": null,
            "grid_template_areas": null,
            "grid_template_columns": null,
            "grid_template_rows": null,
            "height": null,
            "justify_content": null,
            "justify_items": null,
            "left": null,
            "margin": null,
            "max_height": null,
            "max_width": null,
            "min_height": null,
            "min_width": null,
            "object_fit": null,
            "object_position": null,
            "order": null,
            "overflow": null,
            "overflow_x": null,
            "overflow_y": null,
            "padding": null,
            "right": null,
            "top": null,
            "visibility": null,
            "width": null
          }
        },
        "6f8d678131164e38b32210f38f0dca4a": {
          "model_module": "@jupyter-widgets/controls",
          "model_module_version": "1.5.0",
          "model_name": "HBoxModel",
          "state": {
            "_dom_classes": [],
            "_model_module": "@jupyter-widgets/controls",
            "_model_module_version": "1.5.0",
            "_model_name": "HBoxModel",
            "_view_count": null,
            "_view_module": "@jupyter-widgets/controls",
            "_view_module_version": "1.5.0",
            "_view_name": "HBoxView",
            "box_style": "",
            "children": [
              "IPY_MODEL_5a6df1aa3b1748cf860aa8dc65288ee4",
              "IPY_MODEL_002e03067e784b6ea329c5b5ecffdff6",
              "IPY_MODEL_0bd0772bc05e49dab17562c73f38d60e"
            ],
            "layout": "IPY_MODEL_1aaf648e938d47b3bfe41923f55c7a72"
          }
        },
        "6fe21e41338a4a748a98802c9758fdaa": {
          "model_module": "@jupyter-widgets/controls",
          "model_module_version": "1.5.0",
          "model_name": "DescriptionStyleModel",
          "state": {
            "_model_module": "@jupyter-widgets/controls",
            "_model_module_version": "1.5.0",
            "_model_name": "DescriptionStyleModel",
            "_view_count": null,
            "_view_module": "@jupyter-widgets/base",
            "_view_module_version": "1.2.0",
            "_view_name": "StyleView",
            "description_width": ""
          }
        },
        "7146084c234d4e04b8f6fd398f9e9fbe": {
          "model_module": "@jupyter-widgets/base",
          "model_module_version": "1.2.0",
          "model_name": "LayoutModel",
          "state": {
            "_model_module": "@jupyter-widgets/base",
            "_model_module_version": "1.2.0",
            "_model_name": "LayoutModel",
            "_view_count": null,
            "_view_module": "@jupyter-widgets/base",
            "_view_module_version": "1.2.0",
            "_view_name": "LayoutView",
            "align_content": null,
            "align_items": null,
            "align_self": null,
            "border": null,
            "bottom": null,
            "display": null,
            "flex": null,
            "flex_flow": null,
            "grid_area": null,
            "grid_auto_columns": null,
            "grid_auto_flow": null,
            "grid_auto_rows": null,
            "grid_column": null,
            "grid_gap": null,
            "grid_row": null,
            "grid_template_areas": null,
            "grid_template_columns": null,
            "grid_template_rows": null,
            "height": null,
            "justify_content": null,
            "justify_items": null,
            "left": null,
            "margin": null,
            "max_height": null,
            "max_width": null,
            "min_height": null,
            "min_width": null,
            "object_fit": null,
            "object_position": null,
            "order": null,
            "overflow": null,
            "overflow_x": null,
            "overflow_y": null,
            "padding": null,
            "right": null,
            "top": null,
            "visibility": null,
            "width": null
          }
        },
        "7287e75927484a37a2956eab4fbe73cc": {
          "model_module": "@jupyter-widgets/controls",
          "model_module_version": "1.5.0",
          "model_name": "HTMLModel",
          "state": {
            "_dom_classes": [],
            "_model_module": "@jupyter-widgets/controls",
            "_model_module_version": "1.5.0",
            "_model_name": "HTMLModel",
            "_view_count": null,
            "_view_module": "@jupyter-widgets/controls",
            "_view_module_version": "1.5.0",
            "_view_name": "HTMLView",
            "description": "",
            "description_tooltip": null,
            "layout": "IPY_MODEL_bc5e3dae13374e17bea9f980f9357d15",
            "placeholder": "​",
            "style": "IPY_MODEL_9839dddd423e41c4b3e11795e12a07f6",
            "value": " 466k/466k [00:00&lt;00:00, 2.67MB/s]"
          }
        },
        "73217e8346314a43a4d0b8fc11c2505f": {
          "model_module": "@jupyter-widgets/controls",
          "model_module_version": "1.5.0",
          "model_name": "DescriptionStyleModel",
          "state": {
            "_model_module": "@jupyter-widgets/controls",
            "_model_module_version": "1.5.0",
            "_model_name": "DescriptionStyleModel",
            "_view_count": null,
            "_view_module": "@jupyter-widgets/base",
            "_view_module_version": "1.2.0",
            "_view_name": "StyleView",
            "description_width": ""
          }
        },
        "735f664d5c0b4a46a8ecb941ec4efce7": {
          "model_module": "@jupyter-widgets/controls",
          "model_module_version": "1.5.0",
          "model_name": "HBoxModel",
          "state": {
            "_dom_classes": [],
            "_model_module": "@jupyter-widgets/controls",
            "_model_module_version": "1.5.0",
            "_model_name": "HBoxModel",
            "_view_count": null,
            "_view_module": "@jupyter-widgets/controls",
            "_view_module_version": "1.5.0",
            "_view_name": "HBoxView",
            "box_style": "",
            "children": [
              "IPY_MODEL_a5023bbfd64049f5988c87ad85f046d1",
              "IPY_MODEL_c9d769a8483a459f84f36b111721c0c3",
              "IPY_MODEL_14d4e053d540480ba69a6a94cf7da9b0"
            ],
            "layout": "IPY_MODEL_3be710a8319c40afbb0cf9577005f3a9"
          }
        },
        "76fa046b047049cda2888b19b200a98f": {
          "model_module": "@jupyter-widgets/controls",
          "model_module_version": "1.5.0",
          "model_name": "DescriptionStyleModel",
          "state": {
            "_model_module": "@jupyter-widgets/controls",
            "_model_module_version": "1.5.0",
            "_model_name": "DescriptionStyleModel",
            "_view_count": null,
            "_view_module": "@jupyter-widgets/base",
            "_view_module_version": "1.2.0",
            "_view_name": "StyleView",
            "description_width": ""
          }
        },
        "7ade33ad94ba49a2bc41850b546fd37a": {
          "model_module": "@jupyter-widgets/base",
          "model_module_version": "1.2.0",
          "model_name": "LayoutModel",
          "state": {
            "_model_module": "@jupyter-widgets/base",
            "_model_module_version": "1.2.0",
            "_model_name": "LayoutModel",
            "_view_count": null,
            "_view_module": "@jupyter-widgets/base",
            "_view_module_version": "1.2.0",
            "_view_name": "LayoutView",
            "align_content": null,
            "align_items": null,
            "align_self": null,
            "border": null,
            "bottom": null,
            "display": null,
            "flex": null,
            "flex_flow": null,
            "grid_area": null,
            "grid_auto_columns": null,
            "grid_auto_flow": null,
            "grid_auto_rows": null,
            "grid_column": null,
            "grid_gap": null,
            "grid_row": null,
            "grid_template_areas": null,
            "grid_template_columns": null,
            "grid_template_rows": null,
            "height": null,
            "justify_content": null,
            "justify_items": null,
            "left": null,
            "margin": null,
            "max_height": null,
            "max_width": null,
            "min_height": null,
            "min_width": null,
            "object_fit": null,
            "object_position": null,
            "order": null,
            "overflow": null,
            "overflow_x": null,
            "overflow_y": null,
            "padding": null,
            "right": null,
            "top": null,
            "visibility": null,
            "width": null
          }
        },
        "7f17fd06c9e649caa8b2077a74a28c67": {
          "model_module": "@jupyter-widgets/controls",
          "model_module_version": "1.5.0",
          "model_name": "HTMLModel",
          "state": {
            "_dom_classes": [],
            "_model_module": "@jupyter-widgets/controls",
            "_model_module_version": "1.5.0",
            "_model_name": "HTMLModel",
            "_view_count": null,
            "_view_module": "@jupyter-widgets/controls",
            "_view_module_version": "1.5.0",
            "_view_name": "HTMLView",
            "description": "",
            "description_tooltip": null,
            "layout": "IPY_MODEL_5931a0649f1144b5b6419c77c3afe4f3",
            "placeholder": "​",
            "style": "IPY_MODEL_2331e68f7b1b4620838bb7059752046d",
            "value": "vocab.txt: 100%"
          }
        },
        "7fe0cbaee24c4e9f8c6b84efb6a8d5c5": {
          "model_module": "@jupyter-widgets/base",
          "model_module_version": "1.2.0",
          "model_name": "LayoutModel",
          "state": {
            "_model_module": "@jupyter-widgets/base",
            "_model_module_version": "1.2.0",
            "_model_name": "LayoutModel",
            "_view_count": null,
            "_view_module": "@jupyter-widgets/base",
            "_view_module_version": "1.2.0",
            "_view_name": "LayoutView",
            "align_content": null,
            "align_items": null,
            "align_self": null,
            "border": null,
            "bottom": null,
            "display": null,
            "flex": null,
            "flex_flow": null,
            "grid_area": null,
            "grid_auto_columns": null,
            "grid_auto_flow": null,
            "grid_auto_rows": null,
            "grid_column": null,
            "grid_gap": null,
            "grid_row": null,
            "grid_template_areas": null,
            "grid_template_columns": null,
            "grid_template_rows": null,
            "height": null,
            "justify_content": null,
            "justify_items": null,
            "left": null,
            "margin": null,
            "max_height": null,
            "max_width": null,
            "min_height": null,
            "min_width": null,
            "object_fit": null,
            "object_position": null,
            "order": null,
            "overflow": null,
            "overflow_x": null,
            "overflow_y": null,
            "padding": null,
            "right": null,
            "top": null,
            "visibility": null,
            "width": null
          }
        },
        "80fc9e4ed8fc4a898fc4a2e39aa09d5e": {
          "model_module": "@jupyter-widgets/controls",
          "model_module_version": "1.5.0",
          "model_name": "ProgressStyleModel",
          "state": {
            "_model_module": "@jupyter-widgets/controls",
            "_model_module_version": "1.5.0",
            "_model_name": "ProgressStyleModel",
            "_view_count": null,
            "_view_module": "@jupyter-widgets/base",
            "_view_module_version": "1.2.0",
            "_view_name": "StyleView",
            "bar_color": null,
            "description_width": ""
          }
        },
        "8639790462aa4d84a7e7a447342ec248": {
          "model_module": "@jupyter-widgets/controls",
          "model_module_version": "1.5.0",
          "model_name": "HTMLModel",
          "state": {
            "_dom_classes": [],
            "_model_module": "@jupyter-widgets/controls",
            "_model_module_version": "1.5.0",
            "_model_name": "HTMLModel",
            "_view_count": null,
            "_view_module": "@jupyter-widgets/controls",
            "_view_module_version": "1.5.0",
            "_view_name": "HTMLView",
            "description": "",
            "description_tooltip": null,
            "layout": "IPY_MODEL_00203ef5f23d426e893203e1155fc17d",
            "placeholder": "​",
            "style": "IPY_MODEL_73217e8346314a43a4d0b8fc11c2505f",
            "value": "tokenizer_config.json: 100%"
          }
        },
        "89982e69be4046e3a2b1c53d5f2d100e": {
          "model_module": "@jupyter-widgets/base",
          "model_module_version": "1.2.0",
          "model_name": "LayoutModel",
          "state": {
            "_model_module": "@jupyter-widgets/base",
            "_model_module_version": "1.2.0",
            "_model_name": "LayoutModel",
            "_view_count": null,
            "_view_module": "@jupyter-widgets/base",
            "_view_module_version": "1.2.0",
            "_view_name": "LayoutView",
            "align_content": null,
            "align_items": null,
            "align_self": null,
            "border": null,
            "bottom": null,
            "display": null,
            "flex": null,
            "flex_flow": null,
            "grid_area": null,
            "grid_auto_columns": null,
            "grid_auto_flow": null,
            "grid_auto_rows": null,
            "grid_column": null,
            "grid_gap": null,
            "grid_row": null,
            "grid_template_areas": null,
            "grid_template_columns": null,
            "grid_template_rows": null,
            "height": null,
            "justify_content": null,
            "justify_items": null,
            "left": null,
            "margin": null,
            "max_height": null,
            "max_width": null,
            "min_height": null,
            "min_width": null,
            "object_fit": null,
            "object_position": null,
            "order": null,
            "overflow": null,
            "overflow_x": null,
            "overflow_y": null,
            "padding": null,
            "right": null,
            "top": null,
            "visibility": null,
            "width": null
          }
        },
        "8d19fee6e1ec499d89e7fad8fb9d041e": {
          "model_module": "@jupyter-widgets/controls",
          "model_module_version": "1.5.0",
          "model_name": "FloatProgressModel",
          "state": {
            "_dom_classes": [],
            "_model_module": "@jupyter-widgets/controls",
            "_model_module_version": "1.5.0",
            "_model_name": "FloatProgressModel",
            "_view_count": null,
            "_view_module": "@jupyter-widgets/controls",
            "_view_module_version": "1.5.0",
            "_view_name": "ProgressView",
            "bar_style": "success",
            "description": "",
            "description_tooltip": null,
            "layout": "IPY_MODEL_af1d69400a214bb6909b037b6fffac0e",
            "max": 440449768,
            "min": 0,
            "orientation": "horizontal",
            "style": "IPY_MODEL_28f559ba07fe464d9b5493f7b5c882a8",
            "value": 440449768
          }
        },
        "8e0af2a1f6ea48ab970a3c8354091a39": {
          "model_module": "@jupyter-widgets/base",
          "model_module_version": "1.2.0",
          "model_name": "LayoutModel",
          "state": {
            "_model_module": "@jupyter-widgets/base",
            "_model_module_version": "1.2.0",
            "_model_name": "LayoutModel",
            "_view_count": null,
            "_view_module": "@jupyter-widgets/base",
            "_view_module_version": "1.2.0",
            "_view_name": "LayoutView",
            "align_content": null,
            "align_items": null,
            "align_self": null,
            "border": null,
            "bottom": null,
            "display": null,
            "flex": null,
            "flex_flow": null,
            "grid_area": null,
            "grid_auto_columns": null,
            "grid_auto_flow": null,
            "grid_auto_rows": null,
            "grid_column": null,
            "grid_gap": null,
            "grid_row": null,
            "grid_template_areas": null,
            "grid_template_columns": null,
            "grid_template_rows": null,
            "height": null,
            "justify_content": null,
            "justify_items": null,
            "left": null,
            "margin": null,
            "max_height": null,
            "max_width": null,
            "min_height": null,
            "min_width": null,
            "object_fit": null,
            "object_position": null,
            "order": null,
            "overflow": null,
            "overflow_x": null,
            "overflow_y": null,
            "padding": null,
            "right": null,
            "top": null,
            "visibility": null,
            "width": null
          }
        },
        "8f3d794e0ce0444aa6e098a3100ac503": {
          "model_module": "@jupyter-widgets/base",
          "model_module_version": "1.2.0",
          "model_name": "LayoutModel",
          "state": {
            "_model_module": "@jupyter-widgets/base",
            "_model_module_version": "1.2.0",
            "_model_name": "LayoutModel",
            "_view_count": null,
            "_view_module": "@jupyter-widgets/base",
            "_view_module_version": "1.2.0",
            "_view_name": "LayoutView",
            "align_content": null,
            "align_items": null,
            "align_self": null,
            "border": null,
            "bottom": null,
            "display": null,
            "flex": null,
            "flex_flow": null,
            "grid_area": null,
            "grid_auto_columns": null,
            "grid_auto_flow": null,
            "grid_auto_rows": null,
            "grid_column": null,
            "grid_gap": null,
            "grid_row": null,
            "grid_template_areas": null,
            "grid_template_columns": null,
            "grid_template_rows": null,
            "height": null,
            "justify_content": null,
            "justify_items": null,
            "left": null,
            "margin": null,
            "max_height": null,
            "max_width": null,
            "min_height": null,
            "min_width": null,
            "object_fit": null,
            "object_position": null,
            "order": null,
            "overflow": null,
            "overflow_x": null,
            "overflow_y": null,
            "padding": null,
            "right": null,
            "top": null,
            "visibility": null,
            "width": null
          }
        },
        "948f077b8cee454ba1b9266565a89c2f": {
          "model_module": "@jupyter-widgets/base",
          "model_module_version": "1.2.0",
          "model_name": "LayoutModel",
          "state": {
            "_model_module": "@jupyter-widgets/base",
            "_model_module_version": "1.2.0",
            "_model_name": "LayoutModel",
            "_view_count": null,
            "_view_module": "@jupyter-widgets/base",
            "_view_module_version": "1.2.0",
            "_view_name": "LayoutView",
            "align_content": null,
            "align_items": null,
            "align_self": null,
            "border": null,
            "bottom": null,
            "display": null,
            "flex": null,
            "flex_flow": null,
            "grid_area": null,
            "grid_auto_columns": null,
            "grid_auto_flow": null,
            "grid_auto_rows": null,
            "grid_column": null,
            "grid_gap": null,
            "grid_row": null,
            "grid_template_areas": null,
            "grid_template_columns": null,
            "grid_template_rows": null,
            "height": null,
            "justify_content": null,
            "justify_items": null,
            "left": null,
            "margin": null,
            "max_height": null,
            "max_width": null,
            "min_height": null,
            "min_width": null,
            "object_fit": null,
            "object_position": null,
            "order": null,
            "overflow": null,
            "overflow_x": null,
            "overflow_y": null,
            "padding": null,
            "right": null,
            "top": null,
            "visibility": null,
            "width": null
          }
        },
        "9839dddd423e41c4b3e11795e12a07f6": {
          "model_module": "@jupyter-widgets/controls",
          "model_module_version": "1.5.0",
          "model_name": "DescriptionStyleModel",
          "state": {
            "_model_module": "@jupyter-widgets/controls",
            "_model_module_version": "1.5.0",
            "_model_name": "DescriptionStyleModel",
            "_view_count": null,
            "_view_module": "@jupyter-widgets/base",
            "_view_module_version": "1.2.0",
            "_view_name": "StyleView",
            "description_width": ""
          }
        },
        "98c76e1ad76f45719379bfe72c8a9296": {
          "model_module": "@jupyter-widgets/controls",
          "model_module_version": "1.5.0",
          "model_name": "HTMLModel",
          "state": {
            "_dom_classes": [],
            "_model_module": "@jupyter-widgets/controls",
            "_model_module_version": "1.5.0",
            "_model_name": "HTMLModel",
            "_view_count": null,
            "_view_module": "@jupyter-widgets/controls",
            "_view_module_version": "1.5.0",
            "_view_name": "HTMLView",
            "description": "",
            "description_tooltip": null,
            "layout": "IPY_MODEL_8f3d794e0ce0444aa6e098a3100ac503",
            "placeholder": "​",
            "style": "IPY_MODEL_3fa1378435724631b7b11a6b28e4e7e5",
            "value": " 232k/232k [00:00&lt;00:00, 1.79MB/s]"
          }
        },
        "9c348b86cd3c43c099e34a71d678d340": {
          "model_module": "@jupyter-widgets/controls",
          "model_module_version": "1.5.0",
          "model_name": "ProgressStyleModel",
          "state": {
            "_model_module": "@jupyter-widgets/controls",
            "_model_module_version": "1.5.0",
            "_model_name": "ProgressStyleModel",
            "_view_count": null,
            "_view_module": "@jupyter-widgets/base",
            "_view_module_version": "1.2.0",
            "_view_name": "StyleView",
            "bar_color": null,
            "description_width": ""
          }
        },
        "9cb0c09989304fcfb5488309793909f2": {
          "model_module": "@jupyter-widgets/controls",
          "model_module_version": "1.5.0",
          "model_name": "FloatProgressModel",
          "state": {
            "_dom_classes": [],
            "_model_module": "@jupyter-widgets/controls",
            "_model_module_version": "1.5.0",
            "_model_name": "FloatProgressModel",
            "_view_count": null,
            "_view_module": "@jupyter-widgets/controls",
            "_view_module_version": "1.5.0",
            "_view_name": "ProgressView",
            "bar_style": "success",
            "description": "",
            "description_tooltip": null,
            "layout": "IPY_MODEL_0251542b363f4bd8b432155b31640be2",
            "max": 231508,
            "min": 0,
            "orientation": "horizontal",
            "style": "IPY_MODEL_80fc9e4ed8fc4a898fc4a2e39aa09d5e",
            "value": 231508
          }
        },
        "a243760afcf64495b982153a02f94868": {
          "model_module": "@jupyter-widgets/base",
          "model_module_version": "1.2.0",
          "model_name": "LayoutModel",
          "state": {
            "_model_module": "@jupyter-widgets/base",
            "_model_module_version": "1.2.0",
            "_model_name": "LayoutModel",
            "_view_count": null,
            "_view_module": "@jupyter-widgets/base",
            "_view_module_version": "1.2.0",
            "_view_name": "LayoutView",
            "align_content": null,
            "align_items": null,
            "align_self": null,
            "border": null,
            "bottom": null,
            "display": null,
            "flex": null,
            "flex_flow": null,
            "grid_area": null,
            "grid_auto_columns": null,
            "grid_auto_flow": null,
            "grid_auto_rows": null,
            "grid_column": null,
            "grid_gap": null,
            "grid_row": null,
            "grid_template_areas": null,
            "grid_template_columns": null,
            "grid_template_rows": null,
            "height": null,
            "justify_content": null,
            "justify_items": null,
            "left": null,
            "margin": null,
            "max_height": null,
            "max_width": null,
            "min_height": null,
            "min_width": null,
            "object_fit": null,
            "object_position": null,
            "order": null,
            "overflow": null,
            "overflow_x": null,
            "overflow_y": null,
            "padding": null,
            "right": null,
            "top": null,
            "visibility": null,
            "width": null
          }
        },
        "a5023bbfd64049f5988c87ad85f046d1": {
          "model_module": "@jupyter-widgets/controls",
          "model_module_version": "1.5.0",
          "model_name": "HTMLModel",
          "state": {
            "_dom_classes": [],
            "_model_module": "@jupyter-widgets/controls",
            "_model_module_version": "1.5.0",
            "_model_name": "HTMLModel",
            "_view_count": null,
            "_view_module": "@jupyter-widgets/controls",
            "_view_module_version": "1.5.0",
            "_view_name": "HTMLView",
            "description": "",
            "description_tooltip": null,
            "layout": "IPY_MODEL_a882fd8c95724176a96984e4fe68f509",
            "placeholder": "​",
            "style": "IPY_MODEL_243873f6532346d3a9b872cfa84f1621",
            "value": "tf_model.h5: 100%"
          }
        },
        "a882fd8c95724176a96984e4fe68f509": {
          "model_module": "@jupyter-widgets/base",
          "model_module_version": "1.2.0",
          "model_name": "LayoutModel",
          "state": {
            "_model_module": "@jupyter-widgets/base",
            "_model_module_version": "1.2.0",
            "_model_name": "LayoutModel",
            "_view_count": null,
            "_view_module": "@jupyter-widgets/base",
            "_view_module_version": "1.2.0",
            "_view_name": "LayoutView",
            "align_content": null,
            "align_items": null,
            "align_self": null,
            "border": null,
            "bottom": null,
            "display": null,
            "flex": null,
            "flex_flow": null,
            "grid_area": null,
            "grid_auto_columns": null,
            "grid_auto_flow": null,
            "grid_auto_rows": null,
            "grid_column": null,
            "grid_gap": null,
            "grid_row": null,
            "grid_template_areas": null,
            "grid_template_columns": null,
            "grid_template_rows": null,
            "height": null,
            "justify_content": null,
            "justify_items": null,
            "left": null,
            "margin": null,
            "max_height": null,
            "max_width": null,
            "min_height": null,
            "min_width": null,
            "object_fit": null,
            "object_position": null,
            "order": null,
            "overflow": null,
            "overflow_x": null,
            "overflow_y": null,
            "padding": null,
            "right": null,
            "top": null,
            "visibility": null,
            "width": null
          }
        },
        "a8e4d01bf4f04d8f9e9241e0dc0453a9": {
          "model_module": "@jupyter-widgets/base",
          "model_module_version": "1.2.0",
          "model_name": "LayoutModel",
          "state": {
            "_model_module": "@jupyter-widgets/base",
            "_model_module_version": "1.2.0",
            "_model_name": "LayoutModel",
            "_view_count": null,
            "_view_module": "@jupyter-widgets/base",
            "_view_module_version": "1.2.0",
            "_view_name": "LayoutView",
            "align_content": null,
            "align_items": null,
            "align_self": null,
            "border": null,
            "bottom": null,
            "display": null,
            "flex": null,
            "flex_flow": null,
            "grid_area": null,
            "grid_auto_columns": null,
            "grid_auto_flow": null,
            "grid_auto_rows": null,
            "grid_column": null,
            "grid_gap": null,
            "grid_row": null,
            "grid_template_areas": null,
            "grid_template_columns": null,
            "grid_template_rows": null,
            "height": null,
            "justify_content": null,
            "justify_items": null,
            "left": null,
            "margin": null,
            "max_height": null,
            "max_width": null,
            "min_height": null,
            "min_width": null,
            "object_fit": null,
            "object_position": null,
            "order": null,
            "overflow": null,
            "overflow_x": null,
            "overflow_y": null,
            "padding": null,
            "right": null,
            "top": null,
            "visibility": null,
            "width": null
          }
        },
        "ad9f55598d32473d9bf8d8896e6f83c8": {
          "model_module": "@jupyter-widgets/base",
          "model_module_version": "1.2.0",
          "model_name": "LayoutModel",
          "state": {
            "_model_module": "@jupyter-widgets/base",
            "_model_module_version": "1.2.0",
            "_model_name": "LayoutModel",
            "_view_count": null,
            "_view_module": "@jupyter-widgets/base",
            "_view_module_version": "1.2.0",
            "_view_name": "LayoutView",
            "align_content": null,
            "align_items": null,
            "align_self": null,
            "border": null,
            "bottom": null,
            "display": null,
            "flex": null,
            "flex_flow": null,
            "grid_area": null,
            "grid_auto_columns": null,
            "grid_auto_flow": null,
            "grid_auto_rows": null,
            "grid_column": null,
            "grid_gap": null,
            "grid_row": null,
            "grid_template_areas": null,
            "grid_template_columns": null,
            "grid_template_rows": null,
            "height": null,
            "justify_content": null,
            "justify_items": null,
            "left": null,
            "margin": null,
            "max_height": null,
            "max_width": null,
            "min_height": null,
            "min_width": null,
            "object_fit": null,
            "object_position": null,
            "order": null,
            "overflow": null,
            "overflow_x": null,
            "overflow_y": null,
            "padding": null,
            "right": null,
            "top": null,
            "visibility": null,
            "width": null
          }
        },
        "af1d69400a214bb6909b037b6fffac0e": {
          "model_module": "@jupyter-widgets/base",
          "model_module_version": "1.2.0",
          "model_name": "LayoutModel",
          "state": {
            "_model_module": "@jupyter-widgets/base",
            "_model_module_version": "1.2.0",
            "_model_name": "LayoutModel",
            "_view_count": null,
            "_view_module": "@jupyter-widgets/base",
            "_view_module_version": "1.2.0",
            "_view_name": "LayoutView",
            "align_content": null,
            "align_items": null,
            "align_self": null,
            "border": null,
            "bottom": null,
            "display": null,
            "flex": null,
            "flex_flow": null,
            "grid_area": null,
            "grid_auto_columns": null,
            "grid_auto_flow": null,
            "grid_auto_rows": null,
            "grid_column": null,
            "grid_gap": null,
            "grid_row": null,
            "grid_template_areas": null,
            "grid_template_columns": null,
            "grid_template_rows": null,
            "height": null,
            "justify_content": null,
            "justify_items": null,
            "left": null,
            "margin": null,
            "max_height": null,
            "max_width": null,
            "min_height": null,
            "min_width": null,
            "object_fit": null,
            "object_position": null,
            "order": null,
            "overflow": null,
            "overflow_x": null,
            "overflow_y": null,
            "padding": null,
            "right": null,
            "top": null,
            "visibility": null,
            "width": null
          }
        },
        "b17cbef9bbc840e5b722e415d732d62f": {
          "model_module": "@jupyter-widgets/base",
          "model_module_version": "1.2.0",
          "model_name": "LayoutModel",
          "state": {
            "_model_module": "@jupyter-widgets/base",
            "_model_module_version": "1.2.0",
            "_model_name": "LayoutModel",
            "_view_count": null,
            "_view_module": "@jupyter-widgets/base",
            "_view_module_version": "1.2.0",
            "_view_name": "LayoutView",
            "align_content": null,
            "align_items": null,
            "align_self": null,
            "border": null,
            "bottom": null,
            "display": null,
            "flex": null,
            "flex_flow": null,
            "grid_area": null,
            "grid_auto_columns": null,
            "grid_auto_flow": null,
            "grid_auto_rows": null,
            "grid_column": null,
            "grid_gap": null,
            "grid_row": null,
            "grid_template_areas": null,
            "grid_template_columns": null,
            "grid_template_rows": null,
            "height": null,
            "justify_content": null,
            "justify_items": null,
            "left": null,
            "margin": null,
            "max_height": null,
            "max_width": null,
            "min_height": null,
            "min_width": null,
            "object_fit": null,
            "object_position": null,
            "order": null,
            "overflow": null,
            "overflow_x": null,
            "overflow_y": null,
            "padding": null,
            "right": null,
            "top": null,
            "visibility": null,
            "width": null
          }
        },
        "b722c648e281478a919bb1ff6b689e46": {
          "model_module": "@jupyter-widgets/controls",
          "model_module_version": "1.5.0",
          "model_name": "FloatProgressModel",
          "state": {
            "_dom_classes": [],
            "_model_module": "@jupyter-widgets/controls",
            "_model_module_version": "1.5.0",
            "_model_name": "FloatProgressModel",
            "_view_count": null,
            "_view_module": "@jupyter-widgets/controls",
            "_view_module_version": "1.5.0",
            "_view_name": "ProgressView",
            "bar_style": "success",
            "description": "",
            "description_tooltip": null,
            "layout": "IPY_MODEL_4d0b5157f23642c99671caa74edd7eff",
            "max": 231508,
            "min": 0,
            "orientation": "horizontal",
            "style": "IPY_MODEL_bc9916a8a9c846cbae37957a34f724b8",
            "value": 231508
          }
        },
        "bb507e8123f84b1d85aa21d36f233beb": {
          "model_module": "@jupyter-widgets/controls",
          "model_module_version": "1.5.0",
          "model_name": "HBoxModel",
          "state": {
            "_dom_classes": [],
            "_model_module": "@jupyter-widgets/controls",
            "_model_module_version": "1.5.0",
            "_model_name": "HBoxModel",
            "_view_count": null,
            "_view_module": "@jupyter-widgets/controls",
            "_view_module_version": "1.5.0",
            "_view_name": "HBoxView",
            "box_style": "",
            "children": [
              "IPY_MODEL_7f17fd06c9e649caa8b2077a74a28c67",
              "IPY_MODEL_9cb0c09989304fcfb5488309793909f2",
              "IPY_MODEL_5b9d57548d6a47b5870bfef762b4d06b"
            ],
            "layout": "IPY_MODEL_3aa85e5da69b4ca383d8e63d4f55b1a2"
          }
        },
        "bc5e3dae13374e17bea9f980f9357d15": {
          "model_module": "@jupyter-widgets/base",
          "model_module_version": "1.2.0",
          "model_name": "LayoutModel",
          "state": {
            "_model_module": "@jupyter-widgets/base",
            "_model_module_version": "1.2.0",
            "_model_name": "LayoutModel",
            "_view_count": null,
            "_view_module": "@jupyter-widgets/base",
            "_view_module_version": "1.2.0",
            "_view_name": "LayoutView",
            "align_content": null,
            "align_items": null,
            "align_self": null,
            "border": null,
            "bottom": null,
            "display": null,
            "flex": null,
            "flex_flow": null,
            "grid_area": null,
            "grid_auto_columns": null,
            "grid_auto_flow": null,
            "grid_auto_rows": null,
            "grid_column": null,
            "grid_gap": null,
            "grid_row": null,
            "grid_template_areas": null,
            "grid_template_columns": null,
            "grid_template_rows": null,
            "height": null,
            "justify_content": null,
            "justify_items": null,
            "left": null,
            "margin": null,
            "max_height": null,
            "max_width": null,
            "min_height": null,
            "min_width": null,
            "object_fit": null,
            "object_position": null,
            "order": null,
            "overflow": null,
            "overflow_x": null,
            "overflow_y": null,
            "padding": null,
            "right": null,
            "top": null,
            "visibility": null,
            "width": null
          }
        },
        "bc9916a8a9c846cbae37957a34f724b8": {
          "model_module": "@jupyter-widgets/controls",
          "model_module_version": "1.5.0",
          "model_name": "ProgressStyleModel",
          "state": {
            "_model_module": "@jupyter-widgets/controls",
            "_model_module_version": "1.5.0",
            "_model_name": "ProgressStyleModel",
            "_view_count": null,
            "_view_module": "@jupyter-widgets/base",
            "_view_module_version": "1.2.0",
            "_view_name": "StyleView",
            "bar_color": null,
            "description_width": ""
          }
        },
        "bd2bcaf5b52b43fda8060b69576e9a48": {
          "model_module": "@jupyter-widgets/controls",
          "model_module_version": "1.5.0",
          "model_name": "ProgressStyleModel",
          "state": {
            "_model_module": "@jupyter-widgets/controls",
            "_model_module_version": "1.5.0",
            "_model_name": "ProgressStyleModel",
            "_view_count": null,
            "_view_module": "@jupyter-widgets/base",
            "_view_module_version": "1.2.0",
            "_view_name": "StyleView",
            "bar_color": null,
            "description_width": ""
          }
        },
        "bf9a10dd038541279bc2ff1b734dabb3": {
          "model_module": "@jupyter-widgets/controls",
          "model_module_version": "1.5.0",
          "model_name": "DescriptionStyleModel",
          "state": {
            "_model_module": "@jupyter-widgets/controls",
            "_model_module_version": "1.5.0",
            "_model_name": "DescriptionStyleModel",
            "_view_count": null,
            "_view_module": "@jupyter-widgets/base",
            "_view_module_version": "1.2.0",
            "_view_name": "StyleView",
            "description_width": ""
          }
        },
        "c53aa06d444c4790afb082ff95cb304a": {
          "model_module": "@jupyter-widgets/controls",
          "model_module_version": "1.5.0",
          "model_name": "ProgressStyleModel",
          "state": {
            "_model_module": "@jupyter-widgets/controls",
            "_model_module_version": "1.5.0",
            "_model_name": "ProgressStyleModel",
            "_view_count": null,
            "_view_module": "@jupyter-widgets/base",
            "_view_module_version": "1.2.0",
            "_view_name": "StyleView",
            "bar_color": null,
            "description_width": ""
          }
        },
        "c9aa0182376f40d0ae5f667ff0df1692": {
          "model_module": "@jupyter-widgets/controls",
          "model_module_version": "1.5.0",
          "model_name": "ProgressStyleModel",
          "state": {
            "_model_module": "@jupyter-widgets/controls",
            "_model_module_version": "1.5.0",
            "_model_name": "ProgressStyleModel",
            "_view_count": null,
            "_view_module": "@jupyter-widgets/base",
            "_view_module_version": "1.2.0",
            "_view_name": "StyleView",
            "bar_color": null,
            "description_width": ""
          }
        },
        "c9d769a8483a459f84f36b111721c0c3": {
          "model_module": "@jupyter-widgets/controls",
          "model_module_version": "1.5.0",
          "model_name": "FloatProgressModel",
          "state": {
            "_dom_classes": [],
            "_model_module": "@jupyter-widgets/controls",
            "_model_module_version": "1.5.0",
            "_model_name": "FloatProgressModel",
            "_view_count": null,
            "_view_module": "@jupyter-widgets/controls",
            "_view_module_version": "1.5.0",
            "_view_name": "ProgressView",
            "bar_style": "success",
            "description": "",
            "description_tooltip": null,
            "layout": "IPY_MODEL_e9479763bcec4c68aedf4261e9d82d2a",
            "max": 1472566816,
            "min": 0,
            "orientation": "horizontal",
            "style": "IPY_MODEL_bd2bcaf5b52b43fda8060b69576e9a48",
            "value": 1472566816
          }
        },
        "c9ecc7e1a45843218d5d70a1e37810a3": {
          "model_module": "@jupyter-widgets/base",
          "model_module_version": "1.2.0",
          "model_name": "LayoutModel",
          "state": {
            "_model_module": "@jupyter-widgets/base",
            "_model_module_version": "1.2.0",
            "_model_name": "LayoutModel",
            "_view_count": null,
            "_view_module": "@jupyter-widgets/base",
            "_view_module_version": "1.2.0",
            "_view_name": "LayoutView",
            "align_content": null,
            "align_items": null,
            "align_self": null,
            "border": null,
            "bottom": null,
            "display": null,
            "flex": null,
            "flex_flow": null,
            "grid_area": null,
            "grid_auto_columns": null,
            "grid_auto_flow": null,
            "grid_auto_rows": null,
            "grid_column": null,
            "grid_gap": null,
            "grid_row": null,
            "grid_template_areas": null,
            "grid_template_columns": null,
            "grid_template_rows": null,
            "height": null,
            "justify_content": null,
            "justify_items": null,
            "left": null,
            "margin": null,
            "max_height": null,
            "max_width": null,
            "min_height": null,
            "min_width": null,
            "object_fit": null,
            "object_position": null,
            "order": null,
            "overflow": null,
            "overflow_x": null,
            "overflow_y": null,
            "padding": null,
            "right": null,
            "top": null,
            "visibility": null,
            "width": null
          }
        },
        "d83e15bcb41f495f8c43a1115513cd92": {
          "model_module": "@jupyter-widgets/controls",
          "model_module_version": "1.5.0",
          "model_name": "DescriptionStyleModel",
          "state": {
            "_model_module": "@jupyter-widgets/controls",
            "_model_module_version": "1.5.0",
            "_model_name": "DescriptionStyleModel",
            "_view_count": null,
            "_view_module": "@jupyter-widgets/base",
            "_view_module_version": "1.2.0",
            "_view_name": "StyleView",
            "description_width": ""
          }
        },
        "dbb4aec484984e5ca46f91fc7e9ccca7": {
          "model_module": "@jupyter-widgets/controls",
          "model_module_version": "1.5.0",
          "model_name": "HTMLModel",
          "state": {
            "_dom_classes": [],
            "_model_module": "@jupyter-widgets/controls",
            "_model_module_version": "1.5.0",
            "_model_name": "HTMLModel",
            "_view_count": null,
            "_view_module": "@jupyter-widgets/controls",
            "_view_module_version": "1.5.0",
            "_view_name": "HTMLView",
            "description": "",
            "description_tooltip": null,
            "layout": "IPY_MODEL_3df4cd8d9d8b43cf910e6ddb01374ae2",
            "placeholder": "​",
            "style": "IPY_MODEL_17565ec436a14e36b606dde6c65ec422",
            "value": "vocab.txt: 100%"
          }
        },
        "dbea308440da42bf8bd45982ff685f10": {
          "model_module": "@jupyter-widgets/controls",
          "model_module_version": "1.5.0",
          "model_name": "FloatProgressModel",
          "state": {
            "_dom_classes": [],
            "_model_module": "@jupyter-widgets/controls",
            "_model_module_version": "1.5.0",
            "_model_name": "FloatProgressModel",
            "_view_count": null,
            "_view_module": "@jupyter-widgets/controls",
            "_view_module_version": "1.5.0",
            "_view_name": "ProgressView",
            "bar_style": "success",
            "description": "",
            "description_tooltip": null,
            "layout": "IPY_MODEL_12fb6422cd7d4a5f9f45d0fa5f6b5657",
            "max": 466062,
            "min": 0,
            "orientation": "horizontal",
            "style": "IPY_MODEL_c9aa0182376f40d0ae5f667ff0df1692",
            "value": 466062
          }
        },
        "dddfb57f2801406a8cd4092247b95f97": {
          "model_module": "@jupyter-widgets/controls",
          "model_module_version": "1.5.0",
          "model_name": "DescriptionStyleModel",
          "state": {
            "_model_module": "@jupyter-widgets/controls",
            "_model_module_version": "1.5.0",
            "_model_name": "DescriptionStyleModel",
            "_view_count": null,
            "_view_module": "@jupyter-widgets/base",
            "_view_module_version": "1.2.0",
            "_view_name": "StyleView",
            "description_width": ""
          }
        },
        "dede3655e3d64a13a5f7b2fe1d04475f": {
          "model_module": "@jupyter-widgets/controls",
          "model_module_version": "1.5.0",
          "model_name": "FloatProgressModel",
          "state": {
            "_dom_classes": [],
            "_model_module": "@jupyter-widgets/controls",
            "_model_module_version": "1.5.0",
            "_model_name": "FloatProgressModel",
            "_view_count": null,
            "_view_module": "@jupyter-widgets/controls",
            "_view_module_version": "1.5.0",
            "_view_name": "ProgressView",
            "bar_style": "success",
            "description": "",
            "description_tooltip": null,
            "layout": "IPY_MODEL_6f1b7b01b86d4e5aaeb843f45a4ec100",
            "max": 48,
            "min": 0,
            "orientation": "horizontal",
            "style": "IPY_MODEL_678f9f4873414eb9a44dd8ff4ff68019",
            "value": 48
          }
        },
        "e36ab5f8fee04b508c33f13ef69de7bc": {
          "model_module": "@jupyter-widgets/base",
          "model_module_version": "1.2.0",
          "model_name": "LayoutModel",
          "state": {
            "_model_module": "@jupyter-widgets/base",
            "_model_module_version": "1.2.0",
            "_model_name": "LayoutModel",
            "_view_count": null,
            "_view_module": "@jupyter-widgets/base",
            "_view_module_version": "1.2.0",
            "_view_name": "LayoutView",
            "align_content": null,
            "align_items": null,
            "align_self": null,
            "border": null,
            "bottom": null,
            "display": null,
            "flex": null,
            "flex_flow": null,
            "grid_area": null,
            "grid_auto_columns": null,
            "grid_auto_flow": null,
            "grid_auto_rows": null,
            "grid_column": null,
            "grid_gap": null,
            "grid_row": null,
            "grid_template_areas": null,
            "grid_template_columns": null,
            "grid_template_rows": null,
            "height": null,
            "justify_content": null,
            "justify_items": null,
            "left": null,
            "margin": null,
            "max_height": null,
            "max_width": null,
            "min_height": null,
            "min_width": null,
            "object_fit": null,
            "object_position": null,
            "order": null,
            "overflow": null,
            "overflow_x": null,
            "overflow_y": null,
            "padding": null,
            "right": null,
            "top": null,
            "visibility": null,
            "width": null
          }
        },
        "e61fc5dc481e40b79fd387dab8a8229f": {
          "model_module": "@jupyter-widgets/controls",
          "model_module_version": "1.5.0",
          "model_name": "HBoxModel",
          "state": {
            "_dom_classes": [],
            "_model_module": "@jupyter-widgets/controls",
            "_model_module_version": "1.5.0",
            "_model_name": "HBoxModel",
            "_view_count": null,
            "_view_module": "@jupyter-widgets/controls",
            "_view_module_version": "1.5.0",
            "_view_name": "HBoxView",
            "box_style": "",
            "children": [
              "IPY_MODEL_8639790462aa4d84a7e7a447342ec248",
              "IPY_MODEL_dede3655e3d64a13a5f7b2fe1d04475f",
              "IPY_MODEL_255456c8b6dd4d19a0c64333a380d0dc"
            ],
            "layout": "IPY_MODEL_c9ecc7e1a45843218d5d70a1e37810a3"
          }
        },
        "e9479763bcec4c68aedf4261e9d82d2a": {
          "model_module": "@jupyter-widgets/base",
          "model_module_version": "1.2.0",
          "model_name": "LayoutModel",
          "state": {
            "_model_module": "@jupyter-widgets/base",
            "_model_module_version": "1.2.0",
            "_model_name": "LayoutModel",
            "_view_count": null,
            "_view_module": "@jupyter-widgets/base",
            "_view_module_version": "1.2.0",
            "_view_name": "LayoutView",
            "align_content": null,
            "align_items": null,
            "align_self": null,
            "border": null,
            "bottom": null,
            "display": null,
            "flex": null,
            "flex_flow": null,
            "grid_area": null,
            "grid_auto_columns": null,
            "grid_auto_flow": null,
            "grid_auto_rows": null,
            "grid_column": null,
            "grid_gap": null,
            "grid_row": null,
            "grid_template_areas": null,
            "grid_template_columns": null,
            "grid_template_rows": null,
            "height": null,
            "justify_content": null,
            "justify_items": null,
            "left": null,
            "margin": null,
            "max_height": null,
            "max_width": null,
            "min_height": null,
            "min_width": null,
            "object_fit": null,
            "object_position": null,
            "order": null,
            "overflow": null,
            "overflow_x": null,
            "overflow_y": null,
            "padding": null,
            "right": null,
            "top": null,
            "visibility": null,
            "width": null
          }
        },
        "e9c3c9eaed744006ace2f2fd751f4345": {
          "model_module": "@jupyter-widgets/controls",
          "model_module_version": "1.5.0",
          "model_name": "DescriptionStyleModel",
          "state": {
            "_model_module": "@jupyter-widgets/controls",
            "_model_module_version": "1.5.0",
            "_model_name": "DescriptionStyleModel",
            "_view_count": null,
            "_view_module": "@jupyter-widgets/base",
            "_view_module_version": "1.2.0",
            "_view_name": "StyleView",
            "description_width": ""
          }
        },
        "ef5033631adb4ca48871af685a6d8971": {
          "model_module": "@jupyter-widgets/controls",
          "model_module_version": "1.5.0",
          "model_name": "FloatProgressModel",
          "state": {
            "_dom_classes": [],
            "_model_module": "@jupyter-widgets/controls",
            "_model_module_version": "1.5.0",
            "_model_name": "FloatProgressModel",
            "_view_count": null,
            "_view_module": "@jupyter-widgets/controls",
            "_view_module_version": "1.5.0",
            "_view_name": "ProgressView",
            "bar_style": "success",
            "description": "",
            "description_tooltip": null,
            "layout": "IPY_MODEL_b17cbef9bbc840e5b722e415d732d62f",
            "max": 421,
            "min": 0,
            "orientation": "horizontal",
            "style": "IPY_MODEL_9c348b86cd3c43c099e34a71d678d340",
            "value": 421
          }
        },
        "f07245c1efd049fc9286f22c06a98d29": {
          "model_module": "@jupyter-widgets/controls",
          "model_module_version": "1.5.0",
          "model_name": "DescriptionStyleModel",
          "state": {
            "_model_module": "@jupyter-widgets/controls",
            "_model_module_version": "1.5.0",
            "_model_name": "DescriptionStyleModel",
            "_view_count": null,
            "_view_module": "@jupyter-widgets/base",
            "_view_module_version": "1.2.0",
            "_view_name": "StyleView",
            "description_width": ""
          }
        },
        "f42429dafbc94d59b6db1676baed4670": {
          "model_module": "@jupyter-widgets/controls",
          "model_module_version": "1.5.0",
          "model_name": "DescriptionStyleModel",
          "state": {
            "_model_module": "@jupyter-widgets/controls",
            "_model_module_version": "1.5.0",
            "_model_name": "DescriptionStyleModel",
            "_view_count": null,
            "_view_module": "@jupyter-widgets/base",
            "_view_module_version": "1.2.0",
            "_view_name": "StyleView",
            "description_width": ""
          }
        },
        "fa8013343d3240d7b2646d608f87a7b5": {
          "model_module": "@jupyter-widgets/controls",
          "model_module_version": "1.5.0",
          "model_name": "HTMLModel",
          "state": {
            "_dom_classes": [],
            "_model_module": "@jupyter-widgets/controls",
            "_model_module_version": "1.5.0",
            "_model_name": "HTMLModel",
            "_view_count": null,
            "_view_module": "@jupyter-widgets/controls",
            "_view_module_version": "1.5.0",
            "_view_name": "HTMLView",
            "description": "",
            "description_tooltip": null,
            "layout": "IPY_MODEL_362b5564676e41cfb00a77508036af4d",
            "placeholder": "​",
            "style": "IPY_MODEL_e9c3c9eaed744006ace2f2fd751f4345",
            "value": " 440M/440M [00:03&lt;00:00, 254MB/s]"
          }
        }
      }
    }
  },
  "nbformat": 4,
  "nbformat_minor": 0
}
