{
 "cells": [
  {
   "cell_type": "code",
   "execution_count": null,
   "metadata": {},
   "outputs": [],
   "source": [
    "import pandas as pd\n",
    "import numpy as np\n",
    "import matplotlib.pyplot as plt\n",
    "import seaborn as sea\n",
    "from tabulate import tabulate\n",
    "\n",
    "import re\n",
    "import emoji\n",
    "from nltk.corpus import stopwords\n",
    "from nltk.stem.porter import PorterStemmer\n",
    "\n",
    "from transformers import AutoTokenizer, BertConfig, TFAutoModel\n",
    "\n",
    "import tensorflow as tf\n",
    "from tensorflow.keras.models import Sequential, Model\n",
    "import tensorflow.keras.layers as Layers\n",
    "import keras.backend as K\n",
    "from tensorflow.keras.callbacks import EarlyStopping\n",
    "from tensorflow.keras.utils import plot_model\n",
    "\n",
    "from sklearn.metrics import accuracy_score, precision_score, recall_score, f1_score, confusion_matrix"
   ]
  },
  {
   "cell_type": "markdown",
   "metadata": {},
   "source": [
    "# Cuda"
   ]
  },
  {
   "cell_type": "code",
   "execution_count": null,
   "metadata": {},
   "outputs": [],
   "source": [
    "physical_devices = tf.config.experimental.list_physical_devices('GPU')\n",
    "if len(physical_devices) > 0:\n",
    "    print('GPU found')\n",
    "    tf.config.experimental.set_memory_growth(physical_devices[0], True)"
   ]
  },
  {
   "cell_type": "markdown",
   "metadata": {},
   "source": [
    "# Read Data"
   ]
  },
  {
   "cell_type": "code",
   "execution_count": null,
   "metadata": {},
   "outputs": [],
   "source": [
    "train = pd.read_csv('../data/COVID/Train.csv')\n",
    "valid = pd.read_csv('../data/COVID/Val.csv')\n",
    "test = pd.read_csv('../data/COVID/Test.csv')"
   ]
  },
  {
   "cell_type": "code",
   "execution_count": null,
   "metadata": {},
   "outputs": [],
   "source": [
    "train['label'] = train['label'].replace({'fake': 0, 'real': 1})\n",
    "valid['label'] = valid['label'].replace({'fake': 0, 'real': 1})\n",
    "test['label'] = test['label'].replace({'fake': 0, 'real': 1})"
   ]
  },
  {
   "cell_type": "markdown",
   "metadata": {},
   "source": [
    "# Preprocess"
   ]
  },
  {
   "cell_type": "code",
   "execution_count": null,
   "metadata": {},
   "outputs": [],
   "source": [
    "stopwords_set = set(stopwords.words('english'))\n",
    "\n",
    "def preprocess(x, html = False, url = False, username = False, hashtag = False, rep = False, \n",
    "\t\t\t\tpunctuation = False, demojize = True):\n",
    "\n",
    "\tif(html):\n",
    "\t\tx = re.sub(re.compile('<.*?>') , '', x)\n",
    "\tif(url):\n",
    "\t\tx = re.sub(r'http\\S+|www\\S+', '', x)\n",
    "\tif(username):\n",
    "\t\tx = re.sub(r'@[^ ]+', '', x)\n",
    "\tif(hashtag):\n",
    "\t\tx = re.sub(r'#', '', x)\n",
    "\tif(rep):\n",
    "\t\tx = re.sub(r'([a-zA-Z])\\1{2,}', r'\\1', x)\n",
    "\tif(demojize):\n",
    "\t\tx = emoji.demojize(x, language='fa')\n",
    "\tif(punctuation):\n",
    "\t\tpuncs = [\n",
    "\t\t\t'[', '!', '\"', '#', '%', '\\\\', '\\\"', '(', ')', '*',\n",
    "\t\t\t'+', ',', '-', '.', '/', ':', ';', '<', '=', '>', '?', \n",
    "\t\t\t'/', '^', '_', '`', '{', '|', '}', '~',\n",
    "\t\t\t'’', '”', '“', '′', '‘', ']','؟','؛','«','»','،','٪'\n",
    "\t\t]\n",
    "\t\tpattern = r'[' + re.escape(''.join(puncs)) + r']'\n",
    "\t\tx = re.sub(pattern, ' ', x)\n",
    "\n",
    "\treturn x"
   ]
  },
  {
   "cell_type": "code",
   "execution_count": null,
   "metadata": {},
   "outputs": [],
   "source": [
    "train['clean'] = train['tweet'].apply(lambda x: preprocess(x))\n",
    "valid['clean'] = valid['tweet'].apply(lambda x: preprocess(x))\n",
    "test['clean'] = test['tweet'].apply(lambda x: preprocess(x))"
   ]
  },
  {
   "cell_type": "code",
   "execution_count": null,
   "metadata": {},
   "outputs": [],
   "source": [
    "# tokens = word_tokenize(x)\n",
    "\n",
    "# if(stopword):\n",
    "# \ttokens = [token for token in tokens if token not in stopwords_set]\n",
    "# if(stemming):\n",
    "# \tstemmer = PorterStemmer()()\n",
    "# \ttokens = [stemmer.stem(token.lower()) for token in tokens]\n",
    "\n",
    "# x = ' '.join(tokens)"
   ]
  },
  {
   "cell_type": "markdown",
   "metadata": {},
   "source": [
    "# Load Transformer Models"
   ]
  },
  {
   "cell_type": "markdown",
   "metadata": {},
   "source": [
    "## Bert"
   ]
  },
  {
   "cell_type": "code",
   "execution_count": null,
   "metadata": {},
   "outputs": [],
   "source": [
    "bert_tokenizer = AutoTokenizer.from_pretrained('bert-base-uncased')\n",
    "bert_model = TFAutoModel.from_pretrained('bert-base-uncased')"
   ]
  },
  {
   "cell_type": "markdown",
   "metadata": {},
   "source": [
    "## CT-Bart"
   ]
  },
  {
   "cell_type": "code",
   "execution_count": null,
   "metadata": {},
   "outputs": [],
   "source": [
    "## FIXME\n",
    "# CTbert_tokenizer = AutoTokenizer.from_pretrained('digitalepidemiologylab/covid-twitter-bert')\n",
    "# CTbert_model = TFAutoModel.from_pretrained('digitalepidemiologylab/covid-twitter-bert')"
   ]
  },
  {
   "cell_type": "markdown",
   "metadata": {},
   "source": [
    "## Tokenize"
   ]
  },
  {
   "cell_type": "code",
   "execution_count": null,
   "metadata": {},
   "outputs": [],
   "source": [
    "MAXLEN = 128"
   ]
  },
  {
   "cell_type": "code",
   "execution_count": null,
   "metadata": {},
   "outputs": [],
   "source": [
    "def tokenize(texts, tokenizer, maxlen = MAXLEN):\n",
    "\tids = []\n",
    "\tmasks = []\n",
    "\ttypes = []\n",
    "\tfor text in texts:\n",
    "\t\to = tokenizer.encode_plus(\n",
    "\t\t\ttext, \n",
    "\t\t\tadd_special_tokens=True, \n",
    "\t\t\tmax_length=maxlen, \n",
    "\t\t\tpad_to_max_length=True,\n",
    "\t\t\ttruncation=True,\n",
    "\t\t\treturn_tensors='tf', \n",
    "\t\t\tverbose=0\n",
    "\t\t)\n",
    "\t\tids.append(o['input_ids'])\n",
    "\t\tmasks.append(o['attention_mask'])\n",
    "\t\ttypes.append(o['token_type_ids'])\n",
    "\n",
    "\treturn (\n",
    "\t\tnp.array(ids).reshape(len(texts), maxlen),\n",
    "\t\tnp.array(masks).reshape(len(texts), maxlen),\n",
    "\t\tnp.array(types).reshape(len(texts), maxlen)\n",
    "\t)"
   ]
  },
  {
   "cell_type": "code",
   "execution_count": null,
   "metadata": {},
   "outputs": [],
   "source": [
    "def create_datasets(tokenizer, batch_size, maxlen = MAXLEN):\n",
    "\ttrain_tokens = tokenize(train['clean'], tokenizer, maxlen)\n",
    "\tvalid_tokens = tokenize(valid['clean'], tokenizer, maxlen)\n",
    "\ttest_tokens = tokenize(test['clean'], bert_tokenizer)\n",
    "\n",
    "\ttrain_dataset = tf.data.Dataset.from_tensor_slices((\n",
    "\t\t{'input_ids': train_tokens[0], 'attention_mask': train_tokens[1]},\n",
    "\t\ttrain['label']\n",
    "\t))\n",
    "\ttrain_dataset = train_dataset.shuffle(len(train['label'])).batch(batch_size)\n",
    "\t\n",
    "\tvalid_dataset = tf.data.Dataset.from_tensor_slices((\n",
    "\t\t{'input_ids': valid_tokens[0], 'attention_mask': valid_tokens[1]},\n",
    "\t\tvalid['label']\n",
    "\t))\n",
    "\tvalid_dataset = valid_dataset.shuffle(len(valid['label'])).batch(batch_size)\n",
    "\n",
    "\ttest_dataset = tf.data.Dataset.from_tensor_slices((\n",
    "\t\t{'input_ids': test_tokens[0], 'attention_mask': test_tokens[1]}\n",
    "\t)).batch(batch_size)\n",
    "\t\n",
    "\treturn train_dataset, valid_dataset, test_dataset"
   ]
  },
  {
   "cell_type": "markdown",
   "metadata": {},
   "source": [
    "# Networks"
   ]
  },
  {
   "cell_type": "markdown",
   "metadata": {},
   "source": [
    "## Utils"
   ]
  },
  {
   "cell_type": "code",
   "execution_count": null,
   "metadata": {},
   "outputs": [],
   "source": [
    "def show_model(model):\n",
    "\tmodel.summary()\n",
    "\tplot_model(\n",
    "\t\tmodel, \n",
    "\t\tshow_shapes = True,\n",
    "\t\tshow_dtype=False,\n",
    "\t\tshow_layer_names = True, \n",
    "\t\trankdir = 'TB', \n",
    "\t\texpand_nested = False, \n",
    "\t\tdpi = 256\n",
    "\t)"
   ]
  },
  {
   "cell_type": "code",
   "execution_count": null,
   "metadata": {},
   "outputs": [],
   "source": [
    "def training_metrics(history):\n",
    "\n",
    "\tepochs = range(1, len(history.history['loss']) + 1)\n",
    "\n",
    "\tplt.figure(figsize=(12, 6))\n",
    "\tplt.subplot(1, 2, 1)\n",
    "\tplt.plot(epochs, history.history['loss'], 'r-', label='Training Loss')\n",
    "\tplt.plot(epochs, history.history['val_loss'], 'b-', label='Validation Loss')\n",
    "\tplt.xlabel('Epochs')\n",
    "\tplt.ylabel('Loss')\n",
    "\tplt.legend()\n",
    "\n",
    "\tplt.subplot(1, 2, 2)\n",
    "\tplt.plot(epochs, history.history['accuracy'], 'r-', label='Training Accuracy')\n",
    "\tplt.plot(epochs, history.history['val_accuracy'], 'b-', label='Validation Accuracy')\n",
    "\tplt.xlabel('Epochs')\n",
    "\tplt.ylabel('Accuracy')\n",
    "\tplt.legend()\n",
    "\n",
    "\n",
    "\tplt.tight_layout()\n",
    "\tplt.show()\n",
    "\n",
    "def test_metrics(y_true, y_pred, num_classes):\n",
    "\taccuracy = accuracy_score(y_true, y_pred)\n",
    "\tprecision = precision_score(y_true, y_pred, average=None, labels=range(num_classes))\n",
    "\trecall = recall_score(y_true, y_pred, average=None, labels=range(num_classes))\n",
    "\tf1 = f1_score(y_true, y_pred, average=None, labels=range(num_classes))\n",
    "\n",
    "\tprecision_macro = precision_score(y_true, y_pred, average='macro')\n",
    "\trecall_macro = recall_score(y_true, y_pred, average='macro')\n",
    "\tf1_macro = f1_score(y_true, y_pred, average='macro')\n",
    "\n",
    "\tprecision_micro = precision_score(y_true, y_pred, average='micro')\n",
    "\trecall_micro = recall_score(y_true, y_pred, average='micro')\n",
    "\tf1_micro = f1_score(y_true, y_pred, average='micro')\n",
    "\n",
    "\tprecision_weighted = precision_score(y_true, y_pred, average='weighted')\n",
    "\trecall_weighted = recall_score(y_true, y_pred, average='weighted')\n",
    "\tf1_weighted = f1_score(y_true, y_pred, average='weighted')\n",
    "\n",
    "\taccuracy_table = [[\"Accuracy\", f\"{accuracy:.4f}\"]]\n",
    "\n",
    "\tclass_metrics = []\n",
    "\tfor i in range(num_classes):\n",
    "\t\tclass_metrics.append([f\"Class {i}\", f\"{precision[i]:.4f}\", f\"{recall[i]:.4f}\", f\"{f1[i]:.4f}\"])\n",
    "\n",
    "\taverage_metrics = [\n",
    "\t\t[\"Macro average\", f\"{precision_macro:.4f}\", f\"{recall_macro:.4f}\", f\"{f1_macro:.4f}\"],\n",
    "\t\t[\"Micro average\", f\"{precision_micro:.4f}\", f\"{recall_micro:.4f}\", f\"{f1_micro:.4f}\"],\n",
    "\t\t[\"Weighted average\", f\"{precision_weighted:.4f}\", f\"{recall_weighted:.4f}\", f\"{f1_weighted:.4f}\"]\n",
    "\t]\n",
    "\n",
    "\tprint(tabulate(accuracy_table, headers=[\"Metric\", \"Value\"], tablefmt=\"grid\"))\n",
    "\tprint(tabulate(class_metrics, headers=[\"Class\", \"Precision\", \"Recall\", \"F1-score\"], tablefmt=\"grid\"))\n",
    "\tprint(tabulate(average_metrics, headers=[\"Average Type\", \"Precision\", \"Recall\", \"F1-score\"], tablefmt=\"grid\"))\n",
    "\n",
    "\tcm = confusion_matrix(y_true, y_pred)\n",
    "\tplt.figure(figsize=(8, 6))\n",
    "\tsea.heatmap(cm, annot=True, cmap='Blues', fmt='g')\n",
    "\tplt.title('Confusion Matrix')\n",
    "\tplt.xlabel('Predicted')\n",
    "\tplt.ylabel('True')\n",
    "\tplt.show()"
   ]
  },
  {
   "cell_type": "code",
   "execution_count": null,
   "metadata": {},
   "outputs": [],
   "source": [
    "def create_model(base_model, fine_tune = False, gru = False):\n",
    "\tinput_ids = Layers.Input(shape=(MAXLEN,), dtype=tf.int32, name=\"input_ids\")\n",
    "\tattention_mask = Layers.Input(shape=(MAXLEN,), dtype=tf.int32, name=\"attention_mask\")\n",
    "\tdense_input = None\n",
    "\tif(gru):\n",
    "\t\tbert_output = base_model(input_ids, attention_mask=attention_mask)[0]\n",
    "\t\tdense_input = Layers.Bidirectional(Layers.GRU(128))(bert_output)\n",
    "\telse:\n",
    "\t\tbert_output = base_model(input_ids, attention_mask=attention_mask)[1]\n",
    "\t\tdense_input = bert_output\n",
    "\tdense_output = Layers.Dense(1, activation='sigmoid')(dense_input)  \n",
    "\tmodel = Model(inputs=[input_ids, attention_mask], outputs=dense_output)\n",
    "\n",
    "\n",
    "\tmodel.layers[2].trainable = fine_tune\n",
    "\treturn model"
   ]
  },
  {
   "cell_type": "markdown",
   "metadata": {},
   "source": [
    "## Feature Based "
   ]
  },
  {
   "cell_type": "markdown",
   "metadata": {},
   "source": [
    "### 1. BERT"
   ]
  },
  {
   "cell_type": "code",
   "execution_count": 56,
   "metadata": {},
   "outputs": [
    {
     "name": "stdout",
     "output_type": "stream",
     "text": [
      "Model: \"model_5\"\n",
      "__________________________________________________________________________________________________\n",
      " Layer (type)                   Output Shape         Param #     Connected to                     \n",
      "==================================================================================================\n",
      " input_ids (InputLayer)         [(None, 120)]        0           []                               \n",
      "                                                                                                  \n",
      " attention_mask (InputLayer)    [(None, 120)]        0           []                               \n",
      "                                                                                                  \n",
      " tf_bert_model (TFBertModel)    TFBaseModelOutputWi  109482240   ['input_ids[0][0]',              \n",
      "                                thPoolingAndCrossAt               'attention_mask[0][0]']         \n",
      "                                tentions(last_hidde                                               \n",
      "                                n_state=(None, 120,                                               \n",
      "                                 768),                                                            \n",
      "                                 pooler_output=(Non                                               \n",
      "                                e, 768),                                                          \n",
      "                                 past_key_values=No                                               \n",
      "                                ne, hidden_states=N                                               \n",
      "                                one, attentions=Non                                               \n",
      "                                e, cross_attentions                                               \n",
      "                                =None)                                                            \n",
      "                                                                                                  \n",
      " dense_5 (Dense)                (None, 1)            769         ['tf_bert_model[5][1]']          \n",
      "                                                                                                  \n",
      "==================================================================================================\n",
      "Total params: 109,483,009\n",
      "Trainable params: 769\n",
      "Non-trainable params: 109,482,240\n",
      "__________________________________________________________________________________________________\n"
     ]
    }
   ],
   "source": [
    "model = create_model(bert_model, fine_tune = False, gru = False)\n",
    "show_model(model)"
   ]
  },
  {
   "cell_type": "code",
   "execution_count": 60,
   "metadata": {},
   "outputs": [],
   "source": [
    "model.compile(\n",
    "    optimizer=tf.keras.optimizers.Adam(learning_rate=5e-4),\n",
    "\tloss=tf.keras.losses.BinaryCrossentropy(from_logits=False),\n",
    "    metrics=['accuracy']\n",
    ")"
   ]
  },
  {
   "cell_type": "code",
   "execution_count": 61,
   "metadata": {},
   "outputs": [],
   "source": [
    "train_dataset, valid_dataset, Xtest = create_datasets(bert_tokenizer, batch_size = 4)"
   ]
  },
  {
   "cell_type": "code",
   "execution_count": 62,
   "metadata": {},
   "outputs": [
    {
     "name": "stdout",
     "output_type": "stream",
     "text": [
      "Epoch 1/3\n",
      "1605/1605 [==============================] - 170s 98ms/step - loss: 0.5014 - accuracy: 0.7721 - val_loss: 0.4244 - val_accuracy: 0.8234\n",
      "Epoch 2/3\n",
      "1605/1605 [==============================] - 155s 96ms/step - loss: 0.4217 - accuracy: 0.8235 - val_loss: 0.3760 - val_accuracy: 0.8407\n",
      "Epoch 3/3\n",
      "1605/1605 [==============================] - 151s 94ms/step - loss: 0.3833 - accuracy: 0.8455 - val_loss: 0.3497 - val_accuracy: 0.8547\n"
     ]
    },
    {
     "data": {
      "image/png": "[encoded data removed]",
      "text/plain": [
       "<Figure size 1200x600 with 2 Axes>"
      ]
     },
     "metadata": {},
     "output_type": "display_data"
    },
    {
     "name": "stdout",
     "output_type": "stream",
     "text": [
      "535/535 [==============================] - 37s 63ms/step\n",
      "+----------+---------+\n",
      "| Metric   |   Value |\n",
      "+==========+=========+\n",
      "| Accuracy |  0.8692 |\n",
      "+----------+---------+\n",
      "+---------+-------------+----------+------------+\n",
      "| Class   |   Precision |   Recall |   F1-score |\n",
      "+=========+=============+==========+============+\n",
      "| Class 0 |      0.8878 |   0.8304 |     0.8582 |\n",
      "+---------+-------------+----------+------------+\n",
      "| Class 1 |      0.8541 |   0.9045 |     0.8786 |\n",
      "+---------+-------------+----------+------------+\n",
      "+------------------+-------------+----------+------------+\n",
      "| Average Type     |   Precision |   Recall |   F1-score |\n",
      "+==================+=============+==========+============+\n",
      "| Macro average    |      0.871  |   0.8674 |     0.8684 |\n",
      "+------------------+-------------+----------+------------+\n",
      "| Micro average    |      0.8692 |   0.8692 |     0.8692 |\n",
      "+------------------+-------------+----------+------------+\n",
      "| Weighted average |      0.8702 |   0.8692 |     0.8688 |\n",
      "+------------------+-------------+----------+------------+\n"
     ]
    },
    {
     "data": {
      "image/png": "[encoded data removed]",
      "text/plain": [
       "<Figure size 800x600 with 2 Axes>"
      ]
     },
     "metadata": {},
     "output_type": "display_data"
    }
   ],
   "source": [
    "history = model.fit(train_dataset, epochs=3, validation_data=valid_dataset)\n",
    "\n",
    "training_metrics(history)\n",
    "\n",
    "y_pred = model.predict(Xtest)\n",
    "y_pred = (y_pred >= 0.5).astype(int)\n",
    "test_metrics(test['label'], y_pred, num_classes=2)"
   ]
  },
  {
   "cell_type": "markdown",
   "metadata": {},
   "source": [
    "### 2. BERT + BiGRU"
   ]
  },
  {
   "cell_type": "code",
   "execution_count": null,
   "metadata": {},
   "outputs": [],
   "source": [
    "model = create_model(bert_model, fine_tune = False, gru = True)\n",
    "show_model(model)"
   ]
  },
  {
   "cell_type": "code",
   "execution_count": null,
   "metadata": {},
   "outputs": [],
   "source": [
    "model.compile(\n",
    "    optimizer=tf.keras.optimizers.Adam(learning_rate=5e-4),\n",
    "\tloss=tf.keras.losses.BinaryCrossentropy(from_logits=False),\n",
    "    metrics=['accuracy']\n",
    ")"
   ]
  },
  {
   "cell_type": "code",
   "execution_count": null,
   "metadata": {},
   "outputs": [],
   "source": [
    "train_dataset, valid_dataset, Xtest = create_datasets(bert_tokenizer, batch_size = 4)"
   ]
  },
  {
   "cell_type": "code",
   "execution_count": null,
   "metadata": {},
   "outputs": [],
   "source": [
    "history = model.fit(train_dataset, epochs=3, validation_data=valid_dataset)\n",
    "\n",
    "training_metrics(history)\n",
    "\n",
    "y_pred = model.predict(Xtest)\n",
    "y_pred = (y_pred >= 0.5).astype(int)\n",
    "test_metrics(test['label'], y_pred, num_classes=2)"
   ]
  },
  {
   "cell_type": "markdown",
   "metadata": {},
   "source": [
    "### 3. CT-BERT + BiGRU"
   ]
  },
  {
   "cell_type": "code",
   "execution_count": null,
   "metadata": {},
   "outputs": [],
   "source": [
    "## FIXME\n",
    "# model = create_model(CTbert_model, fine_tune = False, gru = True)\n",
    "show_model(model)"
   ]
  },
  {
   "cell_type": "code",
   "execution_count": null,
   "metadata": {},
   "outputs": [],
   "source": [
    "model.compile(\n",
    "    optimizer=tf.keras.optimizers.Adam(learning_rate=5e-4),\n",
    "\tloss=tf.keras.losses.BinaryCrossentropy(from_logits=False),\n",
    "    metrics=['accuracy']\n",
    ")"
   ]
  },
  {
   "cell_type": "code",
   "execution_count": null,
   "metadata": {},
   "outputs": [],
   "source": [
    "## FIXME\n",
    "# train_dataset, valid_dataset, Xtest = create_datasets(CTbert_tokenizer, batch_size = 4)"
   ]
  },
  {
   "cell_type": "code",
   "execution_count": null,
   "metadata": {},
   "outputs": [],
   "source": [
    "history = model.fit(train_dataset, epochs=3, validation_data=valid_dataset)\n",
    "\n",
    "training_metrics(history)\n",
    "\n",
    "y_pred = model.predict(Xtest)\n",
    "y_pred = (y_pred >= 0.5).astype(int)\n",
    "test_metrics(test['label'], y_pred, num_classes=2)"
   ]
  },
  {
   "cell_type": "markdown",
   "metadata": {},
   "source": [
    "## Fine Tune"
   ]
  },
  {
   "cell_type": "markdown",
   "metadata": {},
   "source": [
    "### 1. BERT"
   ]
  },
  {
   "cell_type": "code",
   "execution_count": null,
   "metadata": {},
   "outputs": [],
   "source": [
    "model = create_model(bert_model, fine_tune = True, gru = False)\n",
    "show_model(model)"
   ]
  },
  {
   "cell_type": "code",
   "execution_count": null,
   "metadata": {},
   "outputs": [],
   "source": [
    "model.compile(\n",
    "    optimizer=tf.keras.optimizers.Adam(learning_rate=5e-4),\n",
    "\tloss=tf.keras.losses.BinaryCrossentropy(from_logits=False),\n",
    "    metrics=['accuracy']\n",
    ")"
   ]
  },
  {
   "cell_type": "code",
   "execution_count": null,
   "metadata": {},
   "outputs": [],
   "source": [
    "train_dataset, valid_dataset, Xtest = create_datasets(bert_tokenizer, batch_size = 4)"
   ]
  },
  {
   "cell_type": "code",
   "execution_count": null,
   "metadata": {},
   "outputs": [],
   "source": [
    "history = model.fit(train_dataset, epochs=3, validation_data=valid_dataset)\n",
    "\n",
    "training_metrics(history)\n",
    "\n",
    "y_pred = model.predict(Xtest)\n",
    "y_pred = (y_pred >= 0.5).astype(int)\n",
    "test_metrics(test['label'], y_pred, num_classes=2)"
   ]
  },
  {
   "cell_type": "markdown",
   "metadata": {},
   "source": [
    "### 2. BERT + BiGRU"
   ]
  },
  {
   "cell_type": "code",
   "execution_count": null,
   "metadata": {},
   "outputs": [],
   "source": [
    "model = create_model(bert_model, fine_tune = True, gru = True)\n",
    "show_model(model)"
   ]
  },
  {
   "cell_type": "code",
   "execution_count": null,
   "metadata": {},
   "outputs": [],
   "source": [
    "model.compile(\n",
    "    optimizer=tf.keras.optimizers.Adam(learning_rate=5e-4),\n",
    "\tloss=tf.keras.losses.BinaryCrossentropy(from_logits=False),\n",
    "    metrics=['accuracy']\n",
    ")"
   ]
  },
  {
   "cell_type": "code",
   "execution_count": null,
   "metadata": {},
   "outputs": [],
   "source": [
    "train_dataset, valid_dataset, Xtest = create_datasets(bert_tokenizer, batch_size = 4)"
   ]
  },
  {
   "cell_type": "code",
   "execution_count": null,
   "metadata": {},
   "outputs": [],
   "source": [
    "history = model.fit(train_dataset, epochs=3, validation_data=valid_dataset)\n",
    "\n",
    "training_metrics(history)\n",
    "\n",
    "y_pred = model.predict(Xtest)\n",
    "y_pred = (y_pred >= 0.5).astype(int)\n",
    "test_metrics(test['label'], y_pred, num_classes=2)"
   ]
  },
  {
   "cell_type": "markdown",
   "metadata": {},
   "source": [
    "### 3. CT-BERT + BiGRU"
   ]
  },
  {
   "cell_type": "code",
   "execution_count": null,
   "metadata": {},
   "outputs": [],
   "source": [
    "## FIXME\n",
    "# model = create_model(CTbert_model, fine_tune = True, gru = True)\n",
    "show_model(model)"
   ]
  },
  {
   "cell_type": "code",
   "execution_count": null,
   "metadata": {},
   "outputs": [],
   "source": [
    "model.compile(\n",
    "    optimizer=tf.keras.optimizers.Adam(learning_rate=5e-4),\n",
    "\tloss=tf.keras.losses.BinaryCrossentropy(from_logits=False),\n",
    "    metrics=['accuracy']\n",
    ")"
   ]
  },
  {
   "cell_type": "code",
   "execution_count": null,
   "metadata": {},
   "outputs": [],
   "source": [
    "## FIXME\n",
    "# train_dataset, valid_dataset, Xtest = create_datasets(CTbert_tokenizer, batch_size = 4)"
   ]
  },
  {
   "cell_type": "code",
   "execution_count": null,
   "metadata": {},
   "outputs": [],
   "source": [
    "history = model.fit(train_dataset, epochs=3, validation_data=valid_dataset)\n",
    "\n",
    "training_metrics(history)\n",
    "\n",
    "y_pred = model.predict(Xtest)\n",
    "y_pred = (y_pred >= 0.5).astype(int)\n",
    "test_metrics(test['label'], y_pred, num_classes=2)"
   ]
  }
 ],
 "metadata": {
  "kernelspec": {
   "display_name": "Python 3",
   "language": "python",
   "name": "python3"
  },
  "language_info": {
   "codemirror_mode": {
    "name": "ipython",
    "version": 3
   },
   "file_extension": ".py",
   "mimetype": "text/x-python",
   "name": "python",
   "nbconvert_exporter": "python",
   "pygments_lexer": "ipython3",
   "version": "3.10.5"
  }
 },
 "nbformat": 4,
 "nbformat_minor": 2
}
